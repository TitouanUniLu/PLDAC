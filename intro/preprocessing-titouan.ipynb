{
 "cells": [
  {
   "cell_type": "code",
   "execution_count": 192,
   "metadata": {},
   "outputs": [
    {
     "name": "stdout",
     "output_type": "stream",
     "text": [
      "Available actions: 2\n",
      "Action 1\n",
      "Action 1\n"
     ]
    }
   ],
   "source": [
    "import gym\n",
    "import matplotlib.pyplot as plt\n",
    "\n",
    "env = gym.make('CartPole-v1', render_mode=\"rgb_array\")\n",
    "observation = env.reset()\n",
    "NFRAMES = 4\n",
    "print(\"Available actions:\", env.action_space.n)\n",
    "for action in range(env.action_space.n):\n",
    "    print(f\"Action {env.action_space.sample()}\")\n",
    "# action 0 gauche et action 1 droite\n",
    "\n",
    "''' On recupere NFRAMES frames (4 ici)'''\n",
    "def get_frames(func, nframes):\n",
    "    processed_frames = []\n",
    "    \n",
    "    # Reset environment and get initial observation\n",
    "    observation = env.reset()[0]\n",
    "    print(f'obs: {observation}')\n",
    "    \n",
    "    processed_frames.append(func(env, observation))\n",
    "    \n",
    "    # Enter loop to take actions and get subsequent observations\n",
    "    for i in range(1, nframes):  # Start from 1 because the first observation is already processed\n",
    "        # Take a random action\n",
    "        action = env.action_space.sample()\n",
    "        print(f'env.step(action) {env.step(action)}')\n",
    "        action_res = env.step(action)\n",
    "        action_res = action_res[0:4]\n",
    "        print(action_res)\n",
    "        observation, reward, done, info = action_res\n",
    "        \n",
    "        # Append processed frame\n",
    "        processed_frames.append(func(env, observation))\n",
    "        \n",
    "        # Break if episode is done\n",
    "        if done:\n",
    "            break\n",
    "\n",
    "    env.close()\n",
    "    return processed_frames\n",
    "\n",
    "\n",
    "# Function to display list of frames\n",
    "def display_list_frames(frames):\n",
    "    fig, axes = plt.subplots(1, len(frames), figsize=(30, 6))\n",
    "    for i, frame in enumerate(frames):\n",
    "        axes[i].imshow(frame)\n",
    "        axes[i].axis('off')\n",
    "    plt.show()\n"
   ]
  },
  {
   "cell_type": "code",
   "execution_count": 193,
   "metadata": {},
   "outputs": [],
   "source": [
    "import numpy as np\n",
    "\n",
    "def custom_render(env, obs):\n",
    "    # Unpack observation\n",
    "    print('INSIDE CUSTOM RENDER RN')\n",
    "    print(f'obs: {obs}')\n",
    "    print(f'amount of observations: {len(obs)}')\n",
    "    print(f'cart position: {obs[0]}')\n",
    "    print(f'pole angle: {obs[2]}')\n",
    "\n",
    "    cart_x = obs[0]\n",
    "    pole_angle = obs[2]\n",
    "    \n",
    "    # Modify the pole angle for visualization\n",
    "    visual_pole_angle = np.degrees(pole_angle) * 2  # Double the angle for visualization\n",
    "    \n",
    "    # Render the environment\n",
    "    env.render()\n",
    "    \n",
    "    # Draw the cart and pole with modified angle\n",
    "    cart_width = 0.4\n",
    "    cart_height = 0.2\n",
    "    pole_length = 1.0\n",
    "    pole_x = cart_x\n",
    "    pole_y = 0.1  # Height of the cart\n",
    "    pole_end_x = pole_x + pole_length * np.sin(np.radians(visual_pole_angle))\n",
    "    pole_end_y = pole_y + pole_length * np.cos(np.radians(visual_pole_angle))\n",
    "    \n",
    "    # Draw the cart\n",
    "    plt.gca().add_patch(plt.Rectangle((cart_x - cart_width / 2, 0), cart_width, cart_height, fill=True, color='blue'))\n",
    "    \n",
    "    # Draw the pole\n",
    "    plt.plot([pole_x, pole_end_x], [pole_y, pole_end_y], color='red', linewidth=3)\n",
    "    \n",
    "    # Set plot limits\n",
    "    plt.xlim(-2.5, 2.5)\n",
    "    plt.ylim(0, 2)\n",
    "    plt.gca().set_aspect('equal', adjustable='box')\n",
    "    plt.axis('off')\n",
    "    \n",
    "    # Update the display\n",
    "    plt.pause(0.01)\n",
    "    print('EXITING CUSTOM RENDER RN')"
   ]
  },
  {
   "cell_type": "code",
   "execution_count": 194,
   "metadata": {},
   "outputs": [
    {
     "name": "stdout",
     "output_type": "stream",
     "text": [
      "obs: [-0.01700919 -0.04007174  0.00449812  0.04710956]\n",
      "INSIDE CUSTOM RENDER RN\n",
      "obs: [-0.01700919 -0.04007174  0.00449812  0.04710956]\n",
      "amount of observations: 4\n",
      "cart position: -0.01700918935239315\n",
      "pole angle: 0.004498116672039032\n"
     ]
    },
    {
     "data": {
      "image/png": "[encoded data removed]",
      "text/plain": [
       "<Figure size 432x288 with 1 Axes>"
      ]
     },
     "metadata": {
      "needs_background": "light"
     },
     "output_type": "display_data"
    },
    {
     "name": "stdout",
     "output_type": "stream",
     "text": [
      "EXITING CUSTOM RENDER RN\n",
      "env.step(action) (array([-0.01781062, -0.23525791,  0.00544031,  0.34120828], dtype=float32), 1.0, False, False, {})\n",
      "(array([-0.02251578, -0.43045685,  0.01226447,  0.63560176], dtype=float32), 1.0, False, False)\n",
      "INSIDE CUSTOM RENDER RN\n",
      "obs: [-0.02251578 -0.43045685  0.01226447  0.63560176]\n",
      "amount of observations: 4\n",
      "cart position: -0.022515783086419106\n",
      "pole angle: 0.012264473363757133\n"
     ]
    },
    {
     "data": {
      "image/png": "[encoded data removed]",
      "text/plain": [
       "<Figure size 432x288 with 1 Axes>"
      ]
     },
     "metadata": {
      "needs_background": "light"
     },
     "output_type": "display_data"
    },
    {
     "name": "stdout",
     "output_type": "stream",
     "text": [
      "EXITING CUSTOM RENDER RN\n",
      "env.step(action) (array([-0.03112492, -0.6257477 ,  0.02497651,  0.9321217 ], dtype=float32), 1.0, False, False, {})\n",
      "(array([-0.04363987, -0.82119757,  0.04361894,  1.2325474 ], dtype=float32), 1.0, False, False)\n",
      "INSIDE CUSTOM RENDER RN\n",
      "obs: [-0.04363987 -0.82119757  0.04361894  1.2325474 ]\n",
      "amount of observations: 4\n",
      "cart position: -0.04363987222313881\n",
      "pole angle: 0.04361894354224205\n"
     ]
    },
    {
     "data": {
      "image/png": "[encoded data removed]",
      "text/plain": [
       "<Figure size 432x288 with 1 Axes>"
      ]
     },
     "metadata": {
      "needs_background": "light"
     },
     "output_type": "display_data"
    },
    {
     "name": "stdout",
     "output_type": "stream",
     "text": [
      "EXITING CUSTOM RENDER RN\n",
      "env.step(action) (array([-0.06006382, -1.0168525 ,  0.06826989,  1.5385705 ], dtype=float32), 1.0, False, False, {})\n",
      "(array([-0.08040088, -1.2127262 ,  0.09904131,  1.8517525 ], dtype=float32), 1.0, False, False)\n",
      "INSIDE CUSTOM RENDER RN\n",
      "obs: [-0.08040088 -1.2127262   0.09904131  1.8517525 ]\n",
      "amount of observations: 4\n",
      "cart position: -0.08040087670087814\n",
      "pole angle: 0.09904130548238754\n"
     ]
    },
    {
     "data": {
      "image/png": "[encoded data removed]",
      "text/plain": [
       "<Figure size 432x288 with 1 Axes>"
      ]
     },
     "metadata": {
      "needs_background": "light"
     },
     "output_type": "display_data"
    },
    {
     "name": "stdout",
     "output_type": "stream",
     "text": [
      "EXITING CUSTOM RENDER RN\n"
     ]
    },
    {
     "ename": "TypeError",
     "evalue": "Image data of dtype object cannot be converted to float",
     "output_type": "error",
     "traceback": [
      "\u001b[1;31m---------------------------------------------------------------------------\u001b[0m",
      "\u001b[1;31mTypeError\u001b[0m                                 Traceback (most recent call last)",
      "Input \u001b[1;32mIn [194]\u001b[0m, in \u001b[0;36m<cell line: 19>\u001b[1;34m()\u001b[0m\n\u001b[0;32m     16\u001b[0m frames \u001b[38;5;241m=\u001b[39m get_frames(custom_render, NFRAMES)\n\u001b[0;32m     18\u001b[0m \u001b[38;5;66;03m# Display frames\u001b[39;00m\n\u001b[1;32m---> 19\u001b[0m \u001b[43mdisplay_list_frames\u001b[49m\u001b[43m(\u001b[49m\u001b[43mframes\u001b[49m\u001b[43m)\u001b[49m\n",
      "Input \u001b[1;32mIn [192]\u001b[0m, in \u001b[0;36mdisplay_list_frames\u001b[1;34m(frames)\u001b[0m\n\u001b[0;32m     45\u001b[0m fig, axes \u001b[38;5;241m=\u001b[39m plt\u001b[38;5;241m.\u001b[39msubplots(\u001b[38;5;241m1\u001b[39m, \u001b[38;5;28mlen\u001b[39m(frames), figsize\u001b[38;5;241m=\u001b[39m(\u001b[38;5;241m30\u001b[39m, \u001b[38;5;241m6\u001b[39m))\n\u001b[0;32m     46\u001b[0m \u001b[38;5;28;01mfor\u001b[39;00m i, frame \u001b[38;5;129;01min\u001b[39;00m \u001b[38;5;28menumerate\u001b[39m(frames):\n\u001b[1;32m---> 47\u001b[0m     \u001b[43maxes\u001b[49m\u001b[43m[\u001b[49m\u001b[43mi\u001b[49m\u001b[43m]\u001b[49m\u001b[38;5;241;43m.\u001b[39;49m\u001b[43mimshow\u001b[49m\u001b[43m(\u001b[49m\u001b[43mframe\u001b[49m\u001b[43m)\u001b[49m\n\u001b[0;32m     48\u001b[0m     axes[i]\u001b[38;5;241m.\u001b[39maxis(\u001b[38;5;124m'\u001b[39m\u001b[38;5;124moff\u001b[39m\u001b[38;5;124m'\u001b[39m)\n\u001b[0;32m     49\u001b[0m plt\u001b[38;5;241m.\u001b[39mshow()\n",
      "File \u001b[1;32mc:\\Users\\titouan\\anaconda3\\lib\\site-packages\\matplotlib\\_api\\deprecation.py:456\u001b[0m, in \u001b[0;36mmake_keyword_only.<locals>.wrapper\u001b[1;34m(*args, **kwargs)\u001b[0m\n\u001b[0;32m    450\u001b[0m \u001b[38;5;28;01mif\u001b[39;00m \u001b[38;5;28mlen\u001b[39m(args) \u001b[38;5;241m>\u001b[39m name_idx:\n\u001b[0;32m    451\u001b[0m     warn_deprecated(\n\u001b[0;32m    452\u001b[0m         since, message\u001b[38;5;241m=\u001b[39m\u001b[38;5;124m\"\u001b[39m\u001b[38;5;124mPassing the \u001b[39m\u001b[38;5;132;01m%(name)s\u001b[39;00m\u001b[38;5;124m \u001b[39m\u001b[38;5;132;01m%(obj_type)s\u001b[39;00m\u001b[38;5;124m \u001b[39m\u001b[38;5;124m\"\u001b[39m\n\u001b[0;32m    453\u001b[0m         \u001b[38;5;124m\"\u001b[39m\u001b[38;5;124mpositionally is deprecated since Matplotlib \u001b[39m\u001b[38;5;132;01m%(since)s\u001b[39;00m\u001b[38;5;124m; the \u001b[39m\u001b[38;5;124m\"\u001b[39m\n\u001b[0;32m    454\u001b[0m         \u001b[38;5;124m\"\u001b[39m\u001b[38;5;124mparameter will become keyword-only \u001b[39m\u001b[38;5;132;01m%(removal)s\u001b[39;00m\u001b[38;5;124m.\u001b[39m\u001b[38;5;124m\"\u001b[39m,\n\u001b[0;32m    455\u001b[0m         name\u001b[38;5;241m=\u001b[39mname, obj_type\u001b[38;5;241m=\u001b[39m\u001b[38;5;124mf\u001b[39m\u001b[38;5;124m\"\u001b[39m\u001b[38;5;124mparameter of \u001b[39m\u001b[38;5;132;01m{\u001b[39;00mfunc\u001b[38;5;241m.\u001b[39m\u001b[38;5;18m__name__\u001b[39m\u001b[38;5;132;01m}\u001b[39;00m\u001b[38;5;124m()\u001b[39m\u001b[38;5;124m\"\u001b[39m)\n\u001b[1;32m--> 456\u001b[0m \u001b[38;5;28;01mreturn\u001b[39;00m func(\u001b[38;5;241m*\u001b[39margs, \u001b[38;5;241m*\u001b[39m\u001b[38;5;241m*\u001b[39mkwargs)\n",
      "File \u001b[1;32mc:\\Users\\titouan\\anaconda3\\lib\\site-packages\\matplotlib\\__init__.py:1412\u001b[0m, in \u001b[0;36m_preprocess_data.<locals>.inner\u001b[1;34m(ax, data, *args, **kwargs)\u001b[0m\n\u001b[0;32m   1409\u001b[0m \u001b[38;5;129m@functools\u001b[39m\u001b[38;5;241m.\u001b[39mwraps(func)\n\u001b[0;32m   1410\u001b[0m \u001b[38;5;28;01mdef\u001b[39;00m \u001b[38;5;21minner\u001b[39m(ax, \u001b[38;5;241m*\u001b[39margs, data\u001b[38;5;241m=\u001b[39m\u001b[38;5;28;01mNone\u001b[39;00m, \u001b[38;5;241m*\u001b[39m\u001b[38;5;241m*\u001b[39mkwargs):\n\u001b[0;32m   1411\u001b[0m     \u001b[38;5;28;01mif\u001b[39;00m data \u001b[38;5;129;01mis\u001b[39;00m \u001b[38;5;28;01mNone\u001b[39;00m:\n\u001b[1;32m-> 1412\u001b[0m         \u001b[38;5;28;01mreturn\u001b[39;00m func(ax, \u001b[38;5;241m*\u001b[39m\u001b[38;5;28mmap\u001b[39m(sanitize_sequence, args), \u001b[38;5;241m*\u001b[39m\u001b[38;5;241m*\u001b[39mkwargs)\n\u001b[0;32m   1414\u001b[0m     bound \u001b[38;5;241m=\u001b[39m new_sig\u001b[38;5;241m.\u001b[39mbind(ax, \u001b[38;5;241m*\u001b[39margs, \u001b[38;5;241m*\u001b[39m\u001b[38;5;241m*\u001b[39mkwargs)\n\u001b[0;32m   1415\u001b[0m     auto_label \u001b[38;5;241m=\u001b[39m (bound\u001b[38;5;241m.\u001b[39marguments\u001b[38;5;241m.\u001b[39mget(label_namer)\n\u001b[0;32m   1416\u001b[0m                   \u001b[38;5;129;01mor\u001b[39;00m bound\u001b[38;5;241m.\u001b[39mkwargs\u001b[38;5;241m.\u001b[39mget(label_namer))\n",
      "File \u001b[1;32mc:\\Users\\titouan\\anaconda3\\lib\\site-packages\\matplotlib\\axes\\_axes.py:5488\u001b[0m, in \u001b[0;36mAxes.imshow\u001b[1;34m(self, X, cmap, norm, aspect, interpolation, alpha, vmin, vmax, origin, extent, interpolation_stage, filternorm, filterrad, resample, url, **kwargs)\u001b[0m\n\u001b[0;32m   5481\u001b[0m \u001b[38;5;28mself\u001b[39m\u001b[38;5;241m.\u001b[39mset_aspect(aspect)\n\u001b[0;32m   5482\u001b[0m im \u001b[38;5;241m=\u001b[39m mimage\u001b[38;5;241m.\u001b[39mAxesImage(\u001b[38;5;28mself\u001b[39m, cmap, norm, interpolation,\n\u001b[0;32m   5483\u001b[0m                       origin, extent, filternorm\u001b[38;5;241m=\u001b[39mfilternorm,\n\u001b[0;32m   5484\u001b[0m                       filterrad\u001b[38;5;241m=\u001b[39mfilterrad, resample\u001b[38;5;241m=\u001b[39mresample,\n\u001b[0;32m   5485\u001b[0m                       interpolation_stage\u001b[38;5;241m=\u001b[39minterpolation_stage,\n\u001b[0;32m   5486\u001b[0m                       \u001b[38;5;241m*\u001b[39m\u001b[38;5;241m*\u001b[39mkwargs)\n\u001b[1;32m-> 5488\u001b[0m \u001b[43mim\u001b[49m\u001b[38;5;241;43m.\u001b[39;49m\u001b[43mset_data\u001b[49m\u001b[43m(\u001b[49m\u001b[43mX\u001b[49m\u001b[43m)\u001b[49m\n\u001b[0;32m   5489\u001b[0m im\u001b[38;5;241m.\u001b[39mset_alpha(alpha)\n\u001b[0;32m   5490\u001b[0m \u001b[38;5;28;01mif\u001b[39;00m im\u001b[38;5;241m.\u001b[39mget_clip_path() \u001b[38;5;129;01mis\u001b[39;00m \u001b[38;5;28;01mNone\u001b[39;00m:\n\u001b[0;32m   5491\u001b[0m     \u001b[38;5;66;03m# image does not already have clipping set, clip to axes patch\u001b[39;00m\n",
      "File \u001b[1;32mc:\\Users\\titouan\\anaconda3\\lib\\site-packages\\matplotlib\\image.py:706\u001b[0m, in \u001b[0;36m_ImageBase.set_data\u001b[1;34m(self, A)\u001b[0m\n\u001b[0;32m    702\u001b[0m \u001b[38;5;28mself\u001b[39m\u001b[38;5;241m.\u001b[39m_A \u001b[38;5;241m=\u001b[39m cbook\u001b[38;5;241m.\u001b[39msafe_masked_invalid(A, copy\u001b[38;5;241m=\u001b[39m\u001b[38;5;28;01mTrue\u001b[39;00m)\n\u001b[0;32m    704\u001b[0m \u001b[38;5;28;01mif\u001b[39;00m (\u001b[38;5;28mself\u001b[39m\u001b[38;5;241m.\u001b[39m_A\u001b[38;5;241m.\u001b[39mdtype \u001b[38;5;241m!=\u001b[39m np\u001b[38;5;241m.\u001b[39muint8 \u001b[38;5;129;01mand\u001b[39;00m\n\u001b[0;32m    705\u001b[0m         \u001b[38;5;129;01mnot\u001b[39;00m np\u001b[38;5;241m.\u001b[39mcan_cast(\u001b[38;5;28mself\u001b[39m\u001b[38;5;241m.\u001b[39m_A\u001b[38;5;241m.\u001b[39mdtype, \u001b[38;5;28mfloat\u001b[39m, \u001b[38;5;124m\"\u001b[39m\u001b[38;5;124msame_kind\u001b[39m\u001b[38;5;124m\"\u001b[39m)):\n\u001b[1;32m--> 706\u001b[0m     \u001b[38;5;28;01mraise\u001b[39;00m \u001b[38;5;167;01mTypeError\u001b[39;00m(\u001b[38;5;124m\"\u001b[39m\u001b[38;5;124mImage data of dtype \u001b[39m\u001b[38;5;132;01m{}\u001b[39;00m\u001b[38;5;124m cannot be converted to \u001b[39m\u001b[38;5;124m\"\u001b[39m\n\u001b[0;32m    707\u001b[0m                     \u001b[38;5;124m\"\u001b[39m\u001b[38;5;124mfloat\u001b[39m\u001b[38;5;124m\"\u001b[39m\u001b[38;5;241m.\u001b[39mformat(\u001b[38;5;28mself\u001b[39m\u001b[38;5;241m.\u001b[39m_A\u001b[38;5;241m.\u001b[39mdtype))\n\u001b[0;32m    709\u001b[0m \u001b[38;5;28;01mif\u001b[39;00m \u001b[38;5;28mself\u001b[39m\u001b[38;5;241m.\u001b[39m_A\u001b[38;5;241m.\u001b[39mndim \u001b[38;5;241m==\u001b[39m \u001b[38;5;241m3\u001b[39m \u001b[38;5;129;01mand\u001b[39;00m \u001b[38;5;28mself\u001b[39m\u001b[38;5;241m.\u001b[39m_A\u001b[38;5;241m.\u001b[39mshape[\u001b[38;5;241m-\u001b[39m\u001b[38;5;241m1\u001b[39m] \u001b[38;5;241m==\u001b[39m \u001b[38;5;241m1\u001b[39m:\n\u001b[0;32m    710\u001b[0m     \u001b[38;5;66;03m# If just one dimension assume scalar and apply colormap\u001b[39;00m\n\u001b[0;32m    711\u001b[0m     \u001b[38;5;28mself\u001b[39m\u001b[38;5;241m.\u001b[39m_A \u001b[38;5;241m=\u001b[39m \u001b[38;5;28mself\u001b[39m\u001b[38;5;241m.\u001b[39m_A[:, :, \u001b[38;5;241m0\u001b[39m]\n",
      "\u001b[1;31mTypeError\u001b[0m: Image data of dtype object cannot be converted to float"
     ]
    },
    {
     "data": {
      "image/png": "[encoded data removed]",
      "text/plain": [
       "<Figure size 2160x432 with 4 Axes>"
      ]
     },
     "metadata": {
      "needs_background": "light"
     },
     "output_type": "display_data"
    }
   ],
   "source": [
    "''' PREPROCESSING'''\n",
    "import numpy as np\n",
    "from skimage.color import rgb2gray\n",
    "from skimage.transform import resize\n",
    "\n",
    "# Function to preprocess a single frame\n",
    "def preprocess_frame(frame):\n",
    "    # Convert to grayscale\n",
    "    gray_frame = rgb2gray(frame)\n",
    "    # Resize to a fixed size (e.g., 84x84)\n",
    "    resized_frame = resize(gray_frame, (84, 84), anti_aliasing=True)\n",
    "    # Scale pixel values to [0, 1]\n",
    "    preprocessed_frame = resized_frame.astype(np.float32) / 255.0\n",
    "    return preprocessed_frame\n",
    "\n",
    "frames = get_frames(custom_render, NFRAMES)\n",
    "print(f'MANAGED TO GET ALL {NFRAMES} frames')\n",
    "\n",
    "# Display frames\n",
    "display_list_frames(frames)"
   ]
  }
 ],
 "metadata": {
  "kernelspec": {
   "display_name": "base",
   "language": "python",
   "name": "python3"
  },
  "language_info": {
   "codemirror_mode": {
    "name": "ipython",
    "version": 3
   },
   "file_extension": ".py",
   "mimetype": "text/x-python",
   "name": "python",
   "nbconvert_exporter": "python",
   "pygments_lexer": "ipython3",
   "version": "3.9.12"
  }
 },
 "nbformat": 4,
 "nbformat_minor": 2
}
