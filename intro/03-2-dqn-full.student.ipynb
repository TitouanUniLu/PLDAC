{
 "cells": [
  {
   "cell_type": "markdown",
   "id": "addb807a",
   "metadata": {
    "lines_to_next_cell": 2
   },
   "source": [
    "# Outlook\n",
    "\n",
    "In this notebook, using BBRL, we code a version of the DQN algorithm with a\n",
    "replay buffer and a target network, using the AutoReset approach.\n",
    "\n",
    "To understand this code, you need to know more about \n",
    "[the BBRL interaction model](https://colab.research.google.com/drive/1_yp-JKkxh_P8Yhctulqm0IrLbE41oK1p?usp=sharing).\n",
    "Then you should run [a first example](https://colab.research.google.com/drive/1Ui481r47fNHCQsQfKwdoNEVrEiqAEokh?usp=sharing)\n",
    "to see how agents interact.\n",
    "\n",
    "You also need to understand [details about\n",
    "autoreset=True](https://colab.research.google.com/drive/1W9Y-3fa6LsPeR6cBC1vgwBjKfgMwZvP5?usp=sharing).\n",
    "\n",
    "The DQN algorithm is explained in [this\n",
    "video](https://www.youtube.com/watch?v=CXwvOMJujZk) and you can also read [the\n",
    "corresponding slides](http://pages.isir.upmc.fr/~sigaud/teach/dqn.pdf).\n",
    "\n",
    "In this notebook, you will learn how to modify the previous notebook:\n",
    "\n",
    "- to use a replay buffer and an environment that resets\n",
    "- to use a target network for $Q$\n",
    "- to use a better estimation for the maximum (Double-DQN)"
   ]
  },
  {
   "cell_type": "markdown",
   "id": "19f32a9d",
   "metadata": {},
   "source": [
    "## Installation and Imports\n",
    "\n",
    "### Installation\n",
    "\n",
    "The BBRL library is [here](https://github.com/osigaud/bbrl).\n",
    "\n",
    "We use OmegaConf to that makes it possible that by just defining the `def\n",
    "run_dqn(cfg):` function and then executing a long `params = {...}` variable at\n",
    "the bottom of this colab, the code is run with the parameters without calling\n",
    "an explicit main.\n",
    "\n",
    "More precisely, the code is run by calling\n",
    "\n",
    "`config=OmegaConf.create(params)`\n",
    "\n",
    "`run_dqn(config)`\n",
    "\n",
    "at the very bottom of the colab, after starting tensorboard.\n",
    "\n",
    "Below, we import standard python packages, pytorch packages and gymnasium\n",
    "environments."
   ]
  },
  {
   "cell_type": "code",
   "execution_count": 1,
   "id": "4bc26d74",
   "metadata": {
    "jupyter": {
     "source_hidden": true
    },
    "tags": [
     "hide-input"
    ]
   },
   "outputs": [
    {
     "name": "stderr",
     "output_type": "stream",
     "text": [
      "[easypip] Installing bbrl_gymnasium>=0.2.0\n",
      "[easypip] Installing bbrl_gymnasium[box2d]\n",
      "[easypip] Installing bbrl_gymnasium[classic_control]\n"
     ]
    }
   ],
   "source": [
    "# Installs the necessary Python and system libraries\n",
    "try:\n",
    "    from easypip import easyimport, easyinstall, is_notebook\n",
    "except ModuleNotFoundError as e:\n",
    "    get_ipython().run_line_magic(\"pip\", \"install easypip\")\n",
    "    from easypip import easyimport, easyinstall, is_notebook\n",
    "\n",
    "easyinstall(\"bbrl>=0.2.2\")\n",
    "easyinstall(\"swig\")\n",
    "easyinstall(\"bbrl_gymnasium>=0.2.0\")\n",
    "easyinstall(\"bbrl_gymnasium[box2d]\")\n",
    "easyinstall(\"bbrl_gymnasium[classic_control]\")\n",
    "easyinstall(\"tensorboard\")\n",
    "easyinstall(\"moviepy\")\n",
    "easyinstall(\"box2d-kengz\")"
   ]
  },
  {
   "cell_type": "code",
   "execution_count": 2,
   "id": "19b1682e",
   "metadata": {
    "jupyter": {
     "source_hidden": true
    },
    "tags": [
     "hide-input"
    ]
   },
   "outputs": [
    {
     "name": "stderr",
     "output_type": "stream",
     "text": [
      "WARNING:py.warnings:c:\\Users\\titou\\AppData\\Local\\Programs\\Python\\Python312\\Lib\\site-packages\\tqdm\\auto.py:21: TqdmWarning: IProgress not found. Please update jupyter and ipywidgets. See https://ipywidgets.readthedocs.io/en/stable/user_install.html\n",
      "  from .autonotebook import tqdm as notebook_tqdm\n",
      "\n"
     ]
    }
   ],
   "source": [
    "import os\n",
    "import sys\n",
    "from pathlib import Path\n",
    "import math\n",
    "\n",
    "from moviepy.editor import ipython_display as video_display\n",
    "import time\n",
    "from tqdm.auto import tqdm\n",
    "from typing import Tuple, Optional\n",
    "from functools import partial\n",
    "\n",
    "from omegaconf import OmegaConf\n",
    "import torch\n",
    "import bbrl_gymnasium\n",
    "\n",
    "import copy\n",
    "from abc import abstractmethod, ABC\n",
    "import torch.nn as nn\n",
    "import torch.nn.functional as F\n",
    "from time import strftime\n",
    "OmegaConf.register_new_resolver(\n",
    "    \"current_time\", lambda: strftime(\"%Y%m%d-%H%M%S\"), replace=True\n",
    ")"
   ]
  },
  {
   "cell_type": "code",
   "execution_count": 3,
   "id": "96d85d92",
   "metadata": {
    "jupyter": {
     "source_hidden": true
    },
    "tags": [
     "hide-input"
    ]
   },
   "outputs": [],
   "source": [
    "# Imports all the necessary classes and functions from BBRL\n",
    "from bbrl.agents.agent import Agent\n",
    "from bbrl import get_arguments, get_class, instantiate_class\n",
    "# The workspace is the main class in BBRL, this is where all data is collected and stored\n",
    "from bbrl.workspace import Workspace\n",
    "\n",
    "# Agents(agent1,agent2,agent3,...) executes the different agents the one after the other\n",
    "# TemporalAgent(agent) executes an agent over multiple timesteps in the workspace, \n",
    "# or until a given condition is reached\n",
    "from bbrl.agents import Agents, TemporalAgent\n",
    "\n",
    "# ParallelGymAgent is an agent able to execute a batch of gymnasium environments\n",
    "# with auto-resetting. These agents produce multiple variables in the workspace:\n",
    "# ’env/env_obs’, ’env/reward’, ’env/timestep’, ’env/terminated’,\n",
    "# 'env/truncated', 'env/done', ’env/cumulated_reward’, ... \n",
    "# \n",
    "# When called at timestep t=0, the environments are automatically reset. At\n",
    "# timestep t>0, these agents will read the ’action’ variable in the workspace at\n",
    "# time t − 1\n",
    "from bbrl.agents.gymnasium import GymAgent, ParallelGymAgent, make_env, record_video\n",
    "\n",
    "# Replay buffers are useful to store past transitions when training\n",
    "from bbrl.utils.replay_buffer import ReplayBuffer"
   ]
  },
  {
   "cell_type": "code",
   "execution_count": 4,
   "id": "551ee403",
   "metadata": {
    "jupyter": {
     "source_hidden": true
    },
    "lines_to_next_cell": 1,
    "tags": [
     "hide-input"
    ]
   },
   "outputs": [],
   "source": [
    "# Utility function for launching tensorboard\n",
    "# For Colab - otherwise, it is easier and better to launch tensorboard from\n",
    "# the terminal\n",
    "def setup_tensorboard(path):\n",
    "    path = Path(path)\n",
    "    answer = \"\"\n",
    "    if is_notebook():\n",
    "        if get_ipython().__class__.__module__ == \"google.colab._shell\":\n",
    "            answer = \"y\"\n",
    "        while answer not in [\"y\", \"n\"]:\n",
    "                answer = input(f\"Do you want to launch tensorboard in this notebook [y/n] \").lower()\n",
    "\n",
    "    if answer == \"y\":\n",
    "        get_ipython().run_line_magic(\"load_ext\", \"tensorboard\")\n",
    "        get_ipython().run_line_magic(\"tensorboard\", f\"--logdir {path.absolute()}\")\n",
    "    else:\n",
    "        import sys\n",
    "        import os\n",
    "        import os.path as osp\n",
    "        print(f\"Launch tensorboard from the shell:\\n{osp.dirname(sys.executable)}/tensorboard --logdir={path.absolute()}\")"
   ]
  },
  {
   "cell_type": "markdown",
   "id": "371a3018",
   "metadata": {},
   "source": [
    "As before, we start with a Random Agent and 3 instances of the CartPole environment"
   ]
  },
  {
   "cell_type": "code",
   "execution_count": 5,
   "id": "995523d9",
   "metadata": {
    "lines_to_next_cell": 2
   },
   "outputs": [
    {
     "name": "stdout",
     "output_type": "stream",
     "text": [
      "Environment: observation space in R^4 and action space R^2\n"
     ]
    }
   ],
   "source": [
    "# We deal with 3 a single environment (random seed 2139)\n",
    "\n",
    "env_agent = ParallelGymAgent(partial(make_env, env_name='CartPole-v1'), 1).seed(2139)\n",
    "obs_size, action_dim = env_agent.get_obs_and_actions_sizes()\n",
    "print(f\"Environment: observation space in R^{obs_size} and action space R^{action_dim}\")\n",
    "\n",
    "class RandomAgent(Agent):\n",
    "    def __init__(self, action_dim):\n",
    "        super().__init__()\n",
    "        self.action_dim = action_dim\n",
    "\n",
    "    def forward(self, t: int, choose_action=True, **kwargs):\n",
    "        \"\"\"An Agent can use self.workspace\"\"\"\n",
    "        obs = self.get((\"env/env_obs\", t))\n",
    "        action = torch.randint(0, self.action_dim, (len(obs), ))\n",
    "        self.set((\"action\", t), action)\n",
    "\n",
    "# Each agent will be run (in the order given when constructing Agents)\n",
    "agents = Agents(env_agent, RandomAgent(action_dim))\n",
    "t_agents = TemporalAgent(agents)"
   ]
  },
  {
   "cell_type": "markdown",
   "id": "cebc474c",
   "metadata": {},
   "source": [
    "Let us have a closer look at the content of the workspace"
   ]
  },
  {
   "cell_type": "code",
   "execution_count": 6,
   "id": "760af875",
   "metadata": {},
   "outputs": [
    {
     "data": {
      "text/plain": [
       "'Observations (first 3)'"
      ]
     },
     "metadata": {},
     "output_type": "display_data"
    },
    {
     "data": {
      "text/plain": [
       "tensor([[-0.0471,  0.0265,  0.0220, -0.0336],\n",
       "        [-0.0466, -0.1689,  0.0214,  0.2660],\n",
       "        [-0.0500, -0.3643,  0.0267,  0.5653]])"
      ]
     },
     "metadata": {},
     "output_type": "display_data"
    },
    {
     "data": {
      "text/plain": [
       "'Transitions of actions (first 3)'"
      ]
     },
     "metadata": {},
     "output_type": "display_data"
    },
    {
     "data": {
      "text/plain": [
       "'(s_0, s_1)'"
      ]
     },
     "metadata": {},
     "output_type": "display_data"
    },
    {
     "data": {
      "text/plain": [
       "tensor([[-0.0471,  0.0265,  0.0220, -0.0336],\n",
       "        [-0.0466, -0.1689,  0.0214,  0.2660]])"
      ]
     },
     "metadata": {},
     "output_type": "display_data"
    },
    {
     "data": {
      "text/plain": [
       "'(s_1, s_2)'"
      ]
     },
     "metadata": {},
     "output_type": "display_data"
    },
    {
     "data": {
      "text/plain": [
       "tensor([[-0.0466, -0.1689,  0.0214,  0.2660],\n",
       "        [-0.0500, -0.3643,  0.0267,  0.5653]])"
      ]
     },
     "metadata": {},
     "output_type": "display_data"
    },
    {
     "data": {
      "text/plain": [
       "'(s_2, s_3)'"
      ]
     },
     "metadata": {},
     "output_type": "display_data"
    },
    {
     "data": {
      "text/plain": [
       "tensor([[-0.0500, -0.3643,  0.0267,  0.5653],\n",
       "        [-0.0572, -0.5598,  0.0380,  0.8663]])"
      ]
     },
     "metadata": {},
     "output_type": "display_data"
    }
   ],
   "source": [
    "# Creates a new workspace\n",
    "workspace = Workspace() \n",
    "t_agents(workspace, stop_variable=\"env/done\")\n",
    "\n",
    "# We get the transitions: each tensor is transformed so\n",
    "# that: \n",
    "# - we have the value at time step t and t+1 (so all the tensors first dimension have a size of 2)\n",
    "# - there is no distinction between the different environments (here, there is just one environment run in parallel to make it easy)\n",
    "transitions = workspace.get_transitions()\n",
    "\n",
    "# You can see that each pair of actions in the transitions can be found in the workspace\n",
    "display(\"Observations (first 3)\", workspace[\"env/env_obs\"][:3, 0])\n",
    "\n",
    "display(\"Transitions of actions (first 3)\")\n",
    "for t in range(3):\n",
    "    display(f'(s_{t}, s_{t+1})')\n",
    "    display(transitions[\"env/env_obs\"][:, t])"
   ]
  },
  {
   "cell_type": "markdown",
   "id": "f75d430c",
   "metadata": {},
   "source": [
    "Note that if we were using more than 1 environment (say N), we would have to watch in the transition every N lines, since transitions are stored one environment after the other"
   ]
  },
  {
   "cell_type": "markdown",
   "id": "51be673e",
   "metadata": {},
   "source": [
    "## The replay buffer\n",
    "\n",
    "Differently from the previous case, we use a replace buffer that stores the a\n",
    "set of transitions $(s_t, a_t, r_t, s_{t+1})$\n",
    "Finally, the replay buffer keeps slices [:, i, ...] of the transition\n",
    "workspace (here at most 100 transitions)"
   ]
  },
  {
   "cell_type": "code",
   "execution_count": 7,
   "id": "9b94ad37",
   "metadata": {},
   "outputs": [
    {
     "data": {
      "text/plain": [
       "tensor([[[-0.1272, -0.5726,  0.1676,  1.1632],\n",
       "         [-0.1197, -0.3758,  0.1511,  0.8271],\n",
       "         [-0.1161, -0.1790,  0.1412,  0.4934]],\n",
       "\n",
       "        [[-0.1387, -0.3800,  0.1909,  0.9274],\n",
       "         [-0.1272, -0.5726,  0.1676,  1.1632],\n",
       "         [-0.1197, -0.3758,  0.1511,  0.8271]]])"
      ]
     },
     "execution_count": 7,
     "metadata": {},
     "output_type": "execute_result"
    }
   ],
   "source": [
    "rb = ReplayBuffer(max_size=100)\n",
    "\n",
    "# We add the transitions to the buffer....\n",
    "rb.put(transitions)\n",
    "\n",
    "# And sample from them here we get 3 tuples (s_t, s_{t+1})\n",
    "rb.get_shuffled(3)[\"env/env_obs\"]"
   ]
  },
  {
   "cell_type": "markdown",
   "id": "34eca761",
   "metadata": {
    "lines_to_next_cell": 2
   },
   "source": [
    "A transition workspace is still a workspace... this is quite\n",
    " handy since each transition can be seen as a mini-episode of two time steps;\n",
    " we can use our agents on it:"
   ]
  },
  {
   "cell_type": "code",
   "execution_count": 8,
   "id": "a34c70ee",
   "metadata": {},
   "outputs": [
    {
     "data": {
      "text/plain": [
       "tensor([[0, 0, 0, 1, 1, 0, 0, 1, 1, 0, 1, 0, 0, 1, 0],\n",
       "        [0, 0, 1, 1, 0, 0, 1, 1, 0, 1, 0, 0, 1, 0, 0]])"
      ]
     },
     "metadata": {},
     "output_type": "display_data"
    },
    {
     "data": {
      "text/plain": [
       "tensor([[0, 0, 0, 1, 0, 1, 0, 0, 0, 0, 0, 0, 0, 1, 1],\n",
       "        [0, 0, 0, 0, 1, 0, 0, 1, 1, 0, 0, 0, 0, 1, 1]])"
      ]
     },
     "metadata": {},
     "output_type": "display_data"
    }
   ],
   "source": [
    "# Just as a reference\n",
    "\n",
    "display(transitions[\"action\"])\n",
    "\n",
    "t_random_agent = TemporalAgent(RandomAgent(action_dim))\n",
    "t_random_agent(transitions, t=0, n_steps=2)\n",
    "\n",
    "# Here, the action tensor will have been overwritten by the new actions\n",
    "display(transitions[\"action\"])"
   ]
  },
  {
   "cell_type": "markdown",
   "id": "cd4124f7",
   "metadata": {},
   "source": [
    "## Definition of agents\n",
    "\n",
    "### The critic agent\n",
    "\n",
    "The [DQN](https://daiwk.github.io/assets/dqn.pdf) algorithm is a critic only\n",
    "algorithm. Thus we just need a Critic agent (which will also be used to output\n",
    "actions) and an Environment agent. We reuse the `DiscreteQAgent` class that we\n",
    "have already explained in the previous notebook."
   ]
  },
  {
   "cell_type": "markdown",
   "id": "92c72eb1",
   "metadata": {},
   "source": [
    "The function below builds a multi-layer perceptron where the size of each layer is given in the `size` list.\n",
    "We also specify the activation function of neurons at each layer and optionally a different activation function for the final layer."
   ]
  },
  {
   "cell_type": "code",
   "execution_count": 9,
   "id": "58eb625a",
   "metadata": {},
   "outputs": [
    {
     "name": "stderr",
     "output_type": "stream",
     "text": [
      "WARNING:py.warnings:<>:3: SyntaxWarning: invalid escape sequence '\\m'\n",
      "\n",
      "WARNING:py.warnings:<>:3: SyntaxWarning: invalid escape sequence '\\m'\n",
      "\n",
      "WARNING:py.warnings:C:\\Users\\titou\\AppData\\Local\\Temp\\ipykernel_13764\\2205681729.py:3: SyntaxWarning: invalid escape sequence '\\m'\n",
      "  \"\"\"Helper function to build a multi-layer perceptron (function from $\\mathbb R^n$ to $\\mathbb R^p$)\n",
      "\n"
     ]
    }
   ],
   "source": [
    "import torch.nn as nn\n",
    "def build_mlp(sizes, activation, output_activation=nn.Identity()):\n",
    "    \"\"\"Helper function to build a multi-layer perceptron (function from $\\mathbb R^n$ to $\\mathbb R^p$)\n",
    "    \n",
    "    Args:\n",
    "        sizes (List[int]): the number of neurons at each layer\n",
    "        activation (nn.Module): a PyTorch activation function (after each layer but the last)\n",
    "        output_activation (nn.Module): a PyTorch activation function (last layer)\n",
    "    \"\"\"\n",
    "    layers = []\n",
    "    for j in range(len(sizes) - 1):\n",
    "        act = activation if j < len(sizes) - 2 else output_activation\n",
    "        layers += [nn.Linear(sizes[j], sizes[j + 1]), act]\n",
    "    return nn.Sequential(*layers)"
   ]
  },
  {
   "cell_type": "code",
   "execution_count": 10,
   "id": "a2760d27",
   "metadata": {
    "lines_to_next_cell": 2
   },
   "outputs": [],
   "source": [
    "class DiscreteQAgent(Agent):\n",
    "    def __init__(self, state_dim, hidden_layers, action_dim):\n",
    "        super().__init__()\n",
    "        self.model = build_mlp(\n",
    "            [state_dim] + list(hidden_layers) + [action_dim], activation=nn.ReLU()\n",
    "        )\n",
    "\n",
    "    def forward(self, t, choose_action=True, **kwargs):\n",
    "        obs = self.get((\"env/env_obs\", t))\n",
    "        q_values = self.model(obs)\n",
    "        self.set((\"q_values\", t), q_values)\n",
    "\n",
    "        # Sets the action\n",
    "        if choose_action:\n",
    "            action = q_values.argmax(1)\n",
    "            self.set((\"action\", t), action)"
   ]
  },
  {
   "cell_type": "markdown",
   "id": "4299c558",
   "metadata": {},
   "source": [
    "### Creating an Exploration method"
   ]
  },
  {
   "cell_type": "markdown",
   "id": "e4244dd5",
   "metadata": {
    "lines_to_next_cell": 2
   },
   "source": [
    "As Q-learning, DQN needs some exploration to prevent too early convergence.\n",
    "Here we will use the simple $\\epsilon$-greedy exploration method. The method\n",
    "is implemented as an agent which chooses an action based on the Q-values."
   ]
  },
  {
   "cell_type": "code",
   "execution_count": 11,
   "id": "2f29b3bc",
   "metadata": {},
   "outputs": [],
   "source": [
    "class EGreedyActionSelector(Agent):\n",
    "    def __init__(self, epsilon):\n",
    "        super().__init__()\n",
    "        self.epsilon = epsilon\n",
    "\n",
    "    def forward(self, t, **kwargs):\n",
    "        q_values = self.get((\"q_values\", t))\n",
    "        nb_actions = q_values.size()[1]\n",
    "        size = q_values.size()[0]\n",
    "        is_random = torch.rand(size).lt(self.epsilon).float()\n",
    "        random_action = torch.randint(low=0, high=nb_actions, size=(size,))\n",
    "        max_action = q_values.max(1)[1]\n",
    "        action = is_random * random_action + (1 - is_random) * max_action\n",
    "        action = action.long()\n",
    "        self.set((\"action\", t), action)"
   ]
  },
  {
   "cell_type": "markdown",
   "id": "454f248f",
   "metadata": {
    "lines_to_next_cell": 2
   },
   "source": [
    "### Training and evaluation environments\n",
    "\n",
    "We build two environments: one for training and another one for evaluation.\n",
    "\n",
    "For training, it is more efficient to use an autoreset agent, as we do not\n",
    "want to waste time if the task is done in an environment sooner than in the\n",
    "others.\n",
    "\n",
    "By contrast, for evaluation, we just need to perform a fixed number of\n",
    "episodes (for statistics), thus it is more convenient to use a\n",
    "noautoreset agent with a set of environments and just run one episode in\n",
    "each environment. Thus we can use the `env/done` stop variable and take the\n",
    "average over the cumulated reward of all environments.\n",
    "\n",
    "See [this\n",
    "notebook](https://colab.research.google.com/drive/1Ui481r47fNHCQsQfKwdoNEVrEiqAEokh?usp=sharing)\n",
    "for explanations about agents and environment agents."
   ]
  },
  {
   "cell_type": "code",
   "execution_count": 12,
   "id": "3a83f636",
   "metadata": {},
   "outputs": [],
   "source": [
    "from typing import Tuple\n",
    "from bbrl.agents.gymnasium import make_env, GymAgent, ParallelGymAgent\n",
    "from functools import partial\n",
    "\n",
    "def get_env_agents(cfg, *, autoreset=True, include_last_state=True) -> Tuple[GymAgent, GymAgent]:\n",
    "    # Returns a pair of environments (train / evaluation) based on a configuration `cfg`\n",
    "    \n",
    "    # Train environment\n",
    "    train_env_agent = ParallelGymAgent(\n",
    "        partial(make_env, cfg.gym_env.env_name, autoreset=autoreset),\n",
    "        cfg.algorithm.n_envs, \n",
    "        include_last_state=include_last_state\n",
    "    ).seed(cfg.algorithm.seed)\n",
    "\n",
    "    # Test environment\n",
    "    eval_env_agent = ParallelGymAgent(\n",
    "        partial(make_env, cfg.gym_env.env_name), \n",
    "        cfg.algorithm.nb_evals,\n",
    "        include_last_state=include_last_state\n",
    "    ).seed(cfg.algorithm.seed)\n",
    "\n",
    "    return train_env_agent, eval_env_agent"
   ]
  },
  {
   "cell_type": "code",
   "execution_count": 13,
   "id": "657d46cd",
   "metadata": {},
   "outputs": [],
   "source": [
    "def create_dqn_agent(cfg, train_env_agent, eval_env_agent):\n",
    "    obs_size, act_size = train_env_agent.get_obs_and_actions_sizes()\n",
    "\n",
    "    # Get the two agents (critic and target critic)\n",
    "    critic = DiscreteQAgent(obs_size, cfg.algorithm.architecture.hidden_size, act_size)\n",
    "    target_critic = copy.deepcopy(critic)\n",
    "\n",
    "    # Builds the train agent that will produce transitions\n",
    "    explorer = EGreedyActionSelector(cfg.algorithm.epsilon)\n",
    "    tr_agent = Agents(train_env_agent, critic, explorer)\n",
    "    train_agent = TemporalAgent(tr_agent)\n",
    "\n",
    "    # Creates two temporal agents just for \"replaying\" some parts\n",
    "    # of the transition buffer    \n",
    "    q_agent = TemporalAgent(critic)\n",
    "    target_q_agent = TemporalAgent(target_critic)\n",
    "\n",
    "\n",
    "    # Get an agent that is executed on a complete workspace\n",
    "    ev_agent = Agents(eval_env_agent, critic)\n",
    "    eval_agent = TemporalAgent(ev_agent)\n",
    "\n",
    "    return train_agent, eval_agent, q_agent, target_q_agent"
   ]
  },
  {
   "cell_type": "markdown",
   "id": "50689925",
   "metadata": {},
   "source": [
    "### The Logger class\n",
    "\n",
    "The logger is in charge of collecting statistics during the training\n",
    "process.\n",
    "\n",
    "Having logging provided under the hood is one of the features allowing you\n",
    "to save time when using RL libraries like BBRL.\n",
    "\n",
    "In these notebooks, the logger is defined as `bbrl.utils.logger.TFLogger` so as\n",
    "to use a tensorboard visualisation (see the parameters part `params = { \"logger\":{ ...` below).\n",
    "\n",
    "Note that the BBRL Logger is also saving the log in a readable format such\n",
    "that you can use `Logger.read_directories(...)` to read multiple logs, create\n",
    "a dataframe, and analyze many experiments afterward in a notebook for\n",
    "instance. The code for the different kinds of loggers is available in the\n",
    "[bbrl/utils/logger.py](https://github.com/osigaud/bbrl/blob/master/src/bbrl/utils/logger.py)\n",
    "file.\n",
    "\n",
    "`instantiate_class` is an inner BBRL mechanism. The\n",
    "`instantiate_class`function is available in the\n",
    "[`bbrl/__init__.py`](https://github.com/osigaud/bbrl/blob/master/src/bbrl/__init__.py)\n",
    "file."
   ]
  },
  {
   "cell_type": "code",
   "execution_count": 14,
   "id": "07c59091",
   "metadata": {
    "jupyter": {
     "source_hidden": true
    },
    "lines_to_next_cell": 2,
    "tags": [
     "hide-input"
    ]
   },
   "outputs": [],
   "source": [
    "from bbrl import instantiate_class\n",
    "\n",
    "class Logger():\n",
    "\n",
    "    def __init__(self, cfg):\n",
    "        self.logger = instantiate_class(cfg.logger)\n",
    "\n",
    "    def add_log(self, log_string, loss, steps):\n",
    "        self.logger.add_scalar(log_string, loss.item(), steps)\n",
    "\n",
    "    # A specific function for RL algorithms having a critic, an actor and an entropy losses\n",
    "    def log_losses(self, critic_loss, entropy_loss, actor_loss, steps):\n",
    "        self.add_log(\"critic_loss\", critic_loss, steps)\n",
    "        self.add_log(\"entropy_loss\", entropy_loss, steps)\n",
    "        self.add_log(\"actor_loss\", actor_loss, steps)\n",
    "\n",
    "    def log_reward_losses(self, rewards, nb_steps):\n",
    "        self.add_log(\"reward/mean\", rewards.mean(), nb_steps)\n",
    "        self.add_log(\"reward/max\", rewards.max(), nb_steps)\n",
    "        self.add_log(\"reward/min\", rewards.min(), nb_steps)\n",
    "        self.add_log(\"reward/median\", rewards.median(), nb_steps)"
   ]
  },
  {
   "cell_type": "markdown",
   "id": "de247d98",
   "metadata": {
    "lines_to_next_cell": 2
   },
   "source": [
    "### Setup the optimizers\n",
    "\n",
    "We use a single optimizer to tune the parameters of the actor (in the\n",
    "prob_agent part) and the critic (in the critic_agent part). It would be\n",
    "possible to have two optimizers which would work separately on the parameters\n",
    "of each component agent, but it would be more complicated because updating the\n",
    "actor requires the gradient of the critic."
   ]
  },
  {
   "cell_type": "code",
   "execution_count": 15,
   "id": "f309e97b",
   "metadata": {},
   "outputs": [],
   "source": [
    "# Configure the optimizer over the q agent\n",
    "def setup_optimizers(cfg, q_agent):\n",
    "    optimizer_args = get_arguments(cfg.optimizer)\n",
    "    parameters = q_agent.parameters()\n",
    "    optimizer = get_class(cfg.optimizer)(parameters, **optimizer_args)\n",
    "    return optimizer"
   ]
  },
  {
   "cell_type": "markdown",
   "id": "bdbabb39",
   "metadata": {},
   "source": [
    "### Compute critic loss\n",
    "\n",
    "Detailed explanations of the function to compute the critic loss when using\n",
    "`autoreset=False` are given in [this\n",
    "notebook](http://master-dac.isir.upmc.fr/rld/rl/03-1-dqn-introduction.student.ipynb).\n",
    "The case where we use `autoreset=True` is very similar, but we need to\n",
    "specify that we use the first part of the Q-values (`q_values[0]`) for\n",
    "representing $Q(s_t,a_t)$ and the second part (`q_values[1]`) for representing\n",
    "$Q(s_{t+1},a)$, as these values are stored into a transition model."
   ]
  },
  {
   "cell_type": "code",
   "execution_count": 16,
   "id": "7e91b84b",
   "metadata": {},
   "outputs": [],
   "source": [
    "def compute_critic_loss(cfg, reward, must_bootstrap, q_values, target_q_values, action):\n",
    "\n",
    "    # To be completed...\n",
    "\n",
    "    #Adapt from the previous notebook and adapt to our case (target Q network)\n",
    "    #Don't forget that we deal with transitions (and not episodes)\n",
    "    # assert False, 'Not implemented yet'\n",
    "\n",
    "\n",
    "\n",
    "    # Compute critic loss (no need to use must_bootstrap here since we are dealing with \"full\" transitions)\n",
    "    '''mse = nn.MSELoss()\n",
    "    critic_loss = mse(target, qvals)\n",
    "    return critic_loss'''\n",
    "    # Select the Q-values for the actions taken\n",
    "    q_values_for_actions = q_values.gather(2, action.unsqueeze(-1)).squeeze(-1)\n",
    "    \n",
    "    # Compute the max Q-value for the next state, but not for the last timestep\n",
    "    next_q_values = q_values[1:].max(dim=2)[0]\n",
    "    # Compute the expected Q-values (target) for the current state and action\n",
    "    # Assuming next_q_values and must_bootstrap are correctly aligned and one step \"ahead\" of reward\n",
    "    target_q_values = reward[1:] + cfg[\"algorithm\"][\"discount_factor\"] * next_q_values * must_bootstrap\n",
    "\n",
    "    \n",
    "    # Compute the loss as the mean squared error between the current and target Q-values\n",
    "    loss = F.mse_loss(q_values_for_actions[:-1], target_q_values)\n",
    "    \n",
    "    return loss"
   ]
  },
  {
   "cell_type": "markdown",
   "id": "645a2283",
   "metadata": {},
   "source": [
    "## Main training loop\n",
    "\n",
    "Note that everything about the shared workspace between all the agents is\n",
    "completely hidden under the hood. This results in a gain of productivity, at\n",
    "the expense of having to dig into the BBRL code if you want to understand the\n",
    "details, change the multiprocessing model, etc.\n",
    "\n",
    "### Agent execution\n",
    "\n",
    "This is the tricky part with BBRL, the one we need to understand in detail.\n",
    "The difficulty lies in the copy of the last step and the way to deal with the\n",
    "n_steps return.\n",
    "\n",
    "The call to `train_agent(workspace, t=1, n_steps=cfg.algorithm.n_timesteps -\n",
    "1, stochastic=True)` makes the agent run a number of steps in the workspace.\n",
    "In practice, it calls the\n",
    "[`__call__(...)`](https://github.com/osigaud/bbrl/blob/master/src/bbrl/agents/agent.py#L59)\n",
    "function which makes a forward pass of the agent network using the workspace\n",
    "data and updates the workspace accordingly.\n",
    "\n",
    "Now, if we start at the first epoch (`epoch=0`), we start from the first step\n",
    "(`t=0`). But when subsequently we perform the next epochs (`epoch>0`), we must\n",
    "not forget to cover the transition at the border between the previous epoch\n",
    "and the current epoch. To avoid this risk, we copy the information from the\n",
    "last time step of the previous epoch into the first time step of the next\n",
    "epoch.\n",
    "\n",
    "Note that we `optimizer.zero_grad()`, `loss.backward()` and `optimizer.step()`\n",
    "lines. `optimizer.zero_grad()` is necessary to cancel all the gradients\n",
    "computed at the previous iterations"
   ]
  },
  {
   "cell_type": "code",
   "execution_count": 17,
   "id": "426a1b4f",
   "metadata": {
    "lines_to_next_cell": 0
   },
   "outputs": [],
   "source": [
    "def run_dqn(cfg, compute_critic_loss):\n",
    "    # 1)  Build the  logger\n",
    "    logger = Logger(cfg)\n",
    "    best_reward = float('-inf')\n",
    "\n",
    "    # 2) Create the environment agents\n",
    "    train_env_agent, eval_env_agent = get_env_agents(cfg)\n",
    "\n",
    "    # 3) Create the DQN-like Agent\n",
    "    train_agent, eval_agent, q_agent, target_q_agent = create_dqn_agent(\n",
    "        cfg, train_env_agent, eval_env_agent\n",
    "    )\n",
    "\n",
    "    # 5) Configure the workspace to the right dimension\n",
    "    # Note that no parameter is needed to create the workspace.\n",
    "    # In the training loop, calling the agent() and critic_agent()\n",
    "    # will take the workspace as parameter\n",
    "    train_workspace = Workspace()  # Used for training\n",
    "    rb = ReplayBuffer(max_size=cfg.algorithm.buffer_size)\n",
    "\n",
    "    # 6) Configure the optimizer over the dqn agent\n",
    "    optimizer = setup_optimizers(cfg, q_agent)\n",
    "    nb_steps = 0\n",
    "    last_eval_step = 0\n",
    "    last_critic_update_step = 0\n",
    "    best_agent = eval_agent.agent.agents[1]\n",
    "\n",
    "    # 7) Training loop\n",
    "    pbar = tqdm(range(cfg.algorithm.max_epochs))\n",
    "    for epoch in pbar:\n",
    "        # Execute the agent in the workspace\n",
    "        if epoch > 0:\n",
    "            train_workspace.zero_grad()\n",
    "            train_workspace.copy_n_last_steps(1)\n",
    "            train_agent(\n",
    "                train_workspace, t=1, n_steps=cfg.algorithm.n_steps, stochastic=True\n",
    "            )\n",
    "        else:\n",
    "            train_agent(\n",
    "                train_workspace, t=0, n_steps=cfg.algorithm.n_steps, stochastic=True\n",
    "            )\n",
    "\n",
    "        # Get the transitions\n",
    "        transition_workspace = train_workspace.get_transitions()\n",
    "\n",
    "        action = transition_workspace[\"action\"]\n",
    "        nb_steps += action[0].shape[0]\n",
    "        \n",
    "        # Adds the transitions to the workspace\n",
    "        rb.put(transition_workspace)\n",
    "        if rb.size() > cfg.algorithm.learning_starts:\n",
    "            for _ in range(cfg.algorithm.n_updates):\n",
    "                rb_workspace = rb.get_shuffled(cfg.algorithm.batch_size)\n",
    "\n",
    "                # The q agent needs to be executed on the rb_workspace workspace (gradients are removed in workspace)\n",
    "                q_agent(rb_workspace, t=0, n_steps=2, choose_action=False)\n",
    "                q_values, terminated, reward, action = rb_workspace[\n",
    "                    \"q_values\", \"env/terminated\", \"env/reward\", \"action\"\n",
    "                ]\n",
    "\n",
    "                with torch.no_grad():\n",
    "                    target_q_agent(rb_workspace, t=0, n_steps=2, stochastic=True)\n",
    "                target_q_values = rb_workspace[\"q_values\"]\n",
    "\n",
    "                # Determines whether values of the critic should be propagated\n",
    "                must_bootstrap = ~terminated[1]\n",
    "\n",
    "                # Compute critic loss\n",
    "                # FIXME: homogénéiser les notations (soit tranche temporelle, soit rien)\n",
    "                critic_loss = compute_critic_loss(\n",
    "                    cfg, reward, must_bootstrap, q_values, target_q_values[1], action\n",
    "                )\n",
    "                # Store the loss for tensorboard display\n",
    "                logger.add_log(\"critic_loss\", critic_loss, nb_steps)\n",
    "\n",
    "                optimizer.zero_grad()\n",
    "                critic_loss.backward()\n",
    "                torch.nn.utils.clip_grad_norm_(q_agent.parameters(), cfg.algorithm.max_grad_norm)\n",
    "                optimizer.step()\n",
    "                if nb_steps - last_critic_update_step > cfg.algorithm.target_critic_update:\n",
    "                    last_critic_update_step = nb_steps\n",
    "                    target_q_agent.agent = copy.deepcopy(q_agent.agent)\n",
    "\n",
    "        # Evaluate the current policy\n",
    "        if nb_steps - last_eval_step > cfg.algorithm.eval_interval:\n",
    "            last_eval_step = nb_steps\n",
    "            eval_workspace = Workspace()\n",
    "            eval_agent(\n",
    "                eval_workspace, t=0, stop_variable=\"env/done\", choose_action=True\n",
    "            )\n",
    "            rewards = eval_workspace[\"env/cumulated_reward\"][-1]\n",
    "            mean = rewards.mean()\n",
    "            logger.log_reward_losses(rewards, nb_steps)\n",
    "            pbar.set_description(f\"nb steps: {nb_steps}, reward: {mean:.3f}\")\n",
    "            if cfg.save_best and mean > best_reward:\n",
    "                best_reward = mean\n",
    "                best_agent = copy.deepcopy(eval_agent.agent.agents[1])\n",
    "                directory = \"./dqn_critic/\"\n",
    "                if not os.path.exists(directory):\n",
    "                    os.makedirs(directory)\n",
    "                filename = directory + \"dqn0_\" + str(mean.item()) + \".agt\"\n",
    "                eval_agent.save_model(filename)\n",
    "\n",
    "    return best_agent"
   ]
  },
  {
   "cell_type": "markdown",
   "id": "950031ca",
   "metadata": {},
   "source": [
    "## Definition of the parameters\n",
    "\n",
    "The logger is defined as `bbrl.utils.logger.TFLogger` so as to use a\n",
    "tensorboard visualisation.\n",
    "\n",
    "### Launching tensorboard to visualize the results"
   ]
  },
  {
   "cell_type": "code",
   "execution_count": 18,
   "id": "bcbe7c1f",
   "metadata": {},
   "outputs": [
    {
     "data": {
      "text/plain": [
       "Reusing TensorBoard on port 6006 (pid 11108), started 0:17:20 ago. (Use '!kill 11108' to kill it.)"
      ]
     },
     "metadata": {},
     "output_type": "display_data"
    },
    {
     "data": {
      "text/html": [
       "\n",
       "      <iframe id=\"tensorboard-frame-c8e84ecd56b1729b\" width=\"100%\" height=\"800\" frameborder=\"0\">\n",
       "      </iframe>\n",
       "      <script>\n",
       "        (function() {\n",
       "          const frame = document.getElementById(\"tensorboard-frame-c8e84ecd56b1729b\");\n",
       "          const url = new URL(\"http://localhost\");\n",
       "          const port = 6006;\n",
       "          if (port) {\n",
       "            url.port = port;\n",
       "          }\n",
       "          frame.src = url;\n",
       "        })();\n",
       "      </script>\n",
       "    "
      ],
      "text/plain": [
       "<IPython.core.display.HTML object>"
      ]
     },
     "metadata": {},
     "output_type": "display_data"
    }
   ],
   "source": [
    "\n",
    "setup_tensorboard('/tblogs') # \"\""
   ]
  },
  {
   "cell_type": "code",
   "execution_count": 19,
   "id": "7db6c86f",
   "metadata": {},
   "outputs": [
    {
     "name": "stderr",
     "output_type": "stream",
     "text": [
      "nb steps: 893331, reward: 500.000: 100%|██████████| 3500/3500 [17:05<00:00,  3.41it/s]\n"
     ]
    }
   ],
   "source": [
    "params={\n",
    "  \"save_best\": False,\n",
    "  \"logger\":{\n",
    "    \"classname\": \"bbrl.utils.logger.TFLogger\",\n",
    "    \"log_dir\": \"./tblogs/dqn-buffer-\" + str(time.time()),\n",
    "    \"cache_size\": 10000,\n",
    "    \"every_n_seconds\": 10,\n",
    "    \"verbose\": False,    \n",
    "    },\n",
    "\n",
    "  \"algorithm\":{\n",
    "    \"seed\": 4,\n",
    "    \"max_grad_norm\": 0.5,\n",
    "    \"epsilon\": 0.02,\n",
    "    \"n_envs\": 8,\n",
    "    \"n_steps\": 32,\n",
    "    \"n_updates\": 32,\n",
    "    \"eval_interval\": 2000,\n",
    "    \"learning_starts\": 2000,\n",
    "    \"nb_evals\": 10,\n",
    "    \"buffer_size\": 1e6,\n",
    "    \"batch_size\": 256,\n",
    "    \"target_critic_update\": 5000,\n",
    "    \"max_epochs\": 3500,\n",
    "    \"discount_factor\": 0.99,\n",
    "    \"architecture\":{\"hidden_size\": [64, 64]},\n",
    "  },\n",
    "  \"gym_env\":{\n",
    "    \"env_name\": \"CartPole-v1\",\n",
    "  },\n",
    "  \"optimizer\":\n",
    "  {\n",
    "    \"classname\": \"torch.optim.Adam\",\n",
    "    \"lr\": 1e-3,\n",
    "  }\n",
    "}\n",
    "\n",
    "config=OmegaConf.create(params)\n",
    "torch.manual_seed(config.algorithm.seed)\n",
    "best_agent = run_dqn(config, compute_critic_loss)"
   ]
  },
  {
   "cell_type": "code",
   "execution_count": 27,
   "id": "d1c46770",
   "metadata": {},
   "outputs": [
    {
     "name": "stdout",
     "output_type": "stream",
     "text": [
      "Moviepy - Building video D:\\SORBONNE S2\\PLDAC_BBRL\\intro\\videos\\dqn-full.mp4.\n",
      "Moviepy - Writing video D:\\SORBONNE S2\\PLDAC_BBRL\\intro\\videos\\dqn-full.mp4\n",
      "\n"
     ]
    },
    {
     "name": "stderr",
     "output_type": "stream",
     "text": [
      "                                                               \r"
     ]
    },
    {
     "name": "stdout",
     "output_type": "stream",
     "text": [
      "Moviepy - Done !\n",
      "Moviepy - video ready D:\\SORBONNE S2\\PLDAC_BBRL\\intro\\videos\\dqn-full.mp4\n"
     ]
    },
    {
     "data": {
      "text/html": [
       "<div align=middle><video src='data:video/mp4;base64,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' controls>Sorry, seems like your browser doesn't support HTML5 audio/video</video></div>"
      ],
      "text/plain": [
       "<moviepy.video.io.html_tools.HTML2 object>"
      ]
     },
     "execution_count": 27,
     "metadata": {},
     "output_type": "execute_result"
    }
   ],
   "source": [
    "# Visualization\n",
    "env = make_env(config.gym_env.env_name, render_mode=\"rgb_array\")\n",
    "record_video(env, best_agent, \"videos/dqn-full.mp4\")\n",
    "video_display(\"videos/dqn-full.mp4\")"
   ]
  },
  {
   "cell_type": "markdown",
   "id": "847eb335",
   "metadata": {},
   "source": [
    "## Coding Exercise: Double DQN (DDQN)\n",
    "\n",
    "In DQN, the same network is responsible for selecting and estimating the best\n",
    "next action (in the TD-target) and that may lead to over-estimation: the\n",
    "action which q-value is over-estimated will be chosen more often. As a result,\n",
    "training is slower.\n",
    "\n",
    "To reduce over-estimation, double q-learning (and then DDQN) was proposed. It\n",
    "decouples the action selection from the value estimation.\n",
    "\n",
    "Concretely, in DQN, the target value in the critic loss (used to update the Q\n",
    "critic) for a sample at time $t$ is defined as:\n",
    "\n",
    "$$Y^{DQN}_{t} = r_{t+1} + \\gamma{Q}\\left(s_{t+1}, \\arg\\max_{a}Q\\left(s_{t+1},\n",
    "a; \\mathbb{\\theta}_{target}\\right); \\mathbb{\\theta}_{target}\\right)$$\n",
    "\n",
    "where the target network `target_q_agent` with parameters\n",
    "$\\mathbb{\\theta}_{target}$ is used for both action selection and estimation,\n",
    "and can therefore be rewritten:\n",
    "\n",
    "$$Y^{DQN}_{t} = r_{t+1} + \\gamma \\max_{a}{Q}\\left(s_{t+1}, a;\n",
    "\\mathbb{\\theta}_{target}\\right)$$\n",
    "\n",
    "Instead, DDQN uses the online critic `q_agent` with parameters\n",
    "$\\mathbb{\\theta}_{online}$ to select the action, whereas it uses the target\n",
    "network `target_q_agent` to estimate the associated Q-values:\n",
    "\n",
    "$$Y^{DDQN}_{t} = r_{t+1} + \\gamma{Q}\\left(s_{t+1}, \\arg\\max_{a}Q\\left(s_{t+1},\n",
    "a; \\mathbb{\\theta}_{online}\\right); \\mathbb{\\theta}_{target}\\right)$$\n",
    "\n",
    "The goal in this exercise is for you to write the update method for `DDQN`."
   ]
  },
  {
   "cell_type": "code",
   "execution_count": 21,
   "id": "c8be5f5b",
   "metadata": {
    "lines_to_next_cell": 2
   },
   "outputs": [
    {
     "ename": "SyntaxError",
     "evalue": "invalid syntax (1926143175.py, line 4)",
     "output_type": "error",
     "traceback": [
      "\u001b[1;36m  Cell \u001b[1;32mIn[21], line 4\u001b[1;36m\u001b[0m\n\u001b[1;33m    Implement the double DQN loss\u001b[0m\n\u001b[1;37m              ^\u001b[0m\n\u001b[1;31mSyntaxError\u001b[0m\u001b[1;31m:\u001b[0m invalid syntax\n"
     ]
    }
   ],
   "source": [
    "def compute_ddqn_loss(cfg, reward, must_bootstrap, q_values, target_q_values, action):\n",
    "    # To be completed...\n",
    "\n",
    "    Implement the double DQN loss\n",
    "    assert False, 'Not implemented yet'\n",
    "\n",
    "\n",
    "\n",
    "    # Compute critic loss\n",
    "    mse = nn.MSELoss()\n",
    "    critic_loss = mse(target, qvals)\n",
    "    return critic_loss"
   ]
  },
  {
   "cell_type": "code",
   "execution_count": null,
   "id": "d8cd4e17",
   "metadata": {},
   "outputs": [],
   "source": [
    "params={\n",
    "  \"save_best\": False,\n",
    "  \"logger\":{\n",
    "    \"classname\": \"bbrl.utils.logger.TFLogger\",\n",
    "    \"log_dir\": \"./tblogs/ddqn-buffer-\" + str(time.time()),\n",
    "    \"cache_size\": 10000,\n",
    "    \"every_n_seconds\": 10,\n",
    "    \"verbose\": False,    \n",
    "    },\n",
    "\n",
    "  \"algorithm\":{\n",
    "    \"seed\": 4,\n",
    "    \"max_grad_norm\": 0.5,\n",
    "    \"epsilon\": 0.02,\n",
    "    \"n_envs\": 8,\n",
    "    \"n_steps\": 32,\n",
    "    \"n_updates\": 32,\n",
    "    \"eval_interval\": 2000,\n",
    "    \"learning_starts\": 2000,\n",
    "    \"nb_evals\": 10,\n",
    "    \"buffer_size\": 1e6,\n",
    "    \"batch_size\": 256,\n",
    "    \"target_critic_update\": 5000,\n",
    "    \"max_epochs\": 3500,\n",
    "    \"discount_factor\": 0.99,\n",
    "    \"architecture\":{\"hidden_size\": [128, 128]},\n",
    "  },\n",
    "  \"gym_env\":{\n",
    "    \"env_name\": \"CartPole-v1\",\n",
    "  },\n",
    "  \"optimizer\":\n",
    "  {\n",
    "    \"classname\": \"torch.optim.Adam\",\n",
    "    \"lr\": 1e-3,\n",
    "  }\n",
    "}\n",
    "\n",
    "config=OmegaConf.create(params)\n",
    "torch.manual_seed(config.algorithm.seed)\n",
    "best_agent = run_dqn(config, compute_ddqn_loss)"
   ]
  },
  {
   "cell_type": "code",
   "execution_count": null,
   "id": "5806e46e",
   "metadata": {},
   "outputs": [],
   "source": [
    "# Visualization\n",
    "env = make_env(config.gym_env.env_name, render_mode=\"rgb_array\")\n",
    "record_video(env, best_agent, \"videos/dqn-double.mp4\")\n",
    "video_display(\"videos/dqn-double.mp4\")"
   ]
  }
 ],
 "metadata": {
  "jupytext": {
   "cell_markers": "\"\"\""
  },
  "kernelspec": {
   "display_name": "Python 3 (ipykernel)",
   "language": "python",
   "name": "python3"
  },
  "language_info": {
   "codemirror_mode": {
    "name": "ipython",
    "version": 3
   },
   "file_extension": ".py",
   "mimetype": "text/x-python",
   "name": "python",
   "nbconvert_exporter": "python",
   "pygments_lexer": "ipython3",
   "version": "3.12.0"
  }
 },
 "nbformat": 4,
 "nbformat_minor": 5
}
