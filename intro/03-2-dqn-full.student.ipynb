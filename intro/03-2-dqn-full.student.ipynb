{
 "cells": [
  {
   "cell_type": "markdown",
   "id": "addb807a",
   "metadata": {
    "lines_to_next_cell": 2
   },
   "source": [
    "# Outlook\n",
    "\n",
    "In this notebook, using BBRL, we code a version of the DQN algorithm with a\n",
    "replay buffer and a target network, using the AutoReset approach.\n",
    "\n",
    "To understand this code, you need to know more about \n",
    "[the BBRL interaction model](https://colab.research.google.com/drive/1_yp-JKkxh_P8Yhctulqm0IrLbE41oK1p?usp=sharing).\n",
    "Then you should run [a first example](https://colab.research.google.com/drive/1Ui481r47fNHCQsQfKwdoNEVrEiqAEokh?usp=sharing)\n",
    "to see how agents interact.\n",
    "\n",
    "You also need to understand [details about\n",
    "autoreset=True](https://colab.research.google.com/drive/1W9Y-3fa6LsPeR6cBC1vgwBjKfgMwZvP5?usp=sharing).\n",
    "\n",
    "The DQN algorithm is explained in [this\n",
    "video](https://www.youtube.com/watch?v=CXwvOMJujZk) and you can also read [the\n",
    "corresponding slides](http://pages.isir.upmc.fr/~sigaud/teach/dqn.pdf).\n",
    "\n",
    "In this notebook, you will learn how to modify the previous notebook:\n",
    "\n",
    "- to use a replay buffer and an environment that resets\n",
    "- to use a target network for $Q$\n",
    "- to use a better estimation for the maximum (Double-DQN)"
   ]
  },
  {
   "cell_type": "markdown",
   "id": "19f32a9d",
   "metadata": {},
   "source": [
    "## Installation and Imports\n",
    "\n",
    "### Installation\n",
    "\n",
    "The BBRL library is [here](https://github.com/osigaud/bbrl).\n",
    "\n",
    "We use OmegaConf to that makes it possible that by just defining the `def\n",
    "run_dqn(cfg):` function and then executing a long `params = {...}` variable at\n",
    "the bottom of this colab, the code is run with the parameters without calling\n",
    "an explicit main.\n",
    "\n",
    "More precisely, the code is run by calling\n",
    "\n",
    "`config=OmegaConf.create(params)`\n",
    "\n",
    "`run_dqn(config)`\n",
    "\n",
    "at the very bottom of the colab, after starting tensorboard.\n",
    "\n",
    "Below, we import standard python packages, pytorch packages and gymnasium\n",
    "environments."
   ]
  },
  {
   "cell_type": "code",
   "execution_count": 1,
   "id": "4bc26d74",
   "metadata": {
    "jupyter": {
     "source_hidden": true
    },
    "tags": [
     "hide-input"
    ]
   },
   "outputs": [
    {
     "name": "stderr",
     "output_type": "stream",
     "text": [
      "[easypip] Installing bbrl_gymnasium>=0.2.0\n",
      "[easypip] Installing bbrl_gymnasium[box2d]\n",
      "[easypip] Installing bbrl_gymnasium[classic_control]\n"
     ]
    }
   ],
   "source": [
    "# Installs the necessary Python and system libraries\n",
    "try:\n",
    "    from easypip import easyimport, easyinstall, is_notebook\n",
    "except ModuleNotFoundError as e:\n",
    "    get_ipython().run_line_magic(\"pip\", \"install easypip\")\n",
    "    from easypip import easyimport, easyinstall, is_notebook\n",
    "\n",
    "easyinstall(\"bbrl>=0.2.2\")\n",
    "easyinstall(\"swig\")\n",
    "easyinstall(\"bbrl_gymnasium>=0.2.0\")\n",
    "easyinstall(\"bbrl_gymnasium[box2d]\")\n",
    "easyinstall(\"bbrl_gymnasium[classic_control]\")\n",
    "easyinstall(\"tensorboard\")\n",
    "easyinstall(\"moviepy\")\n",
    "easyinstall(\"box2d-kengz\")"
   ]
  },
  {
   "cell_type": "code",
   "execution_count": 2,
   "id": "19b1682e",
   "metadata": {
    "jupyter": {
     "source_hidden": true
    },
    "tags": [
     "hide-input"
    ]
   },
   "outputs": [],
   "source": [
    "import os\n",
    "import sys\n",
    "from pathlib import Path\n",
    "import math\n",
    "\n",
    "from moviepy.editor import ipython_display as video_display\n",
    "import time\n",
    "from tqdm.auto import tqdm\n",
    "from typing import Tuple, Optional\n",
    "from functools import partial\n",
    "\n",
    "from omegaconf import OmegaConf\n",
    "import torch\n",
    "import bbrl_gymnasium\n",
    "\n",
    "import copy\n",
    "from abc import abstractmethod, ABC\n",
    "import torch.nn as nn\n",
    "import torch.nn.functional as F\n",
    "from time import strftime\n",
    "OmegaConf.register_new_resolver(\n",
    "    \"current_time\", lambda: strftime(\"%Y%m%d-%H%M%S\"), replace=True\n",
    ")"
   ]
  },
  {
   "cell_type": "code",
   "execution_count": 3,
   "id": "96d85d92",
   "metadata": {
    "jupyter": {
     "source_hidden": true
    },
    "tags": [
     "hide-input"
    ]
   },
   "outputs": [],
   "source": [
    "# Imports all the necessary classes and functions from BBRL\n",
    "from bbrl.agents.agent import Agent\n",
    "from bbrl import get_arguments, get_class, instantiate_class\n",
    "# The workspace is the main class in BBRL, this is where all data is collected and stored\n",
    "from bbrl.workspace import Workspace\n",
    "\n",
    "# Agents(agent1,agent2,agent3,...) executes the different agents the one after the other\n",
    "# TemporalAgent(agent) executes an agent over multiple timesteps in the workspace, \n",
    "# or until a given condition is reached\n",
    "from bbrl.agents import Agents, TemporalAgent\n",
    "\n",
    "# ParallelGymAgent is an agent able to execute a batch of gymnasium environments\n",
    "# with auto-resetting. These agents produce multiple variables in the workspace:\n",
    "# ’env/env_obs’, ’env/reward’, ’env/timestep’, ’env/terminated’,\n",
    "# 'env/truncated', 'env/done', ’env/cumulated_reward’, ... \n",
    "# \n",
    "# When called at timestep t=0, the environments are automatically reset. At\n",
    "# timestep t>0, these agents will read the ’action’ variable in the workspace at\n",
    "# time t − 1\n",
    "from bbrl.agents.gymnasium import GymAgent, ParallelGymAgent, make_env, record_video\n",
    "\n",
    "# Replay buffers are useful to store past transitions when training\n",
    "from bbrl.utils.replay_buffer import ReplayBuffer"
   ]
  },
  {
   "cell_type": "code",
   "execution_count": 4,
   "id": "551ee403",
   "metadata": {
    "jupyter": {
     "source_hidden": true
    },
    "lines_to_next_cell": 1,
    "tags": [
     "hide-input"
    ]
   },
   "outputs": [],
   "source": [
    "# Utility function for launching tensorboard\n",
    "# For Colab - otherwise, it is easier and better to launch tensorboard from\n",
    "# the terminal\n",
    "def setup_tensorboard(path):\n",
    "    path = Path(path)\n",
    "    answer = \"\"\n",
    "    if is_notebook():\n",
    "        if get_ipython().__class__.__module__ == \"google.colab._shell\":\n",
    "            answer = \"y\"\n",
    "        while answer not in [\"y\", \"n\"]:\n",
    "                answer = input(f\"Do you want to launch tensorboard in this notebook [y/n] \").lower()\n",
    "\n",
    "    if answer == \"y\":\n",
    "        get_ipython().run_line_magic(\"load_ext\", \"tensorboard\")\n",
    "        get_ipython().run_line_magic(\"tensorboard\", f\"--logdir {path.absolute()}\")\n",
    "    else:\n",
    "        import sys\n",
    "        import os\n",
    "        import os.path as osp\n",
    "        print(f\"Launch tensorboard from the shell:\\n{osp.dirname(sys.executable)}/tensorboard --logdir={path.absolute()}\")"
   ]
  },
  {
   "cell_type": "markdown",
   "id": "371a3018",
   "metadata": {},
   "source": [
    "As before, we start with a Random Agent and 3 instances of the CartPole environment"
   ]
  },
  {
   "cell_type": "code",
   "execution_count": 5,
   "id": "995523d9",
   "metadata": {
    "lines_to_next_cell": 2
   },
   "outputs": [
    {
     "name": "stdout",
     "output_type": "stream",
     "text": [
      "Environment: observation space in R^4 and action space R^2\n"
     ]
    }
   ],
   "source": [
    "# We deal with 3 a single environment (random seed 2139)\n",
    "\n",
    "env_agent = ParallelGymAgent(partial(make_env, env_name='CartPole-v1'), 1).seed(2139)\n",
    "obs_size, action_dim = env_agent.get_obs_and_actions_sizes()\n",
    "print(f\"Environment: observation space in R^{obs_size} and action space R^{action_dim}\")\n",
    "\n",
    "class RandomAgent(Agent):\n",
    "    def __init__(self, action_dim):\n",
    "        super().__init__()\n",
    "        self.action_dim = action_dim\n",
    "\n",
    "    def forward(self, t: int, choose_action=True, **kwargs):\n",
    "        \"\"\"An Agent can use self.workspace\"\"\"\n",
    "        obs = self.get((\"env/env_obs\", t))\n",
    "        action = torch.randint(0, self.action_dim, (len(obs), ))\n",
    "        self.set((\"action\", t), action)\n",
    "\n",
    "# Each agent will be run (in the order given when constructing Agents)\n",
    "agents = Agents(env_agent, RandomAgent(action_dim))\n",
    "t_agents = TemporalAgent(agents)"
   ]
  },
  {
   "cell_type": "markdown",
   "id": "cebc474c",
   "metadata": {},
   "source": [
    "Let us have a closer look at the content of the workspace"
   ]
  },
  {
   "cell_type": "code",
   "execution_count": 6,
   "id": "760af875",
   "metadata": {},
   "outputs": [
    {
     "data": {
      "text/plain": [
       "'Observations (first 3)'"
      ]
     },
     "metadata": {},
     "output_type": "display_data"
    },
    {
     "data": {
      "text/plain": [
       "tensor([[-0.0471,  0.0265,  0.0220, -0.0336],\n",
       "        [-0.0466,  0.2213,  0.0214, -0.3192],\n",
       "        [-0.0422,  0.0259,  0.0150, -0.0199]])"
      ]
     },
     "metadata": {},
     "output_type": "display_data"
    },
    {
     "data": {
      "text/plain": [
       "'Transitions of actions (first 3)'"
      ]
     },
     "metadata": {},
     "output_type": "display_data"
    },
    {
     "data": {
      "text/plain": [
       "'(s_0, s_1)'"
      ]
     },
     "metadata": {},
     "output_type": "display_data"
    },
    {
     "data": {
      "text/plain": [
       "tensor([[-0.0471,  0.0265,  0.0220, -0.0336],\n",
       "        [-0.0466,  0.2213,  0.0214, -0.3192]])"
      ]
     },
     "metadata": {},
     "output_type": "display_data"
    },
    {
     "data": {
      "text/plain": [
       "'(s_1, s_2)'"
      ]
     },
     "metadata": {},
     "output_type": "display_data"
    },
    {
     "data": {
      "text/plain": [
       "tensor([[-0.0466,  0.2213,  0.0214, -0.3192],\n",
       "        [-0.0422,  0.0259,  0.0150, -0.0199]])"
      ]
     },
     "metadata": {},
     "output_type": "display_data"
    },
    {
     "data": {
      "text/plain": [
       "'(s_2, s_3)'"
      ]
     },
     "metadata": {},
     "output_type": "display_data"
    },
    {
     "data": {
      "text/plain": [
       "tensor([[-0.0422,  0.0259,  0.0150, -0.0199],\n",
       "        [-0.0416,  0.2208,  0.0146, -0.3078]])"
      ]
     },
     "metadata": {},
     "output_type": "display_data"
    }
   ],
   "source": [
    "# Creates a new workspace\n",
    "workspace = Workspace() \n",
    "t_agents(workspace, stop_variable=\"env/done\")\n",
    "\n",
    "# We get the transitions: each tensor is transformed so\n",
    "# that: \n",
    "# - we have the value at time step t and t+1 (so all the tensors first dimension have a size of 2)\n",
    "# - there is no distinction between the different environments (here, there is just one environment run in parallel to make it easy)\n",
    "transitions = workspace.get_transitions()\n",
    "\n",
    "# You can see that each pair of actions in the transitions can be found in the workspace\n",
    "display(\"Observations (first 3)\", workspace[\"env/env_obs\"][:3, 0])\n",
    "\n",
    "display(\"Transitions of actions (first 3)\")\n",
    "for t in range(3):\n",
    "    display(f'(s_{t}, s_{t+1})')\n",
    "    display(transitions[\"env/env_obs\"][:, t])"
   ]
  },
  {
   "cell_type": "markdown",
   "id": "f75d430c",
   "metadata": {},
   "source": [
    "Note that if we were using more than 1 environment (say N), we would have to watch in the transition every N lines, since transitions are stored one environment after the other"
   ]
  },
  {
   "cell_type": "markdown",
   "id": "51be673e",
   "metadata": {},
   "source": [
    "## The replay buffer\n",
    "\n",
    "Differently from the previous case, we use a replace buffer that stores the a\n",
    "set of transitions $(s_t, a_t, r_t, s_{t+1})$\n",
    "Finally, the replay buffer keeps slices [:, i, ...] of the transition\n",
    "workspace (here at most 100 transitions)"
   ]
  },
  {
   "cell_type": "code",
   "execution_count": 7,
   "id": "9b94ad37",
   "metadata": {},
   "outputs": [
    {
     "data": {
      "text/plain": [
       "tensor([[[-0.0381, -0.3656,  0.0140,  0.5939],\n",
       "         [-0.0785, -0.3775,  0.1184,  0.8609],\n",
       "         [-0.0785, -0.3775,  0.1184,  0.8609]],\n",
       "\n",
       "        [[-0.0454, -0.1707,  0.0259,  0.3056],\n",
       "         [-0.0860, -0.1841,  0.1356,  0.6076],\n",
       "         [-0.0860, -0.1841,  0.1356,  0.6076]]])"
      ]
     },
     "execution_count": 7,
     "metadata": {},
     "output_type": "execute_result"
    }
   ],
   "source": [
    "rb = ReplayBuffer(max_size=100)\n",
    "\n",
    "# We add the transitions to the buffer....\n",
    "rb.put(transitions)\n",
    "\n",
    "# And sample from them here we get 3 tuples (s_t, s_{t+1})\n",
    "rb.get_shuffled(3)[\"env/env_obs\"]"
   ]
  },
  {
   "cell_type": "markdown",
   "id": "34eca761",
   "metadata": {
    "lines_to_next_cell": 2
   },
   "source": [
    "A transition workspace is still a workspace... this is quite\n",
    " handy since each transition can be seen as a mini-episode of two time steps;\n",
    " we can use our agents on it:"
   ]
  },
  {
   "cell_type": "code",
   "execution_count": 8,
   "id": "a34c70ee",
   "metadata": {},
   "outputs": [
    {
     "data": {
      "text/plain": [
       "tensor([[1, 0, 1, 0, 0, 1, 1, 0, 0, 0, 1, 1, 0, 0, 1, 1, 1, 0, 1, 0, 0, 1, 0, 0,\n",
       "         0, 1, 1, 0, 0, 1, 0],\n",
       "        [0, 1, 0, 0, 1, 1, 0, 0, 0, 1, 1, 0, 0, 1, 1, 1, 0, 1, 0, 0, 1, 0, 0, 0,\n",
       "         1, 1, 0, 0, 1, 0, 0]])"
      ]
     },
     "metadata": {},
     "output_type": "display_data"
    },
    {
     "data": {
      "text/plain": [
       "tensor([[1, 1, 1, 1, 0, 1, 0, 1, 0, 1, 0, 1, 0, 0, 1, 0, 1, 0, 1, 1, 1, 1, 0, 1,\n",
       "         1, 1, 1, 1, 0, 0, 1],\n",
       "        [1, 1, 0, 1, 0, 1, 1, 0, 0, 1, 1, 0, 0, 1, 0, 1, 0, 0, 1, 1, 1, 1, 0, 0,\n",
       "         0, 0, 0, 1, 0, 0, 0]])"
      ]
     },
     "metadata": {},
     "output_type": "display_data"
    }
   ],
   "source": [
    "# Just as a reference\n",
    "\n",
    "display(transitions[\"action\"])\n",
    "\n",
    "t_random_agent = TemporalAgent(RandomAgent(action_dim))\n",
    "t_random_agent(transitions, t=0, n_steps=2)\n",
    "\n",
    "# Here, the action tensor will have been overwritten by the new actions\n",
    "display(transitions[\"action\"])"
   ]
  },
  {
   "cell_type": "markdown",
   "id": "cd4124f7",
   "metadata": {},
   "source": [
    "## Definition of agents\n",
    "\n",
    "### The critic agent\n",
    "\n",
    "The [DQN](https://daiwk.github.io/assets/dqn.pdf) algorithm is a critic only\n",
    "algorithm. Thus we just need a Critic agent (which will also be used to output\n",
    "actions) and an Environment agent. We reuse the `DiscreteQAgent` class that we\n",
    "have already explained in the previous notebook."
   ]
  },
  {
   "cell_type": "markdown",
   "id": "92c72eb1",
   "metadata": {},
   "source": [
    "The function below builds a multi-layer perceptron where the size of each layer is given in the `size` list.\n",
    "We also specify the activation function of neurons at each layer and optionally a different activation function for the final layer."
   ]
  },
  {
   "cell_type": "code",
   "execution_count": 9,
   "id": "58eb625a",
   "metadata": {},
   "outputs": [
    {
     "name": "stderr",
     "output_type": "stream",
     "text": [
      "WARNING:py.warnings:<>:3: SyntaxWarning: invalid escape sequence '\\m'\n",
      "\n",
      "WARNING:py.warnings:<>:3: SyntaxWarning: invalid escape sequence '\\m'\n",
      "\n",
      "WARNING:py.warnings:C:\\Users\\titou\\AppData\\Local\\Temp\\ipykernel_7976\\2205681729.py:3: SyntaxWarning: invalid escape sequence '\\m'\n",
      "  \"\"\"Helper function to build a multi-layer perceptron (function from $\\mathbb R^n$ to $\\mathbb R^p$)\n",
      "\n"
     ]
    }
   ],
   "source": [
    "import torch.nn as nn\n",
    "def build_mlp(sizes, activation, output_activation=nn.Identity()):\n",
    "    \"\"\"Helper function to build a multi-layer perceptron (function from $\\mathbb R^n$ to $\\mathbb R^p$)\n",
    "    \n",
    "    Args:\n",
    "        sizes (List[int]): the number of neurons at each layer\n",
    "        activation (nn.Module): a PyTorch activation function (after each layer but the last)\n",
    "        output_activation (nn.Module): a PyTorch activation function (last layer)\n",
    "    \"\"\"\n",
    "    layers = []\n",
    "    for j in range(len(sizes) - 1):\n",
    "        act = activation if j < len(sizes) - 2 else output_activation\n",
    "        layers += [nn.Linear(sizes[j], sizes[j + 1]), act]\n",
    "    return nn.Sequential(*layers)"
   ]
  },
  {
   "cell_type": "code",
   "execution_count": 10,
   "id": "a2760d27",
   "metadata": {
    "lines_to_next_cell": 2
   },
   "outputs": [],
   "source": [
    "class DiscreteQAgent(Agent):\n",
    "    def __init__(self, state_dim, hidden_layers, action_dim):\n",
    "        super().__init__()\n",
    "        self.model = build_mlp(\n",
    "            [state_dim] + list(hidden_layers) + [action_dim], activation=nn.ReLU()\n",
    "        )\n",
    "\n",
    "    def forward(self, t, choose_action=True, **kwargs):\n",
    "        obs = self.get((\"env/env_obs\", t))\n",
    "        q_values = self.model(obs)\n",
    "        self.set((\"q_values\", t), q_values)\n",
    "\n",
    "        # Sets the action\n",
    "        if choose_action:\n",
    "            action = q_values.argmax(1)\n",
    "            self.set((\"action\", t), action)"
   ]
  },
  {
   "cell_type": "markdown",
   "id": "4299c558",
   "metadata": {},
   "source": [
    "### Creating an Exploration method"
   ]
  },
  {
   "cell_type": "markdown",
   "id": "e4244dd5",
   "metadata": {
    "lines_to_next_cell": 2
   },
   "source": [
    "As Q-learning, DQN needs some exploration to prevent too early convergence.\n",
    "Here we will use the simple $\\epsilon$-greedy exploration method. The method\n",
    "is implemented as an agent which chooses an action based on the Q-values."
   ]
  },
  {
   "cell_type": "code",
   "execution_count": 11,
   "id": "2f29b3bc",
   "metadata": {},
   "outputs": [],
   "source": [
    "class EGreedyActionSelector(Agent):\n",
    "    def __init__(self, epsilon):\n",
    "        super().__init__()\n",
    "        self.epsilon = epsilon\n",
    "\n",
    "    def forward(self, t, **kwargs):\n",
    "        q_values = self.get((\"q_values\", t))\n",
    "        nb_actions = q_values.size()[1]\n",
    "        size = q_values.size()[0]\n",
    "        is_random = torch.rand(size).lt(self.epsilon).float()\n",
    "        random_action = torch.randint(low=0, high=nb_actions, size=(size,))\n",
    "        max_action = q_values.max(1)[1]\n",
    "        action = is_random * random_action + (1 - is_random) * max_action\n",
    "        action = action.long()\n",
    "        self.set((\"action\", t), action)"
   ]
  },
  {
   "cell_type": "markdown",
   "id": "454f248f",
   "metadata": {
    "lines_to_next_cell": 2
   },
   "source": [
    "### Training and evaluation environments\n",
    "\n",
    "We build two environments: one for training and another one for evaluation.\n",
    "\n",
    "For training, it is more efficient to use an autoreset agent, as we do not\n",
    "want to waste time if the task is done in an environment sooner than in the\n",
    "others.\n",
    "\n",
    "By contrast, for evaluation, we just need to perform a fixed number of\n",
    "episodes (for statistics), thus it is more convenient to use a\n",
    "noautoreset agent with a set of environments and just run one episode in\n",
    "each environment. Thus we can use the `env/done` stop variable and take the\n",
    "average over the cumulated reward of all environments.\n",
    "\n",
    "See [this\n",
    "notebook](https://colab.research.google.com/drive/1Ui481r47fNHCQsQfKwdoNEVrEiqAEokh?usp=sharing)\n",
    "for explanations about agents and environment agents."
   ]
  },
  {
   "cell_type": "code",
   "execution_count": 12,
   "id": "3a83f636",
   "metadata": {},
   "outputs": [],
   "source": [
    "from typing import Tuple\n",
    "from bbrl.agents.gymnasium import make_env, GymAgent, ParallelGymAgent\n",
    "from functools import partial\n",
    "\n",
    "def get_env_agents(cfg, *, autoreset=True, include_last_state=True) -> Tuple[GymAgent, GymAgent]:\n",
    "    # Returns a pair of environments (train / evaluation) based on a configuration `cfg`\n",
    "    \n",
    "    # Train environment\n",
    "    train_env_agent = ParallelGymAgent(\n",
    "        partial(make_env, cfg.gym_env.env_name, autoreset=autoreset),\n",
    "        cfg.algorithm.n_envs, \n",
    "        include_last_state=include_last_state\n",
    "    ).seed(cfg.algorithm.seed)\n",
    "\n",
    "    # Test environment\n",
    "    eval_env_agent = ParallelGymAgent(\n",
    "        partial(make_env, cfg.gym_env.env_name), \n",
    "        cfg.algorithm.nb_evals,\n",
    "        include_last_state=include_last_state\n",
    "    ).seed(cfg.algorithm.seed)\n",
    "\n",
    "    return train_env_agent, eval_env_agent"
   ]
  },
  {
   "cell_type": "code",
   "execution_count": 13,
   "id": "657d46cd",
   "metadata": {},
   "outputs": [],
   "source": [
    "def create_dqn_agent(cfg, train_env_agent, eval_env_agent):\n",
    "    obs_size, act_size = train_env_agent.get_obs_and_actions_sizes()\n",
    "\n",
    "    # Get the two agents (critic and target critic)\n",
    "    critic = DiscreteQAgent(obs_size, cfg.algorithm.architecture.hidden_size, act_size)\n",
    "    target_critic = copy.deepcopy(critic)\n",
    "\n",
    "    # Builds the train agent that will produce transitions\n",
    "    explorer = EGreedyActionSelector(cfg.algorithm.epsilon)\n",
    "    tr_agent = Agents(train_env_agent, critic, explorer)\n",
    "    train_agent = TemporalAgent(tr_agent)\n",
    "\n",
    "    # Creates two temporal agents just for \"replaying\" some parts\n",
    "    # of the transition buffer    \n",
    "    q_agent = TemporalAgent(critic)\n",
    "    target_q_agent = TemporalAgent(target_critic)\n",
    "\n",
    "\n",
    "    # Get an agent that is executed on a complete workspace\n",
    "    ev_agent = Agents(eval_env_agent, critic)\n",
    "    eval_agent = TemporalAgent(ev_agent)\n",
    "\n",
    "    return train_agent, eval_agent, q_agent, target_q_agent"
   ]
  },
  {
   "cell_type": "markdown",
   "id": "50689925",
   "metadata": {},
   "source": [
    "### The Logger class\n",
    "\n",
    "The logger is in charge of collecting statistics during the training\n",
    "process.\n",
    "\n",
    "Having logging provided under the hood is one of the features allowing you\n",
    "to save time when using RL libraries like BBRL.\n",
    "\n",
    "In these notebooks, the logger is defined as `bbrl.utils.logger.TFLogger` so as\n",
    "to use a tensorboard visualisation (see the parameters part `params = { \"logger\":{ ...` below).\n",
    "\n",
    "Note that the BBRL Logger is also saving the log in a readable format such\n",
    "that you can use `Logger.read_directories(...)` to read multiple logs, create\n",
    "a dataframe, and analyze many experiments afterward in a notebook for\n",
    "instance. The code for the different kinds of loggers is available in the\n",
    "[bbrl/utils/logger.py](https://github.com/osigaud/bbrl/blob/master/src/bbrl/utils/logger.py)\n",
    "file.\n",
    "\n",
    "`instantiate_class` is an inner BBRL mechanism. The\n",
    "`instantiate_class`function is available in the\n",
    "[`bbrl/__init__.py`](https://github.com/osigaud/bbrl/blob/master/src/bbrl/__init__.py)\n",
    "file."
   ]
  },
  {
   "cell_type": "code",
   "execution_count": 14,
   "id": "07c59091",
   "metadata": {
    "jupyter": {
     "source_hidden": true
    },
    "lines_to_next_cell": 2,
    "tags": [
     "hide-input"
    ]
   },
   "outputs": [],
   "source": [
    "from bbrl import instantiate_class\n",
    "\n",
    "class Logger():\n",
    "\n",
    "    def __init__(self, cfg):\n",
    "        self.logger = instantiate_class(cfg.logger)\n",
    "\n",
    "    def add_log(self, log_string, loss, steps):\n",
    "        self.logger.add_scalar(log_string, loss.item(), steps)\n",
    "\n",
    "    # A specific function for RL algorithms having a critic, an actor and an entropy losses\n",
    "    def log_losses(self, critic_loss, entropy_loss, actor_loss, steps):\n",
    "        self.add_log(\"critic_loss\", critic_loss, steps)\n",
    "        self.add_log(\"entropy_loss\", entropy_loss, steps)\n",
    "        self.add_log(\"actor_loss\", actor_loss, steps)\n",
    "\n",
    "    def log_reward_losses(self, rewards, nb_steps):\n",
    "        self.add_log(\"reward/mean\", rewards.mean(), nb_steps)\n",
    "        self.add_log(\"reward/max\", rewards.max(), nb_steps)\n",
    "        self.add_log(\"reward/min\", rewards.min(), nb_steps)\n",
    "        self.add_log(\"reward/median\", rewards.median(), nb_steps)"
   ]
  },
  {
   "cell_type": "markdown",
   "id": "de247d98",
   "metadata": {
    "lines_to_next_cell": 2
   },
   "source": [
    "### Setup the optimizers\n",
    "\n",
    "We use a single optimizer to tune the parameters of the actor (in the\n",
    "prob_agent part) and the critic (in the critic_agent part). It would be\n",
    "possible to have two optimizers which would work separately on the parameters\n",
    "of each component agent, but it would be more complicated because updating the\n",
    "actor requires the gradient of the critic."
   ]
  },
  {
   "cell_type": "code",
   "execution_count": 15,
   "id": "f309e97b",
   "metadata": {},
   "outputs": [],
   "source": [
    "# Configure the optimizer over the q agent\n",
    "def setup_optimizers(cfg, q_agent):\n",
    "    optimizer_args = get_arguments(cfg.optimizer)\n",
    "    parameters = q_agent.parameters()\n",
    "    optimizer = get_class(cfg.optimizer)(parameters, **optimizer_args)\n",
    "    return optimizer"
   ]
  },
  {
   "cell_type": "markdown",
   "id": "bdbabb39",
   "metadata": {},
   "source": [
    "### Compute critic loss\n",
    "\n",
    "Detailed explanations of the function to compute the critic loss when using\n",
    "`autoreset=False` are given in [this\n",
    "notebook](http://master-dac.isir.upmc.fr/rld/rl/03-1-dqn-introduction.student.ipynb).\n",
    "The case where we use `autoreset=True` is very similar, but we need to\n",
    "specify that we use the first part of the Q-values (`q_values[0]`) for\n",
    "representing $Q(s_t,a_t)$ and the second part (`q_values[1]`) for representing\n",
    "$Q(s_{t+1},a)$, as these values are stored into a transition model."
   ]
  },
  {
   "cell_type": "code",
   "execution_count": 16,
   "id": "7e91b84b",
   "metadata": {},
   "outputs": [],
   "source": [
    "def compute_critic_loss(cfg, reward, must_bootstrap, q_values, target_q_values, action):\n",
    "\n",
    "    # To be completed...\n",
    "\n",
    "    #Adapt from the previous notebook and adapt to our case (target Q network)\n",
    "    #Don't forget that we deal with transitions (and not episodes)\n",
    "    # assert False, 'Not implemented yet'\n",
    "\n",
    "\n",
    "\n",
    "    # Compute critic loss (no need to use must_bootstrap here since we are dealing with \"full\" transitions)\n",
    "    '''mse = nn.MSELoss()\n",
    "    critic_loss = mse(target, qvals)\n",
    "    return critic_loss'''\n",
    "    # Select the Q-values for the actions taken\n",
    "    q_values_for_actions = q_values.gather(2, action.unsqueeze(-1)).squeeze(-1)\n",
    "    \n",
    "    # Compute the max Q-value for the next state, but not for the last timestep\n",
    "    next_q_values = q_values[1:].max(dim=2)[0]\n",
    "    # Compute the expected Q-values (target) for the current state and action\n",
    "    # Assuming next_q_values and must_bootstrap are correctly aligned and one step \"ahead\" of reward\n",
    "    target_q_values = reward[1:] + cfg[\"algorithm\"][\"discount_factor\"] * next_q_values * must_bootstrap\n",
    "\n",
    "    \n",
    "    # Compute the loss as the mean squared error between the current and target Q-values\n",
    "    loss = F.mse_loss(q_values_for_actions[:-1], target_q_values)\n",
    "    \n",
    "    return loss"
   ]
  },
  {
   "cell_type": "markdown",
   "id": "645a2283",
   "metadata": {},
   "source": [
    "## Main training loop\n",
    "\n",
    "Note that everything about the shared workspace between all the agents is\n",
    "completely hidden under the hood. This results in a gain of productivity, at\n",
    "the expense of having to dig into the BBRL code if you want to understand the\n",
    "details, change the multiprocessing model, etc.\n",
    "\n",
    "### Agent execution\n",
    "\n",
    "This is the tricky part with BBRL, the one we need to understand in detail.\n",
    "The difficulty lies in the copy of the last step and the way to deal with the\n",
    "n_steps return.\n",
    "\n",
    "The call to `train_agent(workspace, t=1, n_steps=cfg.algorithm.n_timesteps -\n",
    "1, stochastic=True)` makes the agent run a number of steps in the workspace.\n",
    "In practice, it calls the\n",
    "[`__call__(...)`](https://github.com/osigaud/bbrl/blob/master/src/bbrl/agents/agent.py#L59)\n",
    "function which makes a forward pass of the agent network using the workspace\n",
    "data and updates the workspace accordingly.\n",
    "\n",
    "Now, if we start at the first epoch (`epoch=0`), we start from the first step\n",
    "(`t=0`). But when subsequently we perform the next epochs (`epoch>0`), we must\n",
    "not forget to cover the transition at the border between the previous epoch\n",
    "and the current epoch. To avoid this risk, we copy the information from the\n",
    "last time step of the previous epoch into the first time step of the next\n",
    "epoch.\n",
    "\n",
    "Note that we `optimizer.zero_grad()`, `loss.backward()` and `optimizer.step()`\n",
    "lines. `optimizer.zero_grad()` is necessary to cancel all the gradients\n",
    "computed at the previous iterations"
   ]
  },
  {
   "cell_type": "code",
   "execution_count": 17,
   "id": "426a1b4f",
   "metadata": {
    "lines_to_next_cell": 0
   },
   "outputs": [],
   "source": [
    "def run_dqn(cfg, compute_critic_loss):\n",
    "    # 1)  Build the  logger\n",
    "    logger = Logger(cfg)\n",
    "    best_reward = float('-inf')\n",
    "\n",
    "    # 2) Create the environment agents\n",
    "    train_env_agent, eval_env_agent = get_env_agents(cfg)\n",
    "\n",
    "    # 3) Create the DQN-like Agent\n",
    "    train_agent, eval_agent, q_agent, target_q_agent = create_dqn_agent(\n",
    "        cfg, train_env_agent, eval_env_agent\n",
    "    )\n",
    "\n",
    "    # 5) Configure the workspace to the right dimension\n",
    "    # Note that no parameter is needed to create the workspace.\n",
    "    # In the training loop, calling the agent() and critic_agent()\n",
    "    # will take the workspace as parameter\n",
    "    train_workspace = Workspace()  # Used for training\n",
    "    rb = ReplayBuffer(max_size=cfg.algorithm.buffer_size)\n",
    "\n",
    "    # 6) Configure the optimizer over the dqn agent\n",
    "    optimizer = setup_optimizers(cfg, q_agent)\n",
    "    nb_steps = 0\n",
    "    last_eval_step = 0\n",
    "    last_critic_update_step = 0\n",
    "    best_agent = eval_agent.agent.agents[1]\n",
    "\n",
    "    # 7) Training loop\n",
    "    pbar = tqdm(range(cfg.algorithm.max_epochs))\n",
    "    for epoch in pbar:\n",
    "        # Execute the agent in the workspace\n",
    "        if epoch > 0:\n",
    "            train_workspace.zero_grad()\n",
    "            train_workspace.copy_n_last_steps(1)\n",
    "            train_agent(\n",
    "                train_workspace, t=1, n_steps=cfg.algorithm.n_steps, stochastic=True\n",
    "            )\n",
    "        else:\n",
    "            train_agent(\n",
    "                train_workspace, t=0, n_steps=cfg.algorithm.n_steps, stochastic=True\n",
    "            )\n",
    "\n",
    "        # Get the transitions\n",
    "        transition_workspace = train_workspace.get_transitions()\n",
    "\n",
    "        action = transition_workspace[\"action\"]\n",
    "        nb_steps += action[0].shape[0]\n",
    "        \n",
    "        # Adds the transitions to the workspace\n",
    "        rb.put(transition_workspace)\n",
    "        if rb.size() > cfg.algorithm.learning_starts:\n",
    "            for _ in range(cfg.algorithm.n_updates):\n",
    "                rb_workspace = rb.get_shuffled(cfg.algorithm.batch_size)\n",
    "\n",
    "                # The q agent needs to be executed on the rb_workspace workspace (gradients are removed in workspace)\n",
    "                q_agent(rb_workspace, t=0, n_steps=2, choose_action=False)\n",
    "                q_values, terminated, reward, action = rb_workspace[\n",
    "                    \"q_values\", \"env/terminated\", \"env/reward\", \"action\"\n",
    "                ]\n",
    "\n",
    "                with torch.no_grad():\n",
    "                    target_q_agent(rb_workspace, t=0, n_steps=2, stochastic=True)\n",
    "                target_q_values = rb_workspace[\"q_values\"]\n",
    "\n",
    "                # Determines whether values of the critic should be propagated\n",
    "                must_bootstrap = ~terminated[1]\n",
    "\n",
    "                # Compute critic loss\n",
    "                # FIXME: homogénéiser les notations (soit tranche temporelle, soit rien)\n",
    "                critic_loss = compute_critic_loss(\n",
    "                    cfg, reward, must_bootstrap, q_values, target_q_values[1], action\n",
    "                )\n",
    "                # Store the loss for tensorboard display\n",
    "                logger.add_log(\"critic_loss\", critic_loss, nb_steps)\n",
    "\n",
    "                optimizer.zero_grad()\n",
    "                critic_loss.backward()\n",
    "                torch.nn.utils.clip_grad_norm_(q_agent.parameters(), cfg.algorithm.max_grad_norm)\n",
    "                optimizer.step()\n",
    "                if nb_steps - last_critic_update_step > cfg.algorithm.target_critic_update:\n",
    "                    last_critic_update_step = nb_steps\n",
    "                    target_q_agent.agent = copy.deepcopy(q_agent.agent)\n",
    "\n",
    "        # Evaluate the current policy\n",
    "        if nb_steps - last_eval_step > cfg.algorithm.eval_interval:\n",
    "            last_eval_step = nb_steps\n",
    "            eval_workspace = Workspace()\n",
    "            eval_agent(\n",
    "                eval_workspace, t=0, stop_variable=\"env/done\", choose_action=True\n",
    "            )\n",
    "            rewards = eval_workspace[\"env/cumulated_reward\"][-1]\n",
    "            mean = rewards.mean()\n",
    "            logger.log_reward_losses(rewards, nb_steps)\n",
    "            pbar.set_description(f\"nb steps: {nb_steps}, reward: {mean:.3f}\")\n",
    "            if cfg.save_best and mean > best_reward:\n",
    "                best_reward = mean\n",
    "                best_agent = copy.deepcopy(eval_agent.agent.agents[1])\n",
    "                directory = \"./dqn_critic/\"\n",
    "                if not os.path.exists(directory):\n",
    "                    os.makedirs(directory)\n",
    "                filename = directory + \"dqn0_\" + str(mean.item()) + \".agt\"\n",
    "                eval_agent.save_model(filename)\n",
    "\n",
    "    return best_agent"
   ]
  },
  {
   "cell_type": "markdown",
   "id": "950031ca",
   "metadata": {},
   "source": [
    "## Definition of the parameters\n",
    "\n",
    "The logger is defined as `bbrl.utils.logger.TFLogger` so as to use a\n",
    "tensorboard visualisation.\n",
    "\n",
    "### Launching tensorboard to visualize the results"
   ]
  },
  {
   "cell_type": "code",
   "execution_count": 18,
   "id": "bcbe7c1f",
   "metadata": {},
   "outputs": [
    {
     "data": {
      "text/html": [
       "\n",
       "      <iframe id=\"tensorboard-frame-a1b1c4fa5109065e\" width=\"100%\" height=\"800\" frameborder=\"0\">\n",
       "      </iframe>\n",
       "      <script>\n",
       "        (function() {\n",
       "          const frame = document.getElementById(\"tensorboard-frame-a1b1c4fa5109065e\");\n",
       "          const url = new URL(\"/\", window.location);\n",
       "          const port = 6006;\n",
       "          if (port) {\n",
       "            url.port = port;\n",
       "          }\n",
       "          frame.src = url;\n",
       "        })();\n",
       "      </script>\n",
       "    "
      ],
      "text/plain": [
       "<IPython.core.display.HTML object>"
      ]
     },
     "metadata": {},
     "output_type": "display_data"
    }
   ],
   "source": [
    "\n",
    "setup_tensorboard('/tblogs') # \"\""
   ]
  },
  {
   "cell_type": "code",
   "execution_count": 19,
   "id": "7db6c86f",
   "metadata": {},
   "outputs": [
    {
     "data": {
      "application/vnd.jupyter.widget-view+json": {
       "model_id": "4366a7185db3435aa19b7486e23fb431",
       "version_major": 2,
       "version_minor": 0
      },
      "text/plain": [
       "  0%|          | 0/3500 [00:00<?, ?it/s]"
      ]
     },
     "metadata": {},
     "output_type": "display_data"
    }
   ],
   "source": [
    "params={\n",
    "  \"save_best\": False,\n",
    "  \"logger\":{\n",
    "    \"classname\": \"bbrl.utils.logger.TFLogger\",\n",
    "    \"log_dir\": \"./tblogs/dqn-buffer-\" + str(time.time()),\n",
    "    \"cache_size\": 10000,\n",
    "    \"every_n_seconds\": 10,\n",
    "    \"verbose\": False,    \n",
    "    },\n",
    "\n",
    "  \"algorithm\":{\n",
    "    \"seed\": 4,\n",
    "    \"max_grad_norm\": 0.5,\n",
    "    \"epsilon\": 0.02,\n",
    "    \"n_envs\": 8,\n",
    "    \"n_steps\": 32,\n",
    "    \"n_updates\": 32,\n",
    "    \"eval_interval\": 2000,\n",
    "    \"learning_starts\": 2000,\n",
    "    \"nb_evals\": 10,\n",
    "    \"buffer_size\": 1e6,\n",
    "    \"batch_size\": 256,\n",
    "    \"target_critic_update\": 5000,\n",
    "    \"max_epochs\": 3500,\n",
    "    \"discount_factor\": 0.99,\n",
    "    \"architecture\":{\"hidden_size\": [64, 64]},\n",
    "  },\n",
    "  \"gym_env\":{\n",
    "    \"env_name\": \"CartPole-v1\",\n",
    "  },\n",
    "  \"optimizer\":\n",
    "  {\n",
    "    \"classname\": \"torch.optim.Adam\",\n",
    "    \"lr\": 1e-3,\n",
    "  }\n",
    "}\n",
    "\n",
    "config=OmegaConf.create(params)\n",
    "torch.manual_seed(config.algorithm.seed)\n",
    "best_agent = run_dqn(config, compute_critic_loss)"
   ]
  },
  {
   "cell_type": "code",
   "execution_count": 20,
   "id": "d1c46770",
   "metadata": {},
   "outputs": [
    {
     "name": "stdout",
     "output_type": "stream",
     "text": [
      "Moviepy - Building video D:\\SORBONNE S2\\PLDAC_BBRL\\intro\\videos\\dqn-full.mp4.\n",
      "Moviepy - Writing video D:\\SORBONNE S2\\PLDAC_BBRL\\intro\\videos\\dqn-full.mp4\n",
      "\n"
     ]
    },
    {
     "name": "stderr",
     "output_type": "stream",
     "text": [
      "                                                               \r"
     ]
    },
    {
     "name": "stdout",
     "output_type": "stream",
     "text": [
      "Moviepy - Done !\n",
      "Moviepy - video ready D:\\SORBONNE S2\\PLDAC_BBRL\\intro\\videos\\dqn-full.mp4\n"
     ]
    },
    {
     "data": {
      "text/html": [
       "<div align=middle><video src='data:video/mp4;base64,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' controls>Sorry, seems like your browser doesn't support HTML5 audio/video</video></div>"
      ],
      "text/plain": [
       "<moviepy.video.io.html_tools.HTML2 object>"
      ]
     },
     "execution_count": 20,
     "metadata": {},
     "output_type": "execute_result"
    }
   ],
   "source": [
    "# Visualization\n",
    "env = make_env(config.gym_env.env_name, render_mode=\"rgb_array\")\n",
    "record_video(env, best_agent, \"videos/dqn-full.mp4\")\n",
    "video_display(\"videos/dqn-full.mp4\")"
   ]
  },
  {
   "cell_type": "markdown",
   "id": "847eb335",
   "metadata": {},
   "source": [
    "## Coding Exercise: Double DQN (DDQN)\n",
    "\n",
    "In DQN, the same network is responsible for selecting and estimating the best\n",
    "next action (in the TD-target) and that may lead to over-estimation: the\n",
    "action which q-value is over-estimated will be chosen more often. As a result,\n",
    "training is slower.\n",
    "\n",
    "To reduce over-estimation, double q-learning (and then DDQN) was proposed. It\n",
    "decouples the action selection from the value estimation.\n",
    "\n",
    "Concretely, in DQN, the target value in the critic loss (used to update the Q\n",
    "critic) for a sample at time $t$ is defined as:\n",
    "\n",
    "$$Y^{DQN}_{t} = r_{t+1} + \\gamma{Q}\\left(s_{t+1}, \\arg\\max_{a}Q\\left(s_{t+1},\n",
    "a; \\mathbb{\\theta}_{target}\\right); \\mathbb{\\theta}_{target}\\right)$$\n",
    "\n",
    "where the target network `target_q_agent` with parameters\n",
    "$\\mathbb{\\theta}_{target}$ is used for both action selection and estimation,\n",
    "and can therefore be rewritten:\n",
    "\n",
    "$$Y^{DQN}_{t} = r_{t+1} + \\gamma \\max_{a}{Q}\\left(s_{t+1}, a;\n",
    "\\mathbb{\\theta}_{target}\\right)$$\n",
    "\n",
    "Instead, DDQN uses the online critic `q_agent` with parameters\n",
    "$\\mathbb{\\theta}_{online}$ to select the action, whereas it uses the target\n",
    "network `target_q_agent` to estimate the associated Q-values:\n",
    "\n",
    "$$Y^{DDQN}_{t} = r_{t+1} + \\gamma{Q}\\left(s_{t+1}, \\arg\\max_{a}Q\\left(s_{t+1},\n",
    "a; \\mathbb{\\theta}_{online}\\right); \\mathbb{\\theta}_{target}\\right)$$\n",
    "\n",
    "The goal in this exercise is for you to write the update method for `DDQN`."
   ]
  },
  {
   "cell_type": "code",
   "execution_count": 28,
   "id": "c8be5f5b",
   "metadata": {
    "lines_to_next_cell": 2
   },
   "outputs": [],
   "source": [
    "def compute_ddqn_loss(cfg, reward, must_bootstrap, q_values, target_q_values, action):\n",
    "    # Assuming action, reward, must_bootstrap are properly aligned with q_values & target_q_values' time dimension\n",
    "    \n",
    "    # Step 1: Action selection using the online Q-values (excluding the last timestep)\n",
    "    next_actions = q_values[:-1].max(dim=2, keepdim=True)[1]  # Keeping dimension for gather\n",
    "    \n",
    "    # Step 2: Q-value estimation for the selected actions using the target network (for the next timestep)\n",
    "    # It's crucial that next_actions are used to index into the next timestep's Q-values from target_q_values\n",
    "    # Here, we correctly align the dimensions for gather and ensure we're gathering along the correct axis\n",
    "    next_q_values = target_q_values.gather(2, next_actions).squeeze(-1)  # Removing the last dimension after gather\n",
    "    \n",
    "    # Ensure correct alignment of dimensions for reward and must_bootstrap\n",
    "    # Only include rewards and bootstrap flags for timesteps that correspond to next_actions\n",
    "    rewards = reward[1:]\n",
    "    dones = must_bootstrap[1:]\n",
    "    \n",
    "    # Step 3: Compute the DDQN target Q-value for each action taken\n",
    "    targets = rewards + (cfg.algorithm.discount_factor * next_q_values * dones)\n",
    "    \n",
    "    # Extracting the Q-values for the actions taken from q_values\n",
    "    qvals = q_values[:-1].gather(2, action[:-1].unsqueeze(-1)).squeeze(-1)\n",
    "    \n",
    "    # Calculate the mean squared error loss\n",
    "    mse = nn.MSELoss()\n",
    "    critic_loss = mse(qvals, targets.detach())\n",
    "    \n",
    "    return critic_loss"
   ]
  },
  {
   "cell_type": "code",
   "execution_count": 29,
   "id": "d8cd4e17",
   "metadata": {},
   "outputs": [
    {
     "data": {
      "application/vnd.jupyter.widget-view+json": {
       "model_id": "c57b7764b81842a7b05fb24c540c0dd2",
       "version_major": 2,
       "version_minor": 0
      },
      "text/plain": [
       "  0%|          | 0/3500 [00:00<?, ?it/s]"
      ]
     },
     "metadata": {},
     "output_type": "display_data"
    },
    {
     "ename": "IndexError",
     "evalue": "Dimension out of range (expected to be in range of [-2, 1], but got 2)",
     "output_type": "error",
     "traceback": [
      "\u001b[1;31m---------------------------------------------------------------------------\u001b[0m",
      "\u001b[1;31mIndexError\u001b[0m                                Traceback (most recent call last)",
      "Cell \u001b[1;32mIn[29], line 40\u001b[0m\n\u001b[0;32m     38\u001b[0m config\u001b[38;5;241m=\u001b[39mOmegaConf\u001b[38;5;241m.\u001b[39mcreate(params)\n\u001b[0;32m     39\u001b[0m torch\u001b[38;5;241m.\u001b[39mmanual_seed(config\u001b[38;5;241m.\u001b[39malgorithm\u001b[38;5;241m.\u001b[39mseed)\n\u001b[1;32m---> 40\u001b[0m best_agent \u001b[38;5;241m=\u001b[39m \u001b[43mrun_dqn\u001b[49m\u001b[43m(\u001b[49m\u001b[43mconfig\u001b[49m\u001b[43m,\u001b[49m\u001b[43m \u001b[49m\u001b[43mcompute_ddqn_loss\u001b[49m\u001b[43m)\u001b[49m\n",
      "Cell \u001b[1;32mIn[17], line 70\u001b[0m, in \u001b[0;36mrun_dqn\u001b[1;34m(cfg, compute_critic_loss)\u001b[0m\n\u001b[0;32m     66\u001b[0m must_bootstrap \u001b[38;5;241m=\u001b[39m \u001b[38;5;241m~\u001b[39mterminated[\u001b[38;5;241m1\u001b[39m]\n\u001b[0;32m     68\u001b[0m \u001b[38;5;66;03m# Compute critic loss\u001b[39;00m\n\u001b[0;32m     69\u001b[0m \u001b[38;5;66;03m# FIXME: homogénéiser les notations (soit tranche temporelle, soit rien)\u001b[39;00m\n\u001b[1;32m---> 70\u001b[0m critic_loss \u001b[38;5;241m=\u001b[39m \u001b[43mcompute_critic_loss\u001b[49m\u001b[43m(\u001b[49m\n\u001b[0;32m     71\u001b[0m \u001b[43m    \u001b[49m\u001b[43mcfg\u001b[49m\u001b[43m,\u001b[49m\u001b[43m \u001b[49m\u001b[43mreward\u001b[49m\u001b[43m,\u001b[49m\u001b[43m \u001b[49m\u001b[43mmust_bootstrap\u001b[49m\u001b[43m,\u001b[49m\u001b[43m \u001b[49m\u001b[43mq_values\u001b[49m\u001b[43m,\u001b[49m\u001b[43m \u001b[49m\u001b[43mtarget_q_values\u001b[49m\u001b[43m[\u001b[49m\u001b[38;5;241;43m1\u001b[39;49m\u001b[43m]\u001b[49m\u001b[43m,\u001b[49m\u001b[43m \u001b[49m\u001b[43maction\u001b[49m\n\u001b[0;32m     72\u001b[0m \u001b[43m\u001b[49m\u001b[43m)\u001b[49m\n\u001b[0;32m     73\u001b[0m \u001b[38;5;66;03m# Store the loss for tensorboard display\u001b[39;00m\n\u001b[0;32m     74\u001b[0m logger\u001b[38;5;241m.\u001b[39madd_log(\u001b[38;5;124m\"\u001b[39m\u001b[38;5;124mcritic_loss\u001b[39m\u001b[38;5;124m\"\u001b[39m, critic_loss, nb_steps)\n",
      "Cell \u001b[1;32mIn[28], line 7\u001b[0m, in \u001b[0;36mcompute_ddqn_loss\u001b[1;34m(cfg, reward, must_bootstrap, q_values, target_q_values, action)\u001b[0m\n\u001b[0;32m      3\u001b[0m next_actions \u001b[38;5;241m=\u001b[39m q_values[\u001b[38;5;241m1\u001b[39m:]\u001b[38;5;241m.\u001b[39mmax(dim\u001b[38;5;241m=\u001b[39m\u001b[38;5;241m2\u001b[39m)[\u001b[38;5;241m1\u001b[39m]\u001b[38;5;241m.\u001b[39munsqueeze(\u001b[38;5;241m-\u001b[39m\u001b[38;5;241m1\u001b[39m)  \u001b[38;5;66;03m# [batch_size, num_steps-1, 1]\u001b[39;00m\n\u001b[0;32m      5\u001b[0m \u001b[38;5;66;03m# Use the selected action to get the Q-value from the target network\u001b[39;00m\n\u001b[0;32m      6\u001b[0m \u001b[38;5;66;03m# We detach here to prevent gradients from flowing into the target network\u001b[39;00m\n\u001b[1;32m----> 7\u001b[0m next_q_values \u001b[38;5;241m=\u001b[39m \u001b[43mtarget_q_values\u001b[49m\u001b[43m[\u001b[49m\u001b[38;5;241;43m1\u001b[39;49m\u001b[43m:\u001b[49m\u001b[43m]\u001b[49m\u001b[38;5;241;43m.\u001b[39;49m\u001b[43mgather\u001b[49m\u001b[43m(\u001b[49m\u001b[38;5;241;43m2\u001b[39;49m\u001b[43m,\u001b[49m\u001b[43m \u001b[49m\u001b[43mnext_actions\u001b[49m\u001b[43m)\u001b[49m\u001b[38;5;241m.\u001b[39msqueeze(\u001b[38;5;241m-\u001b[39m\u001b[38;5;241m1\u001b[39m)\u001b[38;5;241m.\u001b[39mdetach()  \u001b[38;5;66;03m# [batch_size, num_steps-1]\u001b[39;00m\n\u001b[0;32m      9\u001b[0m \u001b[38;5;66;03m# Calculate the target Q-values for the current state\u001b[39;00m\n\u001b[0;32m     10\u001b[0m \u001b[38;5;66;03m# We use detach to ensure that the computation graph of the target does not backpropagate\u001b[39;00m\n\u001b[0;32m     11\u001b[0m targets \u001b[38;5;241m=\u001b[39m reward[:\u001b[38;5;241m-\u001b[39m\u001b[38;5;241m1\u001b[39m] \u001b[38;5;241m+\u001b[39m cfg\u001b[38;5;241m.\u001b[39malgorithm\u001b[38;5;241m.\u001b[39mdiscount_factor \u001b[38;5;241m*\u001b[39m next_q_values \u001b[38;5;241m*\u001b[39m must_bootstrap[:\u001b[38;5;241m-\u001b[39m\u001b[38;5;241m1\u001b[39m]  \u001b[38;5;66;03m# [batch_size, num_steps-1]\u001b[39;00m\n",
      "\u001b[1;31mIndexError\u001b[0m: Dimension out of range (expected to be in range of [-2, 1], but got 2)"
     ]
    }
   ],
   "source": [
    "params={\n",
    "  \"save_best\": False,\n",
    "  \"logger\":{\n",
    "    \"classname\": \"bbrl.utils.logger.TFLogger\",\n",
    "    \"log_dir\": \"./tblogs/ddqn-buffer-\" + str(time.time()),\n",
    "    \"cache_size\": 10000,\n",
    "    \"every_n_seconds\": 10,\n",
    "    \"verbose\": False,    \n",
    "    },\n",
    "\n",
    "  \"algorithm\":{\n",
    "    \"seed\": 4,\n",
    "    \"max_grad_norm\": 0.5,\n",
    "    \"epsilon\": 0.02,\n",
    "    \"n_envs\": 8,\n",
    "    \"n_steps\": 32,\n",
    "    \"n_updates\": 32,\n",
    "    \"eval_interval\": 2000,\n",
    "    \"learning_starts\": 2000,\n",
    "    \"nb_evals\": 10,\n",
    "    \"buffer_size\": 1e6,\n",
    "    \"batch_size\": 256,\n",
    "    \"target_critic_update\": 5000,\n",
    "    \"max_epochs\": 3500,\n",
    "    \"discount_factor\": 0.99,\n",
    "    \"architecture\":{\"hidden_size\": [128, 128]},\n",
    "  },\n",
    "  \"gym_env\":{\n",
    "    \"env_name\": \"CartPole-v1\",\n",
    "  },\n",
    "  \"optimizer\":\n",
    "  {\n",
    "    \"classname\": \"torch.optim.Adam\",\n",
    "    \"lr\": 1e-3,\n",
    "  }\n",
    "}\n",
    "\n",
    "config=OmegaConf.create(params)\n",
    "torch.manual_seed(config.algorithm.seed)\n",
    "best_agent = run_dqn(config, compute_ddqn_loss)"
   ]
  },
  {
   "cell_type": "code",
   "execution_count": null,
   "id": "5806e46e",
   "metadata": {},
   "outputs": [],
   "source": [
    "# Visualization\n",
    "env = make_env(config.gym_env.env_name, render_mode=\"rgb_array\")\n",
    "record_video(env, best_agent, \"videos/dqn-double.mp4\")\n",
    "video_display(\"videos/dqn-double.mp4\")"
   ]
  }
 ],
 "metadata": {
  "jupytext": {
   "cell_markers": "\"\"\""
  },
  "kernelspec": {
   "display_name": "Python 3 (ipykernel)",
   "language": "python",
   "name": "python3"
  },
  "language_info": {
   "codemirror_mode": {
    "name": "ipython",
    "version": 3
   },
   "file_extension": ".py",
   "mimetype": "text/x-python",
   "name": "python",
   "nbconvert_exporter": "python",
   "pygments_lexer": "ipython3",
   "version": "3.12.0"
  }
 },
 "nbformat": 4,
 "nbformat_minor": 5
}
