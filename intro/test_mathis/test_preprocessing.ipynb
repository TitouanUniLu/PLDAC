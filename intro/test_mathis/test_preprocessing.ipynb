{
 "cells": [
  {
   "cell_type": "code",
   "execution_count": 1,
   "metadata": {
    "collapsed": false
   },
   "outputs": [],
   "source": [
    "import gymnasium as gym\n",
    "import matplotlib.pyplot as plt"
   ]
  },
  {
   "cell_type": "code",
   "execution_count": 2,
   "metadata": {
    "collapsed": false
   },
   "outputs": [],
   "source": [
    "import os\n",
    "import numpy as np"
   ]
  },
  {
   "cell_type": "code",
   "execution_count": 3,
   "metadata": {
    "collapsed": false
   },
   "outputs": [
    {
     "ename": "ImportError",
     "evalue": "cannot import name 'PixelOnlyObservationWrapper' from 'pixel_only_observation' (d:\\SORBONNE S2\\PLDAC_BBRL\\intro\\test_mathis\\pixel_only_observation.py)",
     "output_type": "error",
     "traceback": [
      "\u001b[1;31m---------------------------------------------------------------------------\u001b[0m",
      "\u001b[1;31mImportError\u001b[0m                               Traceback (most recent call last)",
      "Cell \u001b[1;32mIn[3], line 2\u001b[0m\n\u001b[0;32m      1\u001b[0m \u001b[38;5;28;01mfrom\u001b[39;00m \u001b[38;5;21;01mgymnasium\u001b[39;00m\u001b[38;5;21;01m.\u001b[39;00m\u001b[38;5;21;01mwrappers\u001b[39;00m \u001b[38;5;28;01mimport\u001b[39;00m GrayScaleObservation, FrameStack, ResizeObservation\n\u001b[1;32m----> 2\u001b[0m \u001b[38;5;28;01mfrom\u001b[39;00m \u001b[38;5;21;01mpixel_only_observation\u001b[39;00m \u001b[38;5;28;01mimport\u001b[39;00m PixelOnlyObservationWrapper\n\u001b[0;32m      3\u001b[0m \u001b[38;5;28;01mfrom\u001b[39;00m \u001b[38;5;21;01mbinarize_observation\u001b[39;00m \u001b[38;5;28;01mimport\u001b[39;00m BinarizeObservation\n\u001b[0;32m      4\u001b[0m \u001b[38;5;28;01mfrom\u001b[39;00m \u001b[38;5;21;01mexperiments\u001b[39;00m \u001b[38;5;28;01mimport\u001b[39;00m environments\n",
      "\u001b[1;31mImportError\u001b[0m: cannot import name 'PixelOnlyObservationWrapper' from 'pixel_only_observation' (d:\\SORBONNE S2\\PLDAC_BBRL\\intro\\test_mathis\\pixel_only_observation.py)"
     ]
    }
   ],
   "source": [
    "from gymnasium.wrappers import GrayScaleObservation, FrameStack, ResizeObservation\n",
    "from pixel_only_observation import PixelOnlyObservationWrapper\n",
    "from binarize_observation import BinarizeObservation\n",
    "from experiments import environments"
   ]
  },
  {
   "cell_type": "code",
   "execution_count": null,
   "metadata": {
    "collapsed": false
   },
   "outputs": [],
   "source": [
    "env = gym.make(\"CartPole-v2\", render_mode=\"rgb_array\")\n",
    "env = PixelOnlyObservationWrapper(env)\n",
    "# if needed, resize the observation with:\n",
    "# env = ResizeObservation(env, 80) # (not needed with custom CartPoleEnv-v2)\n",
    "\n",
    "env_gray = GrayScaleObservation(env=env)\n",
    "env_bin_bw = BinarizeObservation(env=env_gray, threshold=230, invert=True)\n",
    "env_bin_color = FrameStack(env=env_bin_bw, num_stack=3)"
   ]
  },
  {
   "cell_type": "code",
   "execution_count": null,
   "metadata": {
    "collapsed": false
   },
   "outputs": [],
   "source": [
    "obs_bin_color, _ = env_bin_color.reset()\n",
    "for i in range(4):\n",
    "    obs_bin_color, _, _, _, _ = env_bin_color.step(0)"
   ]
  },
  {
   "cell_type": "code",
   "execution_count": null,
   "metadata": {
    "collapsed": false
   },
   "outputs": [],
   "source": [
    "obs = np.array(obs_bin_color)\n",
    "obs = np.moveaxis(obs, 0, -1)\n",
    "save_dir = \"outputs/\"\n",
    "if not os.path.exists(save_dir):\n",
    "    os.makedirs(save_dir)\n",
    "\n",
    "plt.figure()\n",
    "name = save_dir + \"preprocess_\" + str(obs.shape)\n",
    "data = obs * 255\n",
    "plt.imshow(data)\n",
    "plt.imsave(name + \".png\", data)"
   ]
  }
 ],
 "metadata": {
  "kernelspec": {
   "display_name": "Python 3",
   "language": "python",
   "name": "python3"
  },
  "language_info": {
   "codemirror_mode": {
    "name": "ipython",
    "version": 3
   },
   "file_extension": ".py",
   "mimetype": "text/x-python",
   "name": "python",
   "nbconvert_exporter": "python",
   "pygments_lexer": "ipython3",
   "version": "3.12.0"
  }
 },
 "nbformat": 4,
 "nbformat_minor": 0
}
