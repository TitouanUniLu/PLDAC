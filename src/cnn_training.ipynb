{
 "cells": [
  {
   "cell_type": "code",
   "execution_count": 3,
   "metadata": {},
   "outputs": [],
   "source": [
    "import torch\n",
    "import torch.nn as nn\n",
    "import torchvision.transforms as transforms\n",
    "import torch.nn.functional as F  # Ensure this import is added\n",
    "\n",
    "from torch.utils.data import DataLoader, TensorDataset\n",
    "import gymnasium \n",
    "import numpy as np\n",
    "from PIL import Image\n",
    "import matplotlib.pyplot as plt\n",
    "import cv2"
   ]
  },
  {
   "cell_type": "markdown",
   "metadata": {},
   "source": [
    "### CNN 1 : RGB "
   ]
  },
  {
   "cell_type": "code",
   "execution_count": 46,
   "metadata": {},
   "outputs": [],
   "source": [
    "# Parameters\n",
    "sequence_length = 4  # Number of images in each sequence, IL FAUT TESTER AVEC 2 P-E CA CHANGE TOUT \n",
    "num_episodes = 300   ### JOUER AVEC CE PARAMETRE POUR AMELIORER LE MODELE : TESTER AVEC 1000 SERAIT COOL\n",
    "\n",
    "# Environment Setup\n",
    "env = gymnasium.make('CartPole-v1',render_mode=\"rgb_array\")\n",
    "data_images = []\n",
    "data_states = []\n",
    "\n",
    "# Transformation for images\n",
    "transform = transforms.Compose([transforms.ToPILImage(), \n",
    "                    transforms.Resize(60, interpolation=Image.LANCZOS),\n",
    "                    transforms.ToTensor()])\n",
    "\n",
    "\n",
    "# Cart location for centering image crop\n",
    "def get_cart_location(screen_width):\n",
    "    world_width = env.x_threshold * 2\n",
    "    scale = screen_width / world_width\n",
    "    return int(env.state[0] * scale + screen_width / 2.0)  # MIDDLE OF CART\n",
    "\n",
    "# Cropping, downsampling (and Grayscaling) image\n",
    "def get_screen():\n",
    "    # Returned screen requested by gym is 400x600x3, but is sometimes larger\n",
    "    # such as 800x1200x3. Transpose it into torch order (CHW).\n",
    "    screen = env.render().transpose((2, 0, 1))\n",
    "    # Cart is in the lower half, so strip off the top and bottom of the screen\n",
    "    _, screen_height, screen_width = screen.shape\n",
    "    screen = screen[:, int(screen_height*0.4):int(screen_height * 0.8)]\n",
    "    view_width = int(screen_width * 0.6)\n",
    "    cart_location = get_cart_location(screen_width)\n",
    "    if cart_location < view_width // 2:\n",
    "        slice_range = slice(view_width)\n",
    "    elif cart_location > (screen_width - view_width // 2):\n",
    "        slice_range = slice(-view_width, None)\n",
    "    else:\n",
    "        slice_range = slice(cart_location - view_width // 2,\n",
    "                            cart_location + view_width // 2)\n",
    "    # Strip off the edges, so that we have a square image centered on a cart\n",
    "    screen = screen[:, :, slice_range]\n",
    "    # Convert to float, rescale, convert to torch tensor\n",
    "    # (this doesn't require a copy)\n",
    "    screen = np.ascontiguousarray(screen, dtype=np.float32) / 255\n",
    "    # Resize, and add a batch dimension (BCHW)\n",
    "    screen = torch.from_numpy(screen)\n",
    "    return transform(screen)"
   ]
  },
  {
   "cell_type": "code",
   "execution_count": 47,
   "metadata": {},
   "outputs": [],
   "source": [
    "\n",
    "# Data Collection using Heuristic Policy\n",
    "for episode in range(num_episodes):\n",
    "    observation = env.reset()[0]\n",
    "    images = [torch.zeros(3, 60, 135) for _ in range(4)]\n",
    "           \n",
    "    for t in range(1000):\n",
    "        tensor_image = get_screen()  # Transform image immediately\n",
    "        # if t==4:\n",
    "        #     print(tensor_image.shape)\n",
    "        #     plt.imshow(np.array(tensor_image.permute(1,2,0)))\n",
    "        images.append(tensor_image)\n",
    "        \n",
    "        if len(images) >= sequence_length:\n",
    "            # Stack the last sequence_length images to form a single sequence tensor\n",
    "            sequence_tensor = torch.stack(images[-sequence_length:], dim=0).permute(1, 0, 2, 3)\n",
    "            data_images.append(sequence_tensor)\n",
    "            data_states.append(observation)\n",
    "        \n",
    "        action = env.action_space.sample()  \n",
    "        observation, reward, done, info, _ = env.step(action)\n",
    "        if done:\n",
    "            break\n",
    "\n",
    "env.close()\n",
    "\n",
    "# Convert data_states to a tensor\n",
    "data_states = torch.tensor(data_states, dtype=torch.float32)\n",
    "\n",
    "# Dataset and DataLoader\n",
    "dataset = TensorDataset(torch.stack(data_images), data_states)\n",
    "dataloader = DataLoader(dataset, batch_size=10, shuffle=True)\n"
   ]
  },
  {
   "cell_type": "code",
   "execution_count": 48,
   "metadata": {},
   "outputs": [],
   "source": [
    "# Model Definition\n",
    "class CNN(nn.Module):\n",
    "    def __init__(self):\n",
    "        super(CNN, self).__init__()\n",
    "        self.conv_layers = nn.Sequential(\n",
    "            nn.Conv3d(3, 16, kernel_size=(3, 3, 3), stride=1, padding=1),\n",
    "            nn.ReLU(),\n",
    "            nn.MaxPool3d(kernel_size=(1, 2, 2), stride=(1, 2, 2)),\n",
    "            nn.Conv3d(16, 32, kernel_size=(3, 3, 3), stride=1, padding=1),\n",
    "            nn.ReLU(),\n",
    "            nn.MaxPool3d(kernel_size=(1, 2, 2), stride=(1, 2, 2)),\n",
    "        )\n",
    "        # Correctly calculate the input size for the linear layer based on the output from conv_layers\n",
    "        self.fc_layers = nn.Sequential(\n",
    "            nn.Linear(63360, 128),  # Adjusted based on actual output size\n",
    "            nn.ReLU(),\n",
    "            nn.Linear(128, 4)  # Predicting 4 state variables\n",
    "        )\n",
    "\n",
    "    def forward(self, x):\n",
    "        x = self.conv_layers(x)\n",
    "        x = x.view(x.size(0), -1)  # Flatten the tensor for the fully connected layer\n",
    "        x = self.fc_layers(x)\n",
    "        return x"
   ]
  },
  {
   "cell_type": "code",
   "execution_count": 50,
   "metadata": {},
   "outputs": [
    {
     "name": "stdout",
     "output_type": "stream",
     "text": [
      "Epoch 1, Loss: 0.3072144091129303\n"
     ]
    }
   ],
   "source": [
    "# Model instantiation and training setup\n",
    "model = CNN()\n",
    "criterion = nn.MSELoss()\n",
    "optimizer = torch.optim.Adam(model.parameters(), lr=0.001)\n",
    "\n",
    "# Training Loop\n",
    "num_epochs = 1 # Peut-être avec plus d'epoch on obtiendrait un meilleur résultat ? jsp\n",
    "for epoch in range(num_epochs):\n",
    "    for images, states in dataloader:\n",
    "        optimizer.zero_grad()\n",
    "        outputs = model(images)\n",
    "        loss = criterion(outputs, states)\n",
    "        loss.backward()\n",
    "        optimizer.step()\n",
    "    print(f'Epoch {epoch+1}, Loss: {loss.item()}')\n",
    "\n"
   ]
  },
  {
   "cell_type": "code",
   "execution_count": 175,
   "metadata": {},
   "outputs": [],
   "source": [
    "# Save the model\n",
    "torch.save(model.state_dict(), 'cartpole_cnn_rgb.pth')"
   ]
  },
  {
   "cell_type": "code",
   "execution_count": 52,
   "metadata": {},
   "outputs": [
    {
     "name": "stdout",
     "output_type": "stream",
     "text": [
      "torch.Size([10, 3, 4, 60, 135]) torch.Size([10, 4])\n",
      "tensor([[-0.0183,  0.0237, -0.0026,  0.0365]], grad_fn=<AddmmBackward0>) tensor([ 0.0107,  0.0295, -0.0081, -0.0399])\n"
     ]
    }
   ],
   "source": [
    "# Voir un peu ce que ça donne\n",
    "\n",
    "model.eval()\n",
    "for images, states in dataloader:\n",
    "    print(images.shape,states.shape)\n",
    "    print(model(images[0].unsqueeze(0)),states[0])\n",
    "    break"
   ]
  },
  {
   "cell_type": "code",
   "execution_count": 68,
   "metadata": {},
   "outputs": [
    {
     "name": "stdout",
     "output_type": "stream",
     "text": [
      "torch.Size([10, 4]) torch.Size([10, 4, 60, 135, 3])\n",
      "tensor([-0.0125,  0.2285,  0.0047, -0.2600])\n"
     ]
    },
    {
     "data": {
      "image/png": "[encoded data removed]",
      "text/plain": [
       "<Figure size 2000x3000 with 4 Axes>"
      ]
     },
     "metadata": {},
     "output_type": "display_data"
    }
   ],
   "source": [
    "for images, labels in dataloader:\n",
    "    images = images.permute((0,2,3,4,1))\n",
    "    print(labels.shape,images.shape)\n",
    "    fig,axes = plt.subplots(1,4,figsize = (20,30))\n",
    "    for i in range(4):\n",
    "        axes[i].imshow(images[0][i])\n",
    "    print(labels[0])\n",
    "\n",
    "    break"
   ]
  },
  {
   "cell_type": "code",
   "execution_count": 5,
   "metadata": {},
   "outputs": [
    {
     "ename": "AttributeError",
     "evalue": "'collections.OrderedDict' object has no attribute 'seek'. You can only torch.load from a file that is seekable. Please pre-load the data into a buffer like io.BytesIO and try to load from it instead.",
     "output_type": "error",
     "traceback": [
      "\u001b[1;31m---------------------------------------------------------------------------\u001b[0m",
      "\u001b[1;31mAttributeError\u001b[0m                            Traceback (most recent call last)",
      "File \u001b[1;32m~\\AppData\\Local\\Packages\\PythonSoftwareFoundation.Python.3.11_qbz5n2kfra8p0\\LocalCache\\local-packages\\Python311\\site-packages\\torch\\serialization.py:541\u001b[0m, in \u001b[0;36m_check_seekable\u001b[1;34m(f)\u001b[0m\n\u001b[0;32m    540\u001b[0m \u001b[38;5;28;01mtry\u001b[39;00m:\n\u001b[1;32m--> 541\u001b[0m     \u001b[43mf\u001b[49m\u001b[38;5;241;43m.\u001b[39;49m\u001b[43mseek\u001b[49m(f\u001b[38;5;241m.\u001b[39mtell())\n\u001b[0;32m    542\u001b[0m     \u001b[38;5;28;01mreturn\u001b[39;00m \u001b[38;5;28;01mTrue\u001b[39;00m\n",
      "\u001b[1;31mAttributeError\u001b[0m: 'collections.OrderedDict' object has no attribute 'seek'",
      "\nDuring handling of the above exception, another exception occurred:\n",
      "\u001b[1;31mAttributeError\u001b[0m                            Traceback (most recent call last)",
      "Cell \u001b[1;32mIn[5], line 2\u001b[0m\n\u001b[0;32m      1\u001b[0m model \u001b[38;5;241m=\u001b[39m CNN()\n\u001b[1;32m----> 2\u001b[0m model \u001b[38;5;241m=\u001b[39m \u001b[43mtorch\u001b[49m\u001b[38;5;241;43m.\u001b[39;49m\u001b[43mload\u001b[49m\u001b[43m(\u001b[49m\u001b[43mmodel\u001b[49m\u001b[38;5;241;43m.\u001b[39;49m\u001b[43mstate_dict\u001b[49m\u001b[43m(\u001b[49m\u001b[43m)\u001b[49m\u001b[43m,\u001b[49m\u001b[43m \u001b[49m\u001b[38;5;124;43m'\u001b[39;49m\u001b[38;5;124;43mcartpole_cnn_rgb.pth\u001b[39;49m\u001b[38;5;124;43m'\u001b[39;49m\u001b[43m)\u001b[49m\n\u001b[0;32m      3\u001b[0m model\u001b[38;5;241m.\u001b[39meval()\n",
      "File \u001b[1;32m~\\AppData\\Local\\Packages\\PythonSoftwareFoundation.Python.3.11_qbz5n2kfra8p0\\LocalCache\\local-packages\\Python311\\site-packages\\torch\\serialization.py:998\u001b[0m, in \u001b[0;36mload\u001b[1;34m(f, map_location, pickle_module, weights_only, mmap, **pickle_load_args)\u001b[0m\n\u001b[0;32m    995\u001b[0m \u001b[38;5;28;01mif\u001b[39;00m \u001b[38;5;124m'\u001b[39m\u001b[38;5;124mencoding\u001b[39m\u001b[38;5;124m'\u001b[39m \u001b[38;5;129;01mnot\u001b[39;00m \u001b[38;5;129;01min\u001b[39;00m pickle_load_args\u001b[38;5;241m.\u001b[39mkeys():\n\u001b[0;32m    996\u001b[0m     pickle_load_args[\u001b[38;5;124m'\u001b[39m\u001b[38;5;124mencoding\u001b[39m\u001b[38;5;124m'\u001b[39m] \u001b[38;5;241m=\u001b[39m \u001b[38;5;124m'\u001b[39m\u001b[38;5;124mutf-8\u001b[39m\u001b[38;5;124m'\u001b[39m\n\u001b[1;32m--> 998\u001b[0m \u001b[38;5;28;01mwith\u001b[39;00m \u001b[43m_open_file_like\u001b[49m\u001b[43m(\u001b[49m\u001b[43mf\u001b[49m\u001b[43m,\u001b[49m\u001b[43m \u001b[49m\u001b[38;5;124;43m'\u001b[39;49m\u001b[38;5;124;43mrb\u001b[39;49m\u001b[38;5;124;43m'\u001b[39;49m\u001b[43m)\u001b[49m \u001b[38;5;28;01mas\u001b[39;00m opened_file:\n\u001b[0;32m    999\u001b[0m     \u001b[38;5;28;01mif\u001b[39;00m _is_zipfile(opened_file):\n\u001b[0;32m   1000\u001b[0m         \u001b[38;5;66;03m# The zipfile reader is going to advance the current file position.\u001b[39;00m\n\u001b[0;32m   1001\u001b[0m         \u001b[38;5;66;03m# If we want to actually tail call to torch.jit.load, we need to\u001b[39;00m\n\u001b[0;32m   1002\u001b[0m         \u001b[38;5;66;03m# reset back to the original position.\u001b[39;00m\n\u001b[0;32m   1003\u001b[0m         orig_position \u001b[38;5;241m=\u001b[39m opened_file\u001b[38;5;241m.\u001b[39mtell()\n",
      "File \u001b[1;32m~\\AppData\\Local\\Packages\\PythonSoftwareFoundation.Python.3.11_qbz5n2kfra8p0\\LocalCache\\local-packages\\Python311\\site-packages\\torch\\serialization.py:450\u001b[0m, in \u001b[0;36m_open_file_like\u001b[1;34m(name_or_buffer, mode)\u001b[0m\n\u001b[0;32m    448\u001b[0m     \u001b[38;5;28;01mreturn\u001b[39;00m _open_buffer_writer(name_or_buffer)\n\u001b[0;32m    449\u001b[0m \u001b[38;5;28;01melif\u001b[39;00m \u001b[38;5;124m'\u001b[39m\u001b[38;5;124mr\u001b[39m\u001b[38;5;124m'\u001b[39m \u001b[38;5;129;01min\u001b[39;00m mode:\n\u001b[1;32m--> 450\u001b[0m     \u001b[38;5;28;01mreturn\u001b[39;00m \u001b[43m_open_buffer_reader\u001b[49m\u001b[43m(\u001b[49m\u001b[43mname_or_buffer\u001b[49m\u001b[43m)\u001b[49m\n\u001b[0;32m    451\u001b[0m \u001b[38;5;28;01melse\u001b[39;00m:\n\u001b[0;32m    452\u001b[0m     \u001b[38;5;28;01mraise\u001b[39;00m \u001b[38;5;167;01mRuntimeError\u001b[39;00m(\u001b[38;5;124mf\u001b[39m\u001b[38;5;124m\"\u001b[39m\u001b[38;5;124mExpected \u001b[39m\u001b[38;5;124m'\u001b[39m\u001b[38;5;124mr\u001b[39m\u001b[38;5;124m'\u001b[39m\u001b[38;5;124m or \u001b[39m\u001b[38;5;124m'\u001b[39m\u001b[38;5;124mw\u001b[39m\u001b[38;5;124m'\u001b[39m\u001b[38;5;124m in mode but got \u001b[39m\u001b[38;5;132;01m{\u001b[39;00mmode\u001b[38;5;132;01m}\u001b[39;00m\u001b[38;5;124m\"\u001b[39m)\n",
      "File \u001b[1;32m~\\AppData\\Local\\Packages\\PythonSoftwareFoundation.Python.3.11_qbz5n2kfra8p0\\LocalCache\\local-packages\\Python311\\site-packages\\torch\\serialization.py:435\u001b[0m, in \u001b[0;36m_open_buffer_reader.__init__\u001b[1;34m(self, buffer)\u001b[0m\n\u001b[0;32m    433\u001b[0m \u001b[38;5;28;01mdef\u001b[39;00m \u001b[38;5;21m__init__\u001b[39m(\u001b[38;5;28mself\u001b[39m, buffer):\n\u001b[0;32m    434\u001b[0m     \u001b[38;5;28msuper\u001b[39m()\u001b[38;5;241m.\u001b[39m\u001b[38;5;21m__init__\u001b[39m(buffer)\n\u001b[1;32m--> 435\u001b[0m     \u001b[43m_check_seekable\u001b[49m\u001b[43m(\u001b[49m\u001b[43mbuffer\u001b[49m\u001b[43m)\u001b[49m\n",
      "File \u001b[1;32m~\\AppData\\Local\\Packages\\PythonSoftwareFoundation.Python.3.11_qbz5n2kfra8p0\\LocalCache\\local-packages\\Python311\\site-packages\\torch\\serialization.py:544\u001b[0m, in \u001b[0;36m_check_seekable\u001b[1;34m(f)\u001b[0m\n\u001b[0;32m    542\u001b[0m     \u001b[38;5;28;01mreturn\u001b[39;00m \u001b[38;5;28;01mTrue\u001b[39;00m\n\u001b[0;32m    543\u001b[0m \u001b[38;5;28;01mexcept\u001b[39;00m (io\u001b[38;5;241m.\u001b[39mUnsupportedOperation, \u001b[38;5;167;01mAttributeError\u001b[39;00m) \u001b[38;5;28;01mas\u001b[39;00m e:\n\u001b[1;32m--> 544\u001b[0m     \u001b[43mraise_err_msg\u001b[49m\u001b[43m(\u001b[49m\u001b[43m[\u001b[49m\u001b[38;5;124;43m\"\u001b[39;49m\u001b[38;5;124;43mseek\u001b[39;49m\u001b[38;5;124;43m\"\u001b[39;49m\u001b[43m,\u001b[49m\u001b[43m \u001b[49m\u001b[38;5;124;43m\"\u001b[39;49m\u001b[38;5;124;43mtell\u001b[39;49m\u001b[38;5;124;43m\"\u001b[39;49m\u001b[43m]\u001b[49m\u001b[43m,\u001b[49m\u001b[43m \u001b[49m\u001b[43me\u001b[49m\u001b[43m)\u001b[49m\n\u001b[0;32m    545\u001b[0m \u001b[38;5;28;01mreturn\u001b[39;00m \u001b[38;5;28;01mFalse\u001b[39;00m\n",
      "File \u001b[1;32m~\\AppData\\Local\\Packages\\PythonSoftwareFoundation.Python.3.11_qbz5n2kfra8p0\\LocalCache\\local-packages\\Python311\\site-packages\\torch\\serialization.py:537\u001b[0m, in \u001b[0;36m_check_seekable.<locals>.raise_err_msg\u001b[1;34m(patterns, e)\u001b[0m\n\u001b[0;32m    533\u001b[0m     \u001b[38;5;28;01mif\u001b[39;00m p \u001b[38;5;129;01min\u001b[39;00m \u001b[38;5;28mstr\u001b[39m(e):\n\u001b[0;32m    534\u001b[0m         msg \u001b[38;5;241m=\u001b[39m (\u001b[38;5;28mstr\u001b[39m(e) \u001b[38;5;241m+\u001b[39m \u001b[38;5;124m\"\u001b[39m\u001b[38;5;124m. You can only torch.load from a file that is seekable.\u001b[39m\u001b[38;5;124m\"\u001b[39m\n\u001b[0;32m    535\u001b[0m                         \u001b[38;5;241m+\u001b[39m \u001b[38;5;124m\"\u001b[39m\u001b[38;5;124m Please pre-load the data into a buffer like io.BytesIO and\u001b[39m\u001b[38;5;124m\"\u001b[39m\n\u001b[0;32m    536\u001b[0m                         \u001b[38;5;241m+\u001b[39m \u001b[38;5;124m\"\u001b[39m\u001b[38;5;124m try to load from it instead.\u001b[39m\u001b[38;5;124m\"\u001b[39m)\n\u001b[1;32m--> 537\u001b[0m         \u001b[38;5;28;01mraise\u001b[39;00m \u001b[38;5;28mtype\u001b[39m(e)(msg)\n\u001b[0;32m    538\u001b[0m \u001b[38;5;28;01mraise\u001b[39;00m e\n",
      "\u001b[1;31mAttributeError\u001b[0m: 'collections.OrderedDict' object has no attribute 'seek'. You can only torch.load from a file that is seekable. Please pre-load the data into a buffer like io.BytesIO and try to load from it instead."
     ]
    }
   ],
   "source": [
    "model = CNN()\n",
    "model = torch.load(model.state_dict(), 'cartpole_cnn_rgb.pth')\n",
    "model.eval()"
   ]
  },
  {
   "cell_type": "code",
   "execution_count": 8,
   "metadata": {},
   "outputs": [],
   "source": [
    "# Voir encore mieux ce que ça donne\n",
    "\n",
    "# 1 : On collecte des images du cartpole (heuristique : random)\n",
    "\n",
    "env = gym.make('CartPole-v1')\n",
    "data_images_bis = []\n",
    "data_states_bis = []\n",
    "\n",
    "for episode in range(3):\n",
    "    observation_bis = env.reset()\n",
    "    images_bis = []\n",
    "    for t in range(1000):\n",
    "        img = env.render(mode='rgb_array')\n",
    "        img_pil = Image.fromarray(img)\n",
    "        tensor_image = transform(img_pil)  # Transform image immediately\n",
    "        images_bis.append(tensor_image)\n",
    "        \n",
    "        if len(images_bis) >= sequence_length:\n",
    "            # Stack the last sequence_length images to form a single sequence tensor\n",
    "            sequence_tensor = torch.stack(images_bis[-sequence_length:], dim=0).permute(1, 0, 2, 3)\n",
    "            data_images_bis.append(sequence_tensor)\n",
    "            data_states_bis.append(observation)\n",
    "        \n",
    "        action = env.action_space.sample()   # Use the heuristic policy\n",
    "        observation, reward, done, info = env.step(action)\n",
    "        if done:\n",
    "            break\n",
    "data_states_bis = torch.tensor(data_states_bis, dtype=torch.float32)\n",
    "\n",
    "# Dataset and DataLoader\n",
    "data_images_bis = torch.stack(data_images_bis)"
   ]
  },
  {
   "cell_type": "code",
   "execution_count": 9,
   "metadata": {},
   "outputs": [
    {
     "name": "stdout",
     "output_type": "stream",
     "text": [
      "tensor([[0.0299, 0.0496, 0.0353, 0.0723]]) tensor([ 0.0389, -0.2293,  0.0359,  0.3186])\n",
      "tensor([[0.0299, 0.0496, 0.0353, 0.0723]]) tensor([ 0.0343, -0.4249,  0.0423,  0.6224])\n",
      "tensor([[ 0.0246, -0.2409,  0.0376,  0.4888]]) tensor([ 0.0258, -0.6206,  0.0547,  0.9281])\n",
      "tensor([[-0.0030, -0.4574,  0.0725,  0.8211]]) tensor([ 0.0134, -0.4262,  0.0733,  0.6531])\n",
      "tensor([[-0.0075, -0.3330,  0.0781,  0.6277]]) tensor([ 0.0048, -0.6223,  0.0864,  0.9680])\n",
      "tensor([[-0.0099, -0.3732,  0.0813,  0.6977]]) tensor([-0.0076, -0.8185,  0.1057,  1.2865])\n",
      "tensor([[-0.0377, -0.6290,  0.1080,  1.1038]]) tensor([-0.0240, -0.6248,  0.1315,  1.0287])\n",
      "tensor([[-0.0493, -0.5892,  0.1321,  1.0962]]) tensor([-0.0365, -0.4317,  0.1520,  0.7800])\n",
      "tensor([[-0.0617, -0.3433,  0.1516,  0.8059]]) tensor([-0.0451, -0.6285,  0.1676,  1.1164])\n",
      "tensor([[-0.0767, -0.5178,  0.1705,  1.1121]]) tensor([-0.0577, -0.8254,  0.1900,  1.4566])\n",
      "tensor([[ 0.0286, -0.0267,  0.0286,  0.1492]]) tensor([ 0.0384,  0.2369,  0.0298, -0.3111])\n",
      "tensor([[ 0.0335,  0.2746,  0.0182, -0.3211]]) tensor([ 0.0432,  0.0414,  0.0236, -0.0092])\n",
      "tensor([[ 0.0411,  0.1214,  0.0125, -0.0573]]) tensor([ 0.0440,  0.2362,  0.0234, -0.2943])\n",
      "tensor([[ 0.0461,  0.3158,  0.0122, -0.3282]]) tensor([ 0.0487,  0.4310,  0.0175, -0.5795])\n",
      "tensor([[ 0.0547,  0.4291, -0.0127, -0.5427]]) tensor([ 0.0573,  0.2356,  0.0059, -0.2814])\n",
      "tensor([[ 0.0598,  0.1114, -0.0113, -0.0501]]) tensor([0.0621, 0.0404, 0.0003, 0.0132])\n",
      "tensor([[ 0.0571,  0.0031, -0.0109,  0.0623]]) tensor([ 0.0629,  0.2355,  0.0006, -0.2794])\n",
      "tensor([[ 0.0615,  0.2904, -0.0179, -0.3809]]) tensor([ 0.0676,  0.0404, -0.0050,  0.0134])\n",
      "tensor([[ 0.0652,  0.0928, -0.0167, -0.0558]]) tensor([ 0.0684, -0.1547, -0.0048,  0.3045])\n",
      "tensor([[ 0.0638,  0.0025, -0.0046,  0.0911]]) tensor([0.0653, 0.0405, 0.0013, 0.0103])\n",
      "tensor([[ 0.0628, -0.0110, -0.0072,  0.0868]]) tensor([ 0.0661, -0.1546,  0.0015,  0.3034])\n",
      "tensor([[ 0.0486, -0.2793,  0.0042,  0.4780]]) tensor([ 0.0630, -0.3498,  0.0076,  0.5966])\n",
      "tensor([[ 0.0543, -0.1305,  0.0100,  0.2650]]) tensor([ 0.0560, -0.5450,  0.0195,  0.8917])\n",
      "tensor([[ 0.0225, -0.4515,  0.0437,  0.7831]]) tensor([ 0.0451, -0.7404,  0.0374,  1.1904])\n",
      "tensor([[ 2.3914e-04, -5.6258e-01,  6.6716e-02,  9.5413e-01]]) tensor([ 0.0303, -0.5458,  0.0612,  0.9097])\n",
      "tensor([[ 0.0087, -0.2927,  0.0735,  0.5735]]) tensor([ 0.0194, -0.3515,  0.0794,  0.6368])\n",
      "tensor([[-4.9227e-04, -2.5010e-01,  9.0898e-02,  5.7275e-01]]) tensor([ 0.0124, -0.5476,  0.0921,  0.9534])\n",
      "tensor([[-0.0025, -0.3075,  0.0970,  0.6918]]) tensor([ 0.0014, -0.3539,  0.1112,  0.6910])\n",
      "tensor([[-0.0112, -0.3014,  0.1126,  0.7137]]) tensor([-0.0057, -0.1605,  0.1250,  0.4353])\n",
      "tensor([[-0.0171, -0.2574,  0.1186,  0.6645]]) tensor([-0.0089,  0.0327,  0.1337,  0.1845])\n",
      "tensor([[-0.0231, -0.0309,  0.1334,  0.3965]]) tensor([-0.0082, -0.1641,  0.1374,  0.5162])\n",
      "tensor([[-0.0181, -0.0137,  0.1319,  0.4203]]) tensor([-0.0115,  0.0289,  0.1477,  0.2698])\n",
      "tensor([[-0.0155,  0.0630,  0.1283,  0.3198]]) tensor([-0.0109, -0.1680,  0.1531,  0.6051])\n",
      "tensor([[-0.0126,  0.0773,  0.1335,  0.3302]]) tensor([-0.0143,  0.0247,  0.1652,  0.3643])\n",
      "tensor([[-0.0094,  0.0569,  0.1426,  0.4050]]) tensor([-0.0138,  0.2171,  0.1725,  0.1280])\n",
      "tensor([[-0.0062,  0.0681,  0.1491,  0.4247]]) tensor([-0.0095,  0.0200,  0.1751,  0.4697])\n",
      "tensor([[-0.0066,  0.0396,  0.1509,  0.4782]]) tensor([-0.0091, -0.1771,  0.1844,  0.8121])\n",
      "tensor([[-0.0076,  0.0078,  0.1585,  0.5485]]) tensor([-0.0126, -0.3742,  0.2007,  1.1566])\n",
      "tensor([[-0.0001,  0.0180,  0.0056, -0.0399]]) tensor([ 0.0075, -0.2131, -0.0173,  0.2286])\n",
      "tensor([[ 0.0009, -0.0027,  0.0025, -0.0128]]) tensor([ 0.0033, -0.0177, -0.0128, -0.0695])\n",
      "tensor([[ 6.2454e-05,  5.3259e-02,  6.9692e-03, -7.1872e-02]]) tensor([ 0.0029, -0.2127, -0.0141,  0.2191])\n",
      "tensor([[ 0.0023, -0.2143,  0.0062,  0.3158]]) tensor([-0.0013, -0.4076, -0.0098,  0.5073])\n",
      "tensor([[-0.0072, -0.3265,  0.0188,  0.4748]]) tensor([-9.4857e-03, -6.0259e-01,  3.8146e-04,  7.9692e-01])\n",
      "tensor([[-0.0215, -0.3539,  0.0338,  0.5216]]) tensor([-0.0215, -0.7977,  0.0163,  1.0897])\n",
      "tensor([[-0.0329, -0.5643,  0.0432,  0.8464]]) tensor([-0.0375, -0.9930,  0.0381,  1.3875])\n",
      "tensor([[-0.0760, -0.8226,  0.0877,  1.2678]]) tensor([-0.0574, -0.7984,  0.0659,  1.1070])\n",
      "tensor([[-0.0954, -0.6659,  0.1068,  1.0534]]) tensor([-0.0733, -0.9943,  0.0880,  1.4196])\n",
      "tensor([[-0.1005, -0.6812,  0.1075,  1.0663]]) tensor([-0.0932, -1.1904,  0.1164,  1.7384])\n",
      "tensor([[-0.1132, -0.9165,  0.1248,  1.4036]]) tensor([-0.1170, -0.9968,  0.1512,  1.4841])\n",
      "tensor([[-0.1447, -0.8250,  0.1657,  1.3229]]) tensor([-0.1370, -0.8038,  0.1808,  1.2422])\n",
      "tensor([[-0.1583, -0.7316,  0.1763,  1.2033]]) tensor([-0.1530, -0.6114,  0.2057,  1.0111])\n",
      "8.720455790637061\n"
     ]
    }
   ],
   "source": [
    "# 2 Afficher ce que prédit le modèle vs les vraies observations\n",
    "\n",
    "model.eval()\n",
    "total = 0 # Loss totale\n",
    "for images, states in zip(data_images_bis, data_states_bis):\n",
    "    with torch.no_grad():\n",
    "        print(model(images.unsqueeze(0)),states)\n",
    "        total += np.sum(np.array((model(images.unsqueeze(0))-states)**2))\n",
    "\n",
    "print(total)"
   ]
  },
  {
   "cell_type": "code",
   "execution_count": 10,
   "metadata": {},
   "outputs": [],
   "source": [
    "torch.save(model.state_dict(), 'gotta_test_that_one.pth')"
   ]
  },
  {
   "cell_type": "markdown",
   "metadata": {},
   "source": [
    "### CNN 2 : GREY"
   ]
  },
  {
   "cell_type": "code",
   "execution_count": 3,
   "metadata": {},
   "outputs": [],
   "source": [
    "# Parameters\n",
    "sequence_length = 4  # Number of images in each sequence\n",
    "num_episodes = 1000   # Number of episodes for data collection\n",
    "                     # ENCORE UNE FOIS best_grey_model A ETE FAIT A 300, VOIR AVEC 1000 ? \n",
    "\n",
    "# Environment Setup\n",
    "env = gym.make('CartPole-v1')\n",
    "data_images = []\n",
    "data_states = []\n",
    "\n",
    "# Transformer les images et les convertir en tenseurs\n",
    "transform = transforms.Compose([\n",
    "    transforms.ToTensor(),\n",
    "    transforms.Resize((60, 135)),\n",
    "    transforms.Grayscale()\n",
    "])"
   ]
  },
  {
   "cell_type": "code",
   "execution_count": 4,
   "metadata": {},
   "outputs": [],
   "source": [
    "# Cart location for centering image crop\n",
    "def get_cart_location(screen_width):\n",
    "    world_width = env.x_threshold * 2\n",
    "    scale = screen_width / world_width\n",
    "    return int(env.state[0] * scale + screen_width / 2.0)  # MIDDLE OF CART\n",
    "\n",
    "# Cropping, downsampling (and Grayscaling) image\n",
    "def get_screen():\n",
    "    # Returned screen requested by gym is 400x600x3, but is sometimes larger\n",
    "    # such as 800x1200x3. Transpose it into torch order (CHW).\n",
    "    screen = env.render(mode='rgb_array').transpose((2, 0, 1))\n",
    "    # Cart is in the lower half, so strip off the top and bottom of the screen\n",
    "    _, screen_height, screen_width = screen.shape\n",
    "    screen = screen[:, int(screen_height*0.4):int(screen_height * 0.8)]\n",
    "    view_width = int(screen_width * 0.6)\n",
    "    cart_location = get_cart_location(screen_width)\n",
    "    if cart_location < view_width // 2:\n",
    "        slice_range = slice(view_width)\n",
    "    elif cart_location > (screen_width - view_width // 2):\n",
    "        slice_range = slice(-view_width, None)\n",
    "    else:\n",
    "        slice_range = slice(cart_location - view_width // 2,\n",
    "                            cart_location + view_width // 2)\n",
    "    # Strip off the edges, so that we have a square image centered on a cart\n",
    "    screen = screen[:, :, slice_range]\n",
    "    # Convert to float, rescale, convert to torch tensor\n",
    "    # (this doesn't require a copy)\n",
    "    screen = np.ascontiguousarray(screen, dtype=np.float32) / 255\n",
    "    # Resize, and add a batch dimension (BCHW)\n",
    "    return transform(screen.transpose(1,2,0)).squeeze(0)\n"
   ]
  },
  {
   "cell_type": "code",
   "execution_count": 5,
   "metadata": {},
   "outputs": [
    {
     "name": "stderr",
     "output_type": "stream",
     "text": [
      "C:\\Users\\hatem\\AppData\\Local\\Temp\\ipykernel_16112\\1955873250.py:28: UserWarning: Creating a tensor from a list of numpy.ndarrays is extremely slow. Please consider converting the list to a single numpy.ndarray with numpy.array() before converting to a tensor. (Triggered internally at ..\\torch\\csrc\\utils\\tensor_new.cpp:278.)\n",
      "  data_states = torch.tensor(data_states, dtype=torch.float32)\n"
     ]
    }
   ],
   "source": [
    "\n",
    "# Collecter les données\n",
    "\n",
    "for episode in range(num_episodes):\n",
    "    observation = env.reset()\n",
    "    images = [torch.zeros(60, 135) for _ in range(4)]\n",
    "    for t in range(1000):\n",
    "        img = env.render(mode='rgb_array')\n",
    "        tensor_image = get_screen()\n",
    "        # if t == 5:\n",
    "        #     fig, axes = plt.subplots(1, 2, figsize=(15, 5))  # Crée une figure et des axes avec 1 ligne et 'n_images' colonnes\n",
    "        #     axes[0].imshow(tensor_image)\n",
    "        #     axes[1].imshow(tensor_image_bis)\n",
    "\n",
    "        images.append(tensor_image)\n",
    "        \n",
    "        sequence_tensor = torch.stack(images[-sequence_length:], dim=0)\n",
    "        data_images.append(sequence_tensor)\n",
    "        data_states.append(observation)\n",
    "\n",
    "        action = env.action_space.sample()  \n",
    "        observation, reward, done, info = env.step(action)\n",
    "        if done:\n",
    "            break\n",
    "\n",
    "# env.close()\n",
    "\n",
    "# Convert data_states to a tensor \n",
    "data_states = torch.tensor(data_states, dtype=torch.float32)\n",
    "\n",
    "# Dataset and DataLoader\n",
    "dataset = TensorDataset(torch.stack(data_images), data_states)\n",
    "dataloader = DataLoader(dataset, batch_size=10, shuffle=True)"
   ]
  },
  {
   "cell_type": "code",
   "execution_count": 6,
   "metadata": {},
   "outputs": [],
   "source": [
    "class CartPoleCNN(nn.Module):\n",
    "    def __init__(self):\n",
    "        super(CartPoleCNN, self).__init__()\n",
    "        self.conv_layers = nn.Sequential(\n",
    "            nn.Conv2d(4, 16, kernel_size=5, stride=1, padding=2),  # Input: 4 gray images, output: 16 channels, 60x135\n",
    "            nn.ReLU(),\n",
    "            nn.MaxPool2d(kernel_size=2, stride=2),                 # Output size: ? 30x67\n",
    "            nn.Conv2d(16, 32, kernel_size=5, stride=1, padding=2),\n",
    "            nn.ReLU(),\n",
    "            nn.MaxPool2d(kernel_size=2, stride=2),                 # Output size: ? 15x33\n",
    "            nn.Conv2d(32, 64, kernel_size=5, stride=1, padding=2),\n",
    "            nn.ReLU(),\n",
    "            nn.MaxPool2d(kernel_size=2, stride=2)                  # Output size: ? 7x16\n",
    "        )\n",
    "        self.fc_layers = nn.Sequential(\n",
    "            nn.Linear(64 * 7 * 16, 128),\n",
    "            nn.ReLU(),\n",
    "            nn.Linear(128,4)    # x, x_dot, theta, theta_dot\n",
    "        )\n",
    "\n",
    "    def forward(self, x):\n",
    "        x = self.conv_layers(x)\n",
    "        x = x.view(x.size(0), -1)  # Flatten the output for the fully connected layers\n",
    "        x = self.fc_layers(x)\n",
    "        return x\n",
    "\n",
    "# Instanciation du modèle\n",
    "model = CartPoleCNN()\n",
    "criterion = nn.MSELoss()\n",
    "optimizer = torch.optim.Adam(model.parameters(), lr=0.001)"
   ]
  },
  {
   "cell_type": "code",
   "execution_count": 8,
   "metadata": {},
   "outputs": [
    {
     "name": "stdout",
     "output_type": "stream",
     "text": [
      "torch.Size([10, 4]) torch.Size([10, 4, 60, 135])\n",
      "tensor([-0.0964,  0.2193,  0.1114, -0.0642])\n"
     ]
    },
    {
     "data": {
      "image/png": "[encoded data removed]",
      "text/plain": [
       "<Figure size 2000x3000 with 4 Axes>"
      ]
     },
     "metadata": {},
     "output_type": "display_data"
    }
   ],
   "source": [
    "for images, labels in dataloader:\n",
    "    print(labels.shape,images.shape)\n",
    "    fig,axes = plt.subplots(1,4,figsize = (20,30))\n",
    "    for i in range(4):\n",
    "        axes[i].imshow(images[0][i])\n",
    "    print(labels[0])\n",
    "\n",
    "    break"
   ]
  },
  {
   "cell_type": "code",
   "execution_count": 9,
   "metadata": {},
   "outputs": [],
   "source": [
    "env.close()"
   ]
  },
  {
   "cell_type": "code",
   "execution_count": 10,
   "metadata": {},
   "outputs": [
    {
     "name": "stdout",
     "output_type": "stream",
     "text": [
      "Epoch 1, Loss: 0.040232785046100616\n",
      "Epoch 2, Loss: 0.04797070100903511\n",
      "Epoch 3, Loss: 0.025605758652091026\n",
      "Epoch 4, Loss: 0.07242388278245926\n",
      "Epoch 5, Loss: 0.06184414401650429\n",
      "Epoch 6, Loss: 0.060747385025024414\n",
      "Epoch 7, Loss: 0.05459335073828697\n",
      "Epoch 8, Loss: 0.05036822333931923\n",
      "Epoch 9, Loss: 0.04405743256211281\n",
      "Epoch 10, Loss: 0.037607256323099136\n",
      "Epoch 11, Loss: 0.03315708413720131\n",
      "Epoch 12, Loss: 0.06277186423540115\n",
      "Epoch 13, Loss: 0.018332751467823982\n",
      "Epoch 14, Loss: 0.04693877696990967\n",
      "Epoch 15, Loss: 0.034181419759988785\n"
     ]
    }
   ],
   "source": [
    "# Training Loop\n",
    "num_epochs = 15 # Peut-être avec plus d'epoch on obtiendrait un meilleur résultat ? jsp\n",
    "model.train()\n",
    "for epoch in range(num_epochs):\n",
    "    for images, states in dataloader:\n",
    "        optimizer.zero_grad()\n",
    "        outputs = model(images)\n",
    "        loss = criterion(outputs, states)\n",
    "        loss.backward()\n",
    "        optimizer.step()\n",
    "    print(f'Epoch {epoch+1}, Loss: {loss.item()}')"
   ]
  },
  {
   "cell_type": "code",
   "execution_count": 11,
   "metadata": {},
   "outputs": [],
   "source": [
    "# Voir encore mieux ce que ça donne\n",
    "\n",
    "# 1 : On collecte des images du cartpole (heuristique : random)\n",
    "\n",
    "env = gym.make('CartPole-v1')\n",
    "data_images_bis = []\n",
    "data_states_bis = []\n",
    "\n",
    "for episode in range(3):\n",
    "    observation_bis = env.reset()\n",
    "    images_bis = []\n",
    "    for t in range(1000):\n",
    "        img = env.render(mode='rgb_array')\n",
    "        tensor_image = transform(img).squeeze(0)  # Transform image immediately\n",
    "        images_bis.append(tensor_image)\n",
    "        \n",
    "        if len(images_bis) >= sequence_length:\n",
    "            # Stack the last sequence_length images to form a single sequence tensor\n",
    "            sequence_tensor = torch.stack(images_bis[-sequence_length:], dim=0)\n",
    "            data_images_bis.append(sequence_tensor)\n",
    "            data_states_bis.append(observation)\n",
    "        \n",
    "        action = env.action_space.sample()   # Use the heuristic policy\n",
    "        observation, reward, done, info = env.step(action)\n",
    "        if done:\n",
    "            break\n",
    "data_states_bis = torch.tensor(data_states_bis, dtype=torch.float32)\n",
    "\n",
    "# Dataset and DataLoader\n",
    "data_images_bis = torch.stack(data_images_bis)"
   ]
  },
  {
   "cell_type": "code",
   "execution_count": 12,
   "metadata": {},
   "outputs": [
    {
     "name": "stdout",
     "output_type": "stream",
     "text": [
      "tensor([[ 0.0094,  0.1349,  0.0035, -0.1393]]) tensor([ 0.0172,  0.1797,  0.0396, -0.2858])\n",
      "tensor([[ 0.0061,  0.1454,  0.0386, -0.0396]]) tensor([ 0.0208,  0.3742,  0.0339, -0.5657])\n",
      "tensor([[0.0024, 0.1497, 0.0562, 0.0115]]) tensor([ 0.0283,  0.1787,  0.0226, -0.2625])\n",
      "tensor([[ 0.0072,  0.1407,  0.0330, -0.0509]]) tensor([ 0.0318,  0.3735,  0.0173, -0.5480])\n",
      "tensor([[ 0.0082,  0.1489,  0.0164, -0.1109]]) tensor([ 0.0393,  0.5683,  0.0064, -0.8352])\n",
      "tensor([[ 0.0052,  0.1780,  0.0446, -0.0458]]) tensor([ 0.0507,  0.7634, -0.0103, -1.1258])\n",
      "tensor([[-0.0044,  0.1806,  0.0924,  0.0875]]) tensor([ 0.0659,  0.5684, -0.0328, -0.8364])\n",
      "tensor([[-0.0038,  0.1718,  0.0887,  0.0902]]) tensor([ 0.0773,  0.7639, -0.0496, -1.1392])\n",
      "tensor([[0.0029, 0.1395, 0.0548, 0.0220]]) tensor([ 0.0926,  0.9597, -0.0724, -1.4470])\n",
      "tensor([[0.0017, 0.1368, 0.0543, 0.0210]]) tensor([ 0.1118,  1.1556, -0.1013, -1.7614])\n",
      "tensor([[ 0.0098,  0.0888,  0.0067, -0.0695]]) tensor([ 0.1349,  0.9618, -0.1365, -1.5019])\n",
      "tensor([[ 0.0093,  0.0806,  0.0113, -0.0436]]) tensor([ 0.1541,  1.1583, -0.1666, -1.8339])\n",
      "tensor([[ 0.0111,  0.1176, -0.0089, -0.1567]]) tensor([ 0.1773,  1.3548, -0.2032, -2.1734])\n",
      "tensor([[-0.0064,  0.1930,  0.0925,  0.0518]]) tensor([ 0.0238, -0.5625,  0.0627,  0.9394])\n",
      "tensor([[-0.0036,  0.2090,  0.0847,  0.0137]]) tensor([ 0.0126, -0.3683,  0.0815,  0.6671])\n",
      "tensor([[ 0.0072,  0.2119,  0.0405, -0.1129]]) tensor([ 0.0052, -0.5645,  0.0948,  0.9843])\n",
      "tensor([[ 0.0136,  0.2822,  0.0290, -0.2389]]) tensor([-0.0061, -0.3707,  0.1145,  0.7228])\n",
      "tensor([[ 0.0096,  0.3679,  0.0628, -0.2349]]) tensor([-0.0135, -0.1774,  0.1290,  0.4683])\n",
      "tensor([[ 0.0090,  0.3613,  0.0709, -0.2013]]) tensor([-0.0170, -0.3741,  0.1384,  0.7987])\n",
      "tensor([[ 0.0104,  0.3340,  0.0541, -0.2088]]) tensor([-0.0245, -0.5708,  0.1543,  1.1315])\n",
      "tensor([[ 0.0142,  0.2162,  0.0142, -0.2015]]) tensor([-0.0359, -0.3780,  0.1770,  0.8909])\n",
      "tensor([[ 0.0130,  0.3069,  0.0360, -0.2535]]) tensor([-0.0435, -0.1856,  0.1948,  0.6587])\n",
      "tensor([[ 0.0120,  0.3778,  0.0601, -0.2512]]) tensor([-0.0472,  0.0063,  0.2080,  0.4331])\n",
      "tensor([[ 0.0099,  0.3350,  0.0581, -0.1987]]) tensor([-0.0026,  0.1983, -0.0179, -0.3136])\n",
      "tensor([[ 0.0077,  0.3048,  0.0599, -0.1533]]) tensor([ 0.0014,  0.3937, -0.0242, -0.6118])\n",
      "tensor([[ 0.0060,  0.2793,  0.0602, -0.1188]]) tensor([ 0.0092,  0.5891, -0.0364, -0.9120])\n",
      "tensor([[ 0.0010,  0.2440,  0.0746, -0.0370]]) tensor([ 0.0210,  0.3945, -0.0546, -0.6310])\n",
      "tensor([[-0.0015,  0.2103,  0.0810,  0.0175]]) tensor([ 0.0289,  0.5904, -0.0673, -0.9404])\n",
      "tensor([[-0.0061,  0.1665,  0.0997,  0.1285]]) tensor([ 0.0407,  0.7863, -0.0861, -1.2534])\n",
      "tensor([[ 0.0080,  0.1355,  0.0249, -0.0692]]) tensor([ 0.0564,  0.9824, -0.1111, -1.5718])\n",
      "tensor([[-0.0097,  0.1722,  0.1341,  0.2068]]) tensor([ 0.0761,  0.7888, -0.1426, -1.3157])\n",
      "tensor([[-0.0011,  0.1352,  0.0778,  0.1058]]) tensor([ 0.0919,  0.5957, -0.1689, -1.0709])\n",
      "tensor([[0.0042, 0.1134, 0.0420, 0.0025]]) tensor([ 0.1038,  0.7927, -0.1903, -1.4114])\n",
      "54.2442552279681\n"
     ]
    }
   ],
   "source": [
    "# 2 Afficher ce que prédit le modèle vs les vraies observations\n",
    "\n",
    "model.eval()\n",
    "total = 0 # Loss totale\n",
    "for images, states in zip(data_images_bis, data_states_bis):\n",
    "    with torch.no_grad():\n",
    "        print(model(images.unsqueeze(0)),states)\n",
    "        total += np.sum(np.array((model(images.unsqueeze(0))-states)**2))\n",
    "\n",
    "print(total)"
   ]
  },
  {
   "cell_type": "code",
   "execution_count": 13,
   "metadata": {},
   "outputs": [],
   "source": [
    "torch.save(model.state_dict(), 'cnn_grey_1000.pth')"
   ]
  },
  {
   "cell_type": "code",
   "execution_count": 14,
   "metadata": {},
   "outputs": [],
   "source": [
    "env.close()"
   ]
  },
  {
   "cell_type": "markdown",
   "metadata": {},
   "source": [
    "### TEST 3 : LSTM"
   ]
  },
  {
   "cell_type": "code",
   "execution_count": 2,
   "metadata": {},
   "outputs": [],
   "source": [
    "class CartPoleCNN_LSTM(nn.Module):\n",
    "    def __init__(self):\n",
    "        super(CartPoleCNN_LSTM, self).__init__()\n",
    "        self.conv_layer = nn.Sequential(\n",
    "            nn.Conv2d(1, 16, kernel_size=3, stride=1, padding=1), # Traite chaque image individuellement\n",
    "            nn.ReLU(),\n",
    "            nn.MaxPool2d(2, 2),\n",
    "            nn.Flatten() # Flatten les sorties pour préparation à l'LSTM\n",
    "        )\n",
    "        self.lstm = nn.LSTM(input_size=16*30*67, hidden_size=128, batch_first=True) \n",
    "        self.fc_layer = nn.Linear(128, 4) # Output x, x_dot, theta, theta_dot\n",
    "\n",
    "    def forward(self, x):\n",
    "        batch_size, seq_len, H, W = x.shape\n",
    "        c_in = x.view(batch_size * seq_len, 1, H, W) # Remodeler pour CNN\n",
    "        c_out = self.conv_layer(c_in)\n",
    "        r_in = c_out.view(batch_size, seq_len, -1) # Remodeler pour LSTM\n",
    "        lstm_out, (hn, cn) = self.lstm(r_in)\n",
    "        out = self.fc_layer(hn[-1]) # Utiliser le dernier hidden state\n",
    "        return out\n",
    "\n",
    "    \n",
    "# Instanciation du modèle\n",
    "model = CartPoleCNN_LSTM()\n",
    "criterion = nn.MSELoss()\n",
    "optimizer = torch.optim.Adam(model.parameters(), lr=0.001)\n"
   ]
  },
  {
   "cell_type": "code",
   "execution_count": 3,
   "metadata": {},
   "outputs": [],
   "source": [
    "# Cart location for centering image crop\n",
    "def get_cart_location(screen_width):\n",
    "    world_width = env.x_threshold * 2\n",
    "    scale = screen_width / world_width\n",
    "    return int(env.state[0] * scale + screen_width / 2.0)  # MIDDLE OF CART\n",
    "\n",
    "# Cropping, downsampling (and Grayscaling) image\n",
    "def get_screen():\n",
    "    # Returned screen requested by gym is 400x600x3, but is sometimes larger\n",
    "    # such as 800x1200x3. Transpose it into torch order (CHW).\n",
    "    screen = env.render(mode='rgb_array').transpose((2, 0, 1))\n",
    "    # Cart is in the lower half, so strip off the top and bottom of the screen\n",
    "    _, screen_height, screen_width = screen.shape\n",
    "    screen = screen[:, int(screen_height*0.4):int(screen_height * 0.8)]\n",
    "    view_width = int(screen_width * 0.6)\n",
    "    cart_location = get_cart_location(screen_width)\n",
    "    if cart_location < view_width // 2:\n",
    "        slice_range = slice(view_width)\n",
    "    elif cart_location > (screen_width - view_width // 2):\n",
    "        slice_range = slice(-view_width, None)\n",
    "    else:\n",
    "        slice_range = slice(cart_location - view_width // 2,\n",
    "                            cart_location + view_width // 2)\n",
    "    # Strip off the edges, so that we have a square image centered on a cart\n",
    "    screen = screen[:, :, slice_range]\n",
    "    # Convert to float, rescale, convert to torch tensor\n",
    "    # (this doesn't require a copy)\n",
    "    screen = np.ascontiguousarray(screen, dtype=np.float32) / 255\n",
    "    # Resize, and add a batch dimension (BCHW)\n",
    "    return transform(screen.transpose(1,2,0)).squeeze(0)\n"
   ]
  },
  {
   "cell_type": "code",
   "execution_count": 4,
   "metadata": {},
   "outputs": [],
   "source": [
    "# Parameters\n",
    "sequence_length = 4  # Number of images in each sequence\n",
    "num_episodes = 300   # Number of episodes for data collection\n",
    "                     # ENCORE UNE FOIS best_grey_model A ETE FAIT A 300, VOIR AVEC 1000 ? \n",
    "\n",
    "# Environment Setup\n",
    "env = gym.make('CartPole-v1')\n",
    "data_images = []\n",
    "data_states = []\n",
    "\n",
    "# Transformer les images et les convertir en tenseurs\n",
    "transform = transforms.Compose([\n",
    "    transforms.ToTensor(),\n",
    "    transforms.Resize((60, 135)),\n",
    "    transforms.Grayscale()\n",
    "])"
   ]
  },
  {
   "cell_type": "code",
   "execution_count": 5,
   "metadata": {},
   "outputs": [
    {
     "name": "stderr",
     "output_type": "stream",
     "text": [
      "C:\\Users\\hatem\\AppData\\Local\\Temp\\ipykernel_14524\\1740750942.py:26: UserWarning: Creating a tensor from a list of numpy.ndarrays is extremely slow. Please consider converting the list to a single numpy.ndarray with numpy.array() before converting to a tensor. (Triggered internally at ..\\torch\\csrc\\utils\\tensor_new.cpp:278.)\n",
      "  data_states = torch.tensor(data_states, dtype=torch.float32)\n"
     ]
    }
   ],
   "source": [
    "for episode in range(num_episodes):\n",
    "    observation = env.reset()\n",
    "    images = [torch.zeros(60, 135) for _ in range(4)]\n",
    "    for t in range(1000):\n",
    "        img = env.render(mode='rgb_array')\n",
    "        tensor_image = get_screen()\n",
    "        # if t == 5:\n",
    "        #     fig, axes = plt.subplots(1, 2, figsize=(15, 5))  # Crée une figure et des axes avec 1 ligne et 'n_images' colonnes\n",
    "        #     axes[0].imshow(tensor_image)\n",
    "        #     axes[1].imshow(tensor_image_bis)\n",
    "\n",
    "        images.append(tensor_image)\n",
    "        \n",
    "        sequence_tensor = torch.stack(images[-sequence_length:], dim=0)\n",
    "        data_images.append(sequence_tensor)\n",
    "        data_states.append(observation)\n",
    "\n",
    "        action = env.action_space.sample()  \n",
    "        observation, reward, done, info = env.step(action)\n",
    "        if done:\n",
    "            break\n",
    "\n",
    "env.close()\n",
    "\n",
    "# Convert data_states to a tensor \n",
    "data_states = torch.tensor(data_states, dtype=torch.float32)\n",
    "\n",
    "# Dataset and DataLoader\n",
    "dataset = TensorDataset(torch.stack(data_images), data_states)\n",
    "dataloader = DataLoader(dataset, batch_size=10, shuffle=True)"
   ]
  },
  {
   "cell_type": "code",
   "execution_count": 6,
   "metadata": {},
   "outputs": [
    {
     "name": "stdout",
     "output_type": "stream",
     "text": [
      "Epoch 1, Loss: 0.1642354428768158\n",
      "Epoch 2, Loss: 0.20948323607444763\n",
      "Epoch 3, Loss: 0.18387961387634277\n",
      "Epoch 4, Loss: 0.17517533898353577\n",
      "Epoch 5, Loss: 0.34073683619499207\n",
      "Epoch 6, Loss: 0.40426793694496155\n",
      "Epoch 7, Loss: 0.13599316775798798\n",
      "Epoch 8, Loss: 0.329766184091568\n",
      "Epoch 9, Loss: 0.277312695980072\n",
      "Epoch 10, Loss: 0.3386182188987732\n"
     ]
    }
   ],
   "source": [
    "# Training Loop\n",
    "num_epochs = 10 \n",
    "model.train()\n",
    "for epoch in range(num_epochs):\n",
    "    for images, states in dataloader:\n",
    "        optimizer.zero_grad()\n",
    "        outputs = model(images)\n",
    "        loss = criterion(outputs, states)\n",
    "        loss.backward()\n",
    "        optimizer.step()\n",
    "    print(f'Epoch {epoch+1}, Loss: {loss.item()}')\n",
    "\n",
    "torch.save(model.state_dict(), 'cnn_lstm_grey.pth')"
   ]
  }
 ],
 "metadata": {
  "kernelspec": {
   "display_name": "Python 3",
   "language": "python",
   "name": "python3"
  },
  "language_info": {
   "codemirror_mode": {
    "name": "ipython",
    "version": 3
   },
   "file_extension": ".py",
   "mimetype": "text/x-python",
   "name": "python",
   "nbconvert_exporter": "python",
   "pygments_lexer": "ipython3",
   "version": "3.11.9"
  }
 },
 "nbformat": 4,
 "nbformat_minor": 2
}
