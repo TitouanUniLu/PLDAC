{
 "cells": [
  {
   "cell_type": "code",
   "execution_count": 167,
   "metadata": {},
   "outputs": [],
   "source": [
    "import torch\n",
    "import torch.nn as nn\n",
    "import torchvision.transforms as transforms\n",
    "import torch.nn.functional as F  # Ensure this import is added\n",
    "\n",
    "from torch.utils.data import DataLoader, TensorDataset\n",
    "import gym\n",
    "import numpy as np\n",
    "from PIL import Image\n",
    "import matplotlib.pyplot as plt\n",
    "import cv2"
   ]
  },
  {
   "cell_type": "markdown",
   "metadata": {},
   "source": [
    "### CNN 1 : RGB "
   ]
  },
  {
   "cell_type": "code",
   "execution_count": 171,
   "metadata": {},
   "outputs": [],
   "source": [
    "# Parameters\n",
    "sequence_length = 4  # Number of images in each sequence\n",
    "num_episodes = 300   ### JOUER AVEC CE PARAMETRE POUR AMELIORER LE MODELE : TESTER AVEC 1000 SERAIT COOL\n",
    "\n",
    "# Environment Setup\n",
    "env = gym.make('CartPole-v1')\n",
    "data_images = []\n",
    "data_states = []\n",
    "\n",
    "# Transformation for images\n",
    "transform = transforms.Compose([transforms.ToPILImage(), \n",
    "                    transforms.Resize(60, interpolation=Image.LANCZOS),\n",
    "                    transforms.ToTensor()])\n",
    "\n",
    "\n",
    "# Cart location for centering image crop\n",
    "def get_cart_location(screen_width):\n",
    "    world_width = env.x_threshold * 2\n",
    "    scale = screen_width / world_width\n",
    "    return int(env.state[0] * scale + screen_width / 2.0)  # MIDDLE OF CART\n",
    "\n",
    "# Cropping, downsampling (and Grayscaling) image\n",
    "def get_screen():\n",
    "    # Returned screen requested by gym is 400x600x3, but is sometimes larger\n",
    "    # such as 800x1200x3. Transpose it into torch order (CHW).\n",
    "    screen = env.render(mode='rgb_array').transpose((2, 0, 1))\n",
    "    # Cart is in the lower half, so strip off the top and bottom of the screen\n",
    "    _, screen_height, screen_width = screen.shape\n",
    "    screen = screen[:, int(screen_height*0.4):int(screen_height * 0.8)]\n",
    "    view_width = int(screen_width * 0.6)\n",
    "    cart_location = get_cart_location(screen_width)\n",
    "    if cart_location < view_width // 2:\n",
    "        slice_range = slice(view_width)\n",
    "    elif cart_location > (screen_width - view_width // 2):\n",
    "        slice_range = slice(-view_width, None)\n",
    "    else:\n",
    "        slice_range = slice(cart_location - view_width // 2,\n",
    "                            cart_location + view_width // 2)\n",
    "    # Strip off the edges, so that we have a square image centered on a cart\n",
    "    screen = screen[:, :, slice_range]\n",
    "    # Convert to float, rescale, convert to torch tensor\n",
    "    # (this doesn't require a copy)\n",
    "    screen = np.ascontiguousarray(screen, dtype=np.float32) / 255\n",
    "    # Resize, and add a batch dimension (BCHW)\n",
    "    screen = torch.from_numpy(screen)\n",
    "    return transform(screen)"
   ]
  },
  {
   "cell_type": "code",
   "execution_count": 172,
   "metadata": {},
   "outputs": [],
   "source": [
    "\n",
    "# Data Collection using Heuristic Policy\n",
    "for episode in range(num_episodes):\n",
    "    observation = env.reset()\n",
    "    images = [torch.zeros(3, 60, 135) for _ in range(4)]\n",
    "           \n",
    "    for t in range(1000):\n",
    "        tensor_image = get_screen()  # Transform image immediately\n",
    "        # if t==4:\n",
    "        #     print(tensor_image.shape)\n",
    "        #     plt.imshow(np.array(tensor_image.permute(1,2,0)))\n",
    "        images.append(tensor_image)\n",
    "        \n",
    "        if len(images) >= sequence_length:\n",
    "            # Stack the last sequence_length images to form a single sequence tensor\n",
    "            sequence_tensor = torch.stack(images[-sequence_length:], dim=0).permute(1, 0, 2, 3)\n",
    "            data_images.append(sequence_tensor)\n",
    "            data_states.append(observation)\n",
    "        \n",
    "        action = env.action_space.sample()  \n",
    "        observation, reward, done, info = env.step(action)\n",
    "        if done:\n",
    "            break\n",
    "\n",
    "env.close()\n",
    "\n",
    "# Convert data_states to a tensor\n",
    "data_states = torch.tensor(data_states, dtype=torch.float32)\n",
    "\n",
    "# Dataset and DataLoader\n",
    "dataset = TensorDataset(torch.stack(data_images), data_states)\n",
    "dataloader = DataLoader(dataset, batch_size=10, shuffle=True)\n"
   ]
  },
  {
   "cell_type": "code",
   "execution_count": 173,
   "metadata": {},
   "outputs": [],
   "source": [
    "# Model Definition\n",
    "class CNN(nn.Module):\n",
    "    def __init__(self):\n",
    "        super(CNN, self).__init__()\n",
    "        self.conv_layers = nn.Sequential(\n",
    "            nn.Conv3d(3, 16, kernel_size=(3, 3, 3), stride=1, padding=1),\n",
    "            nn.ReLU(),\n",
    "            nn.MaxPool3d(kernel_size=(1, 2, 2), stride=(1, 2, 2)),\n",
    "            nn.Conv3d(16, 32, kernel_size=(3, 3, 3), stride=1, padding=1),\n",
    "            nn.ReLU(),\n",
    "            nn.MaxPool3d(kernel_size=(1, 2, 2), stride=(1, 2, 2)),\n",
    "        )\n",
    "        # Correctly calculate the input size for the linear layer based on the output from conv_layers\n",
    "        self.fc_layers = nn.Sequential(\n",
    "            nn.Linear(63360, 128),  # Adjusted based on actual output size\n",
    "            nn.ReLU(),\n",
    "            nn.Linear(128, 4)  # Predicting 4 state variables\n",
    "        )\n",
    "\n",
    "    def forward(self, x):\n",
    "        x = self.conv_layers(x)\n",
    "        x = x.view(x.size(0), -1)  # Flatten the tensor for the fully connected layer\n",
    "        x = self.fc_layers(x)\n",
    "        return x"
   ]
  },
  {
   "cell_type": "code",
   "execution_count": 174,
   "metadata": {},
   "outputs": [
    {
     "name": "stdout",
     "output_type": "stream",
     "text": [
      "Epoch 1, Loss: 0.07291144877672195\n",
      "Epoch 2, Loss: 0.0323127880692482\n",
      "Epoch 3, Loss: 0.0680825263261795\n",
      "Epoch 4, Loss: 0.014706824906170368\n",
      "Epoch 5, Loss: 0.011884740553796291\n",
      "Epoch 6, Loss: 0.06468658894300461\n",
      "Epoch 7, Loss: 0.033202096819877625\n",
      "Epoch 8, Loss: 0.03171757236123085\n",
      "Epoch 9, Loss: 0.04470457136631012\n",
      "Epoch 10, Loss: 0.07456962764263153\n"
     ]
    }
   ],
   "source": [
    "# Model instantiation and training setup\n",
    "model = CNN()\n",
    "criterion = nn.MSELoss()\n",
    "optimizer = torch.optim.Adam(model.parameters(), lr=0.001)\n",
    "\n",
    "# Training Loop\n",
    "num_epochs = 10 # Peut-être avec plus d'epoch on obtiendrait un meilleur résultat ? jsp\n",
    "for epoch in range(num_epochs):\n",
    "    for images, states in dataloader:\n",
    "        optimizer.zero_grad()\n",
    "        outputs = model(images)\n",
    "        loss = criterion(outputs, states)\n",
    "        loss.backward()\n",
    "        optimizer.step()\n",
    "    print(f'Epoch {epoch+1}, Loss: {loss.item()}')\n",
    "\n"
   ]
  },
  {
   "cell_type": "code",
   "execution_count": 175,
   "metadata": {},
   "outputs": [],
   "source": [
    "# Save the model\n",
    "torch.save(model.state_dict(), 'cartpole_cnn_rgb.pth')"
   ]
  },
  {
   "cell_type": "code",
   "execution_count": 179,
   "metadata": {},
   "outputs": [
    {
     "name": "stdout",
     "output_type": "stream",
     "text": [
      "torch.Size([10, 3, 4, 60, 135]) torch.Size([10, 4])\n",
      "tensor([[ 0.0022,  0.0096, -0.0036,  0.0202]], grad_fn=<AddmmBackward0>) tensor([ 0.0405,  0.0406,  0.0216, -0.0420])\n"
     ]
    }
   ],
   "source": [
    "# Voir un peu ce que ça donne\n",
    "\n",
    "model.eval()\n",
    "for images, states in dataloader:\n",
    "    print(images.shape,states.shape)\n",
    "    print(model(images[0].unsqueeze(0)),states[0])\n",
    "    break"
   ]
  },
  {
   "cell_type": "code",
   "execution_count": 8,
   "metadata": {},
   "outputs": [],
   "source": [
    "# Voir encore mieux ce que ça donne\n",
    "\n",
    "# 1 : On collecte des images du cartpole (heuristique : random)\n",
    "\n",
    "env = gym.make('CartPole-v1')\n",
    "data_images_bis = []\n",
    "data_states_bis = []\n",
    "\n",
    "for episode in range(3):\n",
    "    observation_bis = env.reset()\n",
    "    images_bis = []\n",
    "    for t in range(1000):\n",
    "        img = env.render(mode='rgb_array')\n",
    "        img_pil = Image.fromarray(img)\n",
    "        tensor_image = transform(img_pil)  # Transform image immediately\n",
    "        images_bis.append(tensor_image)\n",
    "        \n",
    "        if len(images_bis) >= sequence_length:\n",
    "            # Stack the last sequence_length images to form a single sequence tensor\n",
    "            sequence_tensor = torch.stack(images_bis[-sequence_length:], dim=0).permute(1, 0, 2, 3)\n",
    "            data_images_bis.append(sequence_tensor)\n",
    "            data_states_bis.append(observation)\n",
    "        \n",
    "        action = env.action_space.sample()   # Use the heuristic policy\n",
    "        observation, reward, done, info = env.step(action)\n",
    "        if done:\n",
    "            break\n",
    "data_states_bis = torch.tensor(data_states_bis, dtype=torch.float32)\n",
    "\n",
    "# Dataset and DataLoader\n",
    "data_images_bis = torch.stack(data_images_bis)"
   ]
  },
  {
   "cell_type": "code",
   "execution_count": 9,
   "metadata": {},
   "outputs": [
    {
     "name": "stdout",
     "output_type": "stream",
     "text": [
      "tensor([[0.0299, 0.0496, 0.0353, 0.0723]]) tensor([ 0.0389, -0.2293,  0.0359,  0.3186])\n",
      "tensor([[0.0299, 0.0496, 0.0353, 0.0723]]) tensor([ 0.0343, -0.4249,  0.0423,  0.6224])\n",
      "tensor([[ 0.0246, -0.2409,  0.0376,  0.4888]]) tensor([ 0.0258, -0.6206,  0.0547,  0.9281])\n",
      "tensor([[-0.0030, -0.4574,  0.0725,  0.8211]]) tensor([ 0.0134, -0.4262,  0.0733,  0.6531])\n",
      "tensor([[-0.0075, -0.3330,  0.0781,  0.6277]]) tensor([ 0.0048, -0.6223,  0.0864,  0.9680])\n",
      "tensor([[-0.0099, -0.3732,  0.0813,  0.6977]]) tensor([-0.0076, -0.8185,  0.1057,  1.2865])\n",
      "tensor([[-0.0377, -0.6290,  0.1080,  1.1038]]) tensor([-0.0240, -0.6248,  0.1315,  1.0287])\n",
      "tensor([[-0.0493, -0.5892,  0.1321,  1.0962]]) tensor([-0.0365, -0.4317,  0.1520,  0.7800])\n",
      "tensor([[-0.0617, -0.3433,  0.1516,  0.8059]]) tensor([-0.0451, -0.6285,  0.1676,  1.1164])\n",
      "tensor([[-0.0767, -0.5178,  0.1705,  1.1121]]) tensor([-0.0577, -0.8254,  0.1900,  1.4566])\n",
      "tensor([[ 0.0286, -0.0267,  0.0286,  0.1492]]) tensor([ 0.0384,  0.2369,  0.0298, -0.3111])\n",
      "tensor([[ 0.0335,  0.2746,  0.0182, -0.3211]]) tensor([ 0.0432,  0.0414,  0.0236, -0.0092])\n",
      "tensor([[ 0.0411,  0.1214,  0.0125, -0.0573]]) tensor([ 0.0440,  0.2362,  0.0234, -0.2943])\n",
      "tensor([[ 0.0461,  0.3158,  0.0122, -0.3282]]) tensor([ 0.0487,  0.4310,  0.0175, -0.5795])\n",
      "tensor([[ 0.0547,  0.4291, -0.0127, -0.5427]]) tensor([ 0.0573,  0.2356,  0.0059, -0.2814])\n",
      "tensor([[ 0.0598,  0.1114, -0.0113, -0.0501]]) tensor([0.0621, 0.0404, 0.0003, 0.0132])\n",
      "tensor([[ 0.0571,  0.0031, -0.0109,  0.0623]]) tensor([ 0.0629,  0.2355,  0.0006, -0.2794])\n",
      "tensor([[ 0.0615,  0.2904, -0.0179, -0.3809]]) tensor([ 0.0676,  0.0404, -0.0050,  0.0134])\n",
      "tensor([[ 0.0652,  0.0928, -0.0167, -0.0558]]) tensor([ 0.0684, -0.1547, -0.0048,  0.3045])\n",
      "tensor([[ 0.0638,  0.0025, -0.0046,  0.0911]]) tensor([0.0653, 0.0405, 0.0013, 0.0103])\n",
      "tensor([[ 0.0628, -0.0110, -0.0072,  0.0868]]) tensor([ 0.0661, -0.1546,  0.0015,  0.3034])\n",
      "tensor([[ 0.0486, -0.2793,  0.0042,  0.4780]]) tensor([ 0.0630, -0.3498,  0.0076,  0.5966])\n",
      "tensor([[ 0.0543, -0.1305,  0.0100,  0.2650]]) tensor([ 0.0560, -0.5450,  0.0195,  0.8917])\n",
      "tensor([[ 0.0225, -0.4515,  0.0437,  0.7831]]) tensor([ 0.0451, -0.7404,  0.0374,  1.1904])\n",
      "tensor([[ 2.3914e-04, -5.6258e-01,  6.6716e-02,  9.5413e-01]]) tensor([ 0.0303, -0.5458,  0.0612,  0.9097])\n",
      "tensor([[ 0.0087, -0.2927,  0.0735,  0.5735]]) tensor([ 0.0194, -0.3515,  0.0794,  0.6368])\n",
      "tensor([[-4.9227e-04, -2.5010e-01,  9.0898e-02,  5.7275e-01]]) tensor([ 0.0124, -0.5476,  0.0921,  0.9534])\n",
      "tensor([[-0.0025, -0.3075,  0.0970,  0.6918]]) tensor([ 0.0014, -0.3539,  0.1112,  0.6910])\n",
      "tensor([[-0.0112, -0.3014,  0.1126,  0.7137]]) tensor([-0.0057, -0.1605,  0.1250,  0.4353])\n",
      "tensor([[-0.0171, -0.2574,  0.1186,  0.6645]]) tensor([-0.0089,  0.0327,  0.1337,  0.1845])\n",
      "tensor([[-0.0231, -0.0309,  0.1334,  0.3965]]) tensor([-0.0082, -0.1641,  0.1374,  0.5162])\n",
      "tensor([[-0.0181, -0.0137,  0.1319,  0.4203]]) tensor([-0.0115,  0.0289,  0.1477,  0.2698])\n",
      "tensor([[-0.0155,  0.0630,  0.1283,  0.3198]]) tensor([-0.0109, -0.1680,  0.1531,  0.6051])\n",
      "tensor([[-0.0126,  0.0773,  0.1335,  0.3302]]) tensor([-0.0143,  0.0247,  0.1652,  0.3643])\n",
      "tensor([[-0.0094,  0.0569,  0.1426,  0.4050]]) tensor([-0.0138,  0.2171,  0.1725,  0.1280])\n",
      "tensor([[-0.0062,  0.0681,  0.1491,  0.4247]]) tensor([-0.0095,  0.0200,  0.1751,  0.4697])\n",
      "tensor([[-0.0066,  0.0396,  0.1509,  0.4782]]) tensor([-0.0091, -0.1771,  0.1844,  0.8121])\n",
      "tensor([[-0.0076,  0.0078,  0.1585,  0.5485]]) tensor([-0.0126, -0.3742,  0.2007,  1.1566])\n",
      "tensor([[-0.0001,  0.0180,  0.0056, -0.0399]]) tensor([ 0.0075, -0.2131, -0.0173,  0.2286])\n",
      "tensor([[ 0.0009, -0.0027,  0.0025, -0.0128]]) tensor([ 0.0033, -0.0177, -0.0128, -0.0695])\n",
      "tensor([[ 6.2454e-05,  5.3259e-02,  6.9692e-03, -7.1872e-02]]) tensor([ 0.0029, -0.2127, -0.0141,  0.2191])\n",
      "tensor([[ 0.0023, -0.2143,  0.0062,  0.3158]]) tensor([-0.0013, -0.4076, -0.0098,  0.5073])\n",
      "tensor([[-0.0072, -0.3265,  0.0188,  0.4748]]) tensor([-9.4857e-03, -6.0259e-01,  3.8146e-04,  7.9692e-01])\n",
      "tensor([[-0.0215, -0.3539,  0.0338,  0.5216]]) tensor([-0.0215, -0.7977,  0.0163,  1.0897])\n",
      "tensor([[-0.0329, -0.5643,  0.0432,  0.8464]]) tensor([-0.0375, -0.9930,  0.0381,  1.3875])\n",
      "tensor([[-0.0760, -0.8226,  0.0877,  1.2678]]) tensor([-0.0574, -0.7984,  0.0659,  1.1070])\n",
      "tensor([[-0.0954, -0.6659,  0.1068,  1.0534]]) tensor([-0.0733, -0.9943,  0.0880,  1.4196])\n",
      "tensor([[-0.1005, -0.6812,  0.1075,  1.0663]]) tensor([-0.0932, -1.1904,  0.1164,  1.7384])\n",
      "tensor([[-0.1132, -0.9165,  0.1248,  1.4036]]) tensor([-0.1170, -0.9968,  0.1512,  1.4841])\n",
      "tensor([[-0.1447, -0.8250,  0.1657,  1.3229]]) tensor([-0.1370, -0.8038,  0.1808,  1.2422])\n",
      "tensor([[-0.1583, -0.7316,  0.1763,  1.2033]]) tensor([-0.1530, -0.6114,  0.2057,  1.0111])\n",
      "8.720455790637061\n"
     ]
    }
   ],
   "source": [
    "# 2 Afficher ce que prédit le modèle vs les vraies observations\n",
    "\n",
    "model.eval()\n",
    "total = 0 # Loss totale\n",
    "for images, states in zip(data_images_bis, data_states_bis):\n",
    "    with torch.no_grad():\n",
    "        print(model(images.unsqueeze(0)),states)\n",
    "        total += np.sum(np.array((model(images.unsqueeze(0))-states)**2))\n",
    "\n",
    "print(total)"
   ]
  },
  {
   "cell_type": "code",
   "execution_count": 10,
   "metadata": {},
   "outputs": [],
   "source": [
    "torch.save(model.state_dict(), 'gotta_test_that_one.pth')"
   ]
  },
  {
   "cell_type": "markdown",
   "metadata": {},
   "source": [
    "### CNN 2 : GREY"
   ]
  },
  {
   "cell_type": "code",
   "execution_count": 76,
   "metadata": {},
   "outputs": [],
   "source": [
    "# Parameters\n",
    "sequence_length = 4  # Number of images in each sequence\n",
    "num_episodes = 300   # Number of episodes for data collection\n",
    "                     # ENCORE UNE FOIS best_grey_model A ETE FAIT A 300, VOIR AVEC 1000 ? \n",
    "\n",
    "# Environment Setup\n",
    "env = gym.make('CartPole-v1')\n",
    "data_images = []\n",
    "data_states = []\n",
    "\n",
    "# Transformer les images et les convertir en tenseurs\n",
    "transform = transforms.Compose([\n",
    "    transforms.ToTensor(),\n",
    "    transforms.Resize((60, 135)),\n",
    "    transforms.Grayscale()\n",
    "])"
   ]
  },
  {
   "cell_type": "code",
   "execution_count": 11,
   "metadata": {},
   "outputs": [],
   "source": [
    "# Cart location for centering image crop\n",
    "def get_cart_location(screen_width):\n",
    "    world_width = env.x_threshold * 2\n",
    "    scale = screen_width / world_width\n",
    "    return int(env.state[0] * scale + screen_width / 2.0)  # MIDDLE OF CART\n",
    "\n",
    "# Cropping, downsampling (and Grayscaling) image\n",
    "def get_screen():\n",
    "    # Returned screen requested by gym is 400x600x3, but is sometimes larger\n",
    "    # such as 800x1200x3. Transpose it into torch order (CHW).\n",
    "    screen = env.render(mode='rgb_array').transpose((2, 0, 1))\n",
    "    # Cart is in the lower half, so strip off the top and bottom of the screen\n",
    "    _, screen_height, screen_width = screen.shape\n",
    "    screen = screen[:, int(screen_height*0.4):int(screen_height * 0.8)]\n",
    "    view_width = int(screen_width * 0.6)\n",
    "    cart_location = get_cart_location(screen_width)\n",
    "    if cart_location < view_width // 2:\n",
    "        slice_range = slice(view_width)\n",
    "    elif cart_location > (screen_width - view_width // 2):\n",
    "        slice_range = slice(-view_width, None)\n",
    "    else:\n",
    "        slice_range = slice(cart_location - view_width // 2,\n",
    "                            cart_location + view_width // 2)\n",
    "    # Strip off the edges, so that we have a square image centered on a cart\n",
    "    screen = screen[:, :, slice_range]\n",
    "    # Convert to float, rescale, convert to torch tensor\n",
    "    # (this doesn't require a copy)\n",
    "    screen = np.ascontiguousarray(screen, dtype=np.float32) / 255\n",
    "    # Resize, and add a batch dimension (BCHW)\n",
    "    return transform(screen.transpose(1,2,0)).squeeze(0)\n"
   ]
  },
  {
   "cell_type": "code",
   "execution_count": 77,
   "metadata": {},
   "outputs": [],
   "source": [
    "\n",
    "# Collecter les données\n",
    "\n",
    "for episode in range(num_episodes):\n",
    "    observation = env.reset()\n",
    "    images = [torch.zeros(60, 135) for _ in range(4)]\n",
    "    for t in range(1000):\n",
    "        img = env.render(mode='rgb_array')\n",
    "        tensor_image = get_screen()\n",
    "        # if t == 5:\n",
    "        #     fig, axes = plt.subplots(1, 2, figsize=(15, 5))  # Crée une figure et des axes avec 1 ligne et 'n_images' colonnes\n",
    "        #     axes[0].imshow(tensor_image)\n",
    "        #     axes[1].imshow(tensor_image_bis)\n",
    "\n",
    "        images.append(tensor_image)\n",
    "        \n",
    "        sequence_tensor = torch.stack(images[-sequence_length:], dim=0)\n",
    "        data_images.append(sequence_tensor)\n",
    "        data_states.append(observation)\n",
    "\n",
    "        action = env.action_space.sample()  \n",
    "        observation, reward, done, info = env.step(action)\n",
    "        if done:\n",
    "            break\n",
    "\n",
    "# env.close()\n",
    "\n",
    "# Convert data_states to a tensor\n",
    "data_states = torch.tensor(data_states, dtype=torch.float32)\n",
    "\n",
    "# Dataset and DataLoader\n",
    "dataset = TensorDataset(torch.stack(data_images), data_states)\n",
    "dataloader = DataLoader(dataset, batch_size=10, shuffle=True)"
   ]
  },
  {
   "cell_type": "code",
   "execution_count": 14,
   "metadata": {},
   "outputs": [],
   "source": [
    "class CartPoleCNN(nn.Module):\n",
    "    def __init__(self):\n",
    "        super(CartPoleCNN, self).__init__()\n",
    "        self.conv_layers = nn.Sequential(\n",
    "            nn.Conv2d(4, 16, kernel_size=5, stride=1, padding=2),  # Input: 4 gray images, output: 16 channels, 60x135\n",
    "            nn.ReLU(),\n",
    "            nn.MaxPool2d(kernel_size=2, stride=2),                 # Output size: ? 30x67\n",
    "            nn.Conv2d(16, 32, kernel_size=5, stride=1, padding=2),\n",
    "            nn.ReLU(),\n",
    "            nn.MaxPool2d(kernel_size=2, stride=2),                 # Output size: ? 15x33\n",
    "            nn.Conv2d(32, 64, kernel_size=5, stride=1, padding=2),\n",
    "            nn.ReLU(),\n",
    "            nn.MaxPool2d(kernel_size=2, stride=2)                  # Output size: ? 7x16\n",
    "        )\n",
    "        self.fc_layers = nn.Sequential(\n",
    "            nn.Linear(64 * 7 * 16, 128),\n",
    "            nn.ReLU(),\n",
    "            nn.Linear(128,4)    # x, x_dot, theta, theta_dot\n",
    "        )\n",
    "\n",
    "    def forward(self, x):\n",
    "        x = self.conv_layers(x)\n",
    "        x = x.view(x.size(0), -1)  # Flatten the output for the fully connected layers\n",
    "        x = self.fc_layers(x)\n",
    "        return x\n",
    "\n",
    "# Instanciation du modèle\n",
    "model = CartPoleCNN()\n",
    "criterion = nn.MSELoss()\n",
    "optimizer = torch.optim.Adam(model.parameters(), lr=0.001)"
   ]
  },
  {
   "cell_type": "code",
   "execution_count": 82,
   "metadata": {},
   "outputs": [
    {
     "name": "stdout",
     "output_type": "stream",
     "text": [
      "torch.Size([10, 4]) torch.Size([10, 4, 60, 135])\n",
      "tensor([-0.1114, -1.3923,  0.1666,  2.2089])\n"
     ]
    },
    {
     "data": {
      "image/png": "[encoded data removed]",
      "text/plain": [
       "<Figure size 2000x3000 with 4 Axes>"
      ]
     },
     "metadata": {},
     "output_type": "display_data"
    }
   ],
   "source": [
    "for images, labels in dataloader:\n",
    "    print(labels.shape,images.shape)\n",
    "    fig,axes = plt.subplots(1,4,figsize = (20,30))\n",
    "    for i in range(4):\n",
    "        axes[i].imshow(images[0][i])\n",
    "    print(labels[0])\n",
    "\n",
    "    break"
   ]
  },
  {
   "cell_type": "code",
   "execution_count": 92,
   "metadata": {},
   "outputs": [],
   "source": [
    "env.close()"
   ]
  },
  {
   "cell_type": "code",
   "execution_count": 86,
   "metadata": {},
   "outputs": [
    {
     "name": "stdout",
     "output_type": "stream",
     "text": [
      "Epoch 1, Loss: 0.4276227056980133\n",
      "Epoch 2, Loss: 0.0886773020029068\n",
      "Epoch 3, Loss: 0.04507780820131302\n",
      "Epoch 4, Loss: 0.04576120525598526\n",
      "Epoch 5, Loss: 0.05920986086130142\n",
      "Epoch 6, Loss: 0.04326784983277321\n",
      "Epoch 7, Loss: 0.08375322818756104\n",
      "Epoch 8, Loss: 0.05944535881280899\n",
      "Epoch 9, Loss: 0.017115509137511253\n",
      "Epoch 10, Loss: 0.05878958851099014\n",
      "Epoch 11, Loss: 0.04696138575673103\n",
      "Epoch 12, Loss: 0.039336491376161575\n",
      "Epoch 13, Loss: 0.04241881147027016\n",
      "Epoch 14, Loss: 0.02552243508398533\n",
      "Epoch 15, Loss: 0.07572563737630844\n"
     ]
    }
   ],
   "source": [
    "# Training Loop\n",
    "num_epochs = 15 # Peut-être avec plus d'epoch on obtiendrait un meilleur résultat ? jsp\n",
    "model.train()\n",
    "for epoch in range(num_epochs):\n",
    "    for images, states in dataloader:\n",
    "        optimizer.zero_grad()\n",
    "        outputs = model(images)\n",
    "        loss = criterion(outputs, states)\n",
    "        loss.backward()\n",
    "        optimizer.step()\n",
    "    print(f'Epoch {epoch+1}, Loss: {loss.item()}')"
   ]
  },
  {
   "cell_type": "code",
   "execution_count": 87,
   "metadata": {},
   "outputs": [],
   "source": [
    "# Voir encore mieux ce que ça donne\n",
    "\n",
    "# 1 : On collecte des images du cartpole (heuristique : random)\n",
    "\n",
    "env = gym.make('CartPole-v1')\n",
    "data_images_bis = []\n",
    "data_states_bis = []\n",
    "\n",
    "for episode in range(3):\n",
    "    observation_bis = env.reset()\n",
    "    images_bis = []\n",
    "    for t in range(1000):\n",
    "        img = env.render(mode='rgb_array')\n",
    "        tensor_image = transform(img).squeeze(0)  # Transform image immediately\n",
    "        images_bis.append(tensor_image)\n",
    "        \n",
    "        if len(images_bis) >= sequence_length:\n",
    "            # Stack the last sequence_length images to form a single sequence tensor\n",
    "            sequence_tensor = torch.stack(images_bis[-sequence_length:], dim=0)\n",
    "            data_images_bis.append(sequence_tensor)\n",
    "            data_states_bis.append(observation)\n",
    "        \n",
    "        action = env.action_space.sample()   # Use the heuristic policy\n",
    "        observation, reward, done, info = env.step(action)\n",
    "        if done:\n",
    "            break\n",
    "data_states_bis = torch.tensor(data_states_bis, dtype=torch.float32)\n",
    "\n",
    "# Dataset and DataLoader\n",
    "data_images_bis = torch.stack(data_images_bis)"
   ]
  },
  {
   "cell_type": "code",
   "execution_count": 90,
   "metadata": {},
   "outputs": [
    {
     "name": "stdout",
     "output_type": "stream",
     "text": [
      "tensor([[-0.0013,  0.0514,  0.0029, -0.0560]]) tensor([ 0.0065, -0.6055,  0.0538,  0.9156])\n",
      "tensor([[-0.0009,  0.0634,  0.0017, -0.0747]]) tensor([-0.0056, -0.4112,  0.0722,  0.6403])\n",
      "tensor([[-0.0012,  0.0543,  0.0026, -0.0605]]) tensor([-0.0138, -0.2171,  0.0850,  0.3712])\n",
      "tensor([[-0.0005,  0.0730,  0.0008, -0.0895]]) tensor([-0.0181, -0.0233,  0.0924,  0.1064])\n",
      "tensor([[-2.5229e-04,  8.0552e-02,  6.5079e-05, -1.0122e-01]]) tensor([-0.0186, -0.2196,  0.0945,  0.4268])\n",
      "tensor([[-0.0004,  0.0769,  0.0004, -0.0955]]) tensor([-0.0230, -0.4159,  0.1031,  0.7477])\n",
      "tensor([[-0.0009,  0.0621,  0.0018, -0.0726]]) tensor([-0.0313, -0.6123,  0.1180,  1.0709])\n",
      "tensor([[-0.0014,  0.0486,  0.0031, -0.0517]]) tensor([-0.0436, -0.4189,  0.1394,  0.8175])\n",
      "tensor([[-0.0013,  0.0516,  0.0028, -0.0563]]) tensor([-0.0519, -0.6157,  0.1558,  1.1506])\n",
      "tensor([[-0.0015,  0.0450,  0.0035, -0.0461]]) tensor([-0.0643, -0.4229,  0.1788,  0.9105])\n",
      "tensor([[-0.0013,  0.0511,  0.0029, -0.0556]]) tensor([-0.0727, -0.6199,  0.1970,  1.2536])\n",
      "tensor([[ 0.0003,  0.0955, -0.0014, -0.1245]]) tensor([ 0.0477,  0.5820, -0.0593, -0.9026])\n",
      "tensor([[ 0.0007,  0.1089, -0.0026, -0.1451]]) tensor([ 0.0594,  0.7779, -0.0774, -1.2133])\n",
      "tensor([[ 0.0015,  0.1320, -0.0049, -0.1810]]) tensor([ 0.0749,  0.9739, -0.1016, -1.5292])\n",
      "tensor([[ 0.0026,  0.1612, -0.0077, -0.2262]]) tensor([ 0.0944,  1.1701, -0.1322, -1.8518])\n",
      "tensor([[ 0.0039,  0.2009, -0.0115, -0.2877]]) tensor([ 0.1178,  1.3664, -0.1693, -2.1825])\n",
      "tensor([[ 0.0002,  0.0942, -0.0012, -0.1224]]) tensor([ 0.0533,  0.6147, -0.0212, -0.8981])\n",
      "tensor([[ 0.0015,  0.1301, -0.0047, -0.1780]]) tensor([ 0.0656,  0.8101, -0.0391, -1.1973])\n",
      "tensor([[ 0.0021,  0.1475, -0.0064, -0.2050]]) tensor([ 0.0818,  1.0058, -0.0631, -1.5020])\n",
      "tensor([[ 0.0027,  0.1642, -0.0080, -0.2309]]) tensor([ 0.1019,  0.8115, -0.0931, -1.2297])\n",
      "tensor([[ 0.0030,  0.1737, -0.0089, -0.2455]]) tensor([ 0.1181,  1.0076, -0.1177, -1.5500])\n",
      "tensor([[ 0.0040,  0.2028, -0.0117, -0.2907]]) tensor([ 0.1383,  1.2040, -0.1487, -1.8770])\n",
      "tensor([[ 0.0046,  0.2190, -0.0132, -0.3158]]) tensor([ 0.1623,  1.0107, -0.1863, -1.6339])\n",
      "40.16013644635677\n"
     ]
    }
   ],
   "source": [
    "# 2 Afficher ce que prédit le modèle vs les vraies observations\n",
    "\n",
    "model.eval()\n",
    "total = 0 # Loss totale\n",
    "for images, states in zip(data_images_bis, data_states_bis):\n",
    "    with torch.no_grad():\n",
    "        print(model(images.unsqueeze(0)),states)\n",
    "        total += np.sum(np.array((model(images.unsqueeze(0))-states)**2))\n",
    "\n",
    "print(total)"
   ]
  },
  {
   "cell_type": "code",
   "execution_count": 91,
   "metadata": {},
   "outputs": [],
   "source": [
    "torch.save(model.state_dict(), 'cnn_batchnorm.pth')"
   ]
  },
  {
   "cell_type": "code",
   "execution_count": 75,
   "metadata": {},
   "outputs": [],
   "source": [
    "env.close()"
   ]
  }
 ],
 "metadata": {
  "kernelspec": {
   "display_name": "Python 3",
   "language": "python",
   "name": "python3"
  },
  "language_info": {
   "codemirror_mode": {
    "name": "ipython",
    "version": 3
   },
   "file_extension": ".py",
   "mimetype": "text/x-python",
   "name": "python",
   "nbconvert_exporter": "python",
   "pygments_lexer": "ipython3",
   "version": "3.11.9"
  }
 },
 "nbformat": 4,
 "nbformat_minor": 2
}
