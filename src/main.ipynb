{
 "cells": [
  {
   "cell_type": "code",
   "execution_count": 44,
   "metadata": {},
   "outputs": [
    {
     "name": "stderr",
     "output_type": "stream",
     "text": [
      "[easypip] Installing bbrl_gymnasium>=0.2.0\n",
      "[easypip] Installing bbrl_gymnasium[box2d]\n",
      "[easypip] Installing bbrl_gymnasium[classic_control]\n"
     ]
    }
   ],
   "source": [
    "from easypip import easyimport, easyinstall, is_notebook\n",
    "easyinstall(\"bbrl>=0.2.2\")\n",
    "easyinstall(\"swig\")\n",
    "easyinstall(\"bbrl_gymnasium>=0.2.0\")\n",
    "easyinstall(\"bbrl_gymnasium[box2d]\")\n",
    "easyinstall(\"bbrl_gymnasium[classic_control]\")\n",
    "easyinstall(\"tensorboard\")\n",
    "easyinstall(\"moviepy\")\n",
    "easyinstall(\"box2d-kengz\")"
   ]
  },
  {
   "cell_type": "code",
   "execution_count": 45,
   "metadata": {},
   "outputs": [],
   "source": [
    "import os\n",
    "import sys\n",
    "from pathlib import Path\n",
    "import math\n",
    "import numpy as np\n",
    "\n",
    "from moviepy.editor import ipython_display as video_display\n",
    "import time\n",
    "from tqdm.auto import tqdm\n",
    "from typing import Tuple, Optional\n",
    "from functools import partial\n",
    "\n",
    "from omegaconf import OmegaConf\n",
    "import torch\n",
    "import bbrl_gymnasium\n",
    "\n",
    "import copy\n",
    "from abc import abstractmethod, ABC\n",
    "import torch.nn as nn\n",
    "import torch.nn.functional as F\n",
    "from time import strftime\n",
    "\n",
    "from gymnasium import Env, Space, Wrapper, make\n",
    "\n",
    "from bbrl.agents.agent import Agent\n",
    "from bbrl import get_arguments, get_class, instantiate_class\n",
    "from bbrl.workspace import Workspace\n",
    "from bbrl.agents import Agents, TemporalAgent\n",
    "from bbrl.agents.gymnasium import GymAgent, ParallelGymAgent, make_env, record_video\n",
    "from bbrl.utils.replay_buffer import ReplayBuffer\n",
    "\n",
    "import torch.nn as nn\n",
    "\n",
    "from typing import Tuple\n",
    "from bbrl.agents.gymnasium import make_env, GymAgent, ParallelGymAgent\n",
    "from functools import partial\n",
    "\n",
    "from bbrl import instantiate_class\n",
    "\n",
    "import matplotlib.pyplot as plt\n",
    "\n",
    "from torch.autograd import Variable\n",
    "from torch.nn import Linear, ReLU, CrossEntropyLoss, Sequential, Conv2d, MaxPool2d, Module, Softmax, BatchNorm2d, Dropout\n",
    "from torch.optim import Adam, SGD\n",
    "\n",
    "from IPython.display import clear_output\n",
    "\n",
    "import cv2\n",
    "import numpy as np\n",
    "\n",
    "from keras.models import Sequential\n",
    "from keras.layers import Conv2D, MaxPooling2D, Flatten, Dense\n",
    "from keras.optimizers import Adam\n",
    "\n",
    "from keras.models import Sequential\n",
    "from keras.layers import Conv2D, MaxPooling2D, Flatten\n",
    "\n",
    "import random as python_random\n",
    "import tensorflow as tf"
   ]
  },
  {
   "cell_type": "code",
   "execution_count": 46,
   "metadata": {},
   "outputs": [],
   "source": [
    "# Utility function for launching tensorboard\n",
    "# For Colab - otherwise, it is easier and better to launch tensorboard from\n",
    "# the terminal\n",
    "def setup_tensorboard(path):\n",
    "    path = Path(path)\n",
    "    answer = \"\"\n",
    "    if is_notebook():\n",
    "        if get_ipython().__class__.__module__ == \"google.colab._shell\":\n",
    "            answer = \"y\"\n",
    "        while answer not in [\"y\", \"n\"]:\n",
    "                answer = input(f\"Do you want to launch tensorboard in this notebook [y/n] \").lower()\n",
    "\n",
    "    if answer == \"y\":\n",
    "        get_ipython().run_line_magic(\"load_ext\", \"tensorboard\")\n",
    "        get_ipython().run_line_magic(\"tensorboard\", f\"--logdir {path.absolute()}\")\n",
    "    else:\n",
    "        import sys\n",
    "        import os\n",
    "        import os.path as osp\n",
    "        print(f\"Launch tensorboard from the shell:\\n{osp.dirname(sys.executable)}/tensorboard --logdir={path.absolute()}\")"
   ]
  },
  {
   "cell_type": "code",
   "execution_count": 47,
   "metadata": {},
   "outputs": [],
   "source": [
    "SEED = 42\n",
    "\n",
    "# Memes parametres que dans les notebooks, pour le moment on y touche pas mais a changer apres peut etre\n",
    "params={\n",
    "  \"save_best\": False,\n",
    "  \"logger\":{\n",
    "    \"classname\": \"bbrl.utils.logger.TFLogger\",\n",
    "    \"log_dir\": \"./tblogs/dqn-buffer-\" + str(time.time()),\n",
    "    \"cache_size\": 10000,\n",
    "    \"every_n_seconds\": 10,\n",
    "    \"verbose\": False,    \n",
    "    },\n",
    "\n",
    "  \"algorithm\":{\n",
    "    \"seed\": SEED,\n",
    "    \"max_grad_norm\": 0.5,\n",
    "    \"epsilon\": 0.02,\n",
    "    \"n_envs\": 8,\n",
    "    \"n_steps\": 32,\n",
    "    \"n_updates\": 32,\n",
    "    \"eval_interval\": 2000,\n",
    "    \"learning_starts\": 2000,\n",
    "    \"nb_evals\": 10,\n",
    "    \"buffer_size\": 1e6,\n",
    "    \"batch_size\": 256,\n",
    "    \"target_critic_update\": 5000,\n",
    "    \"max_epochs\": 100, #MAX ITER \n",
    "    \"discount_factor\": 0.99,\n",
    "    \"architecture\":{\"hidden_size\": [64, 64]},\n",
    "  },\n",
    "  \"gym_env\":{\n",
    "    \"env_name\": \"CartPole-v1\",\n",
    "  },\n",
    "  \"optimizer\":\n",
    "  {\n",
    "    \"classname\": \"torch.optim.Adam\",\n",
    "    \"lr\": 1e-3,\n",
    "  }\n",
    "}\n",
    "\n",
    "config=OmegaConf.create(params)"
   ]
  },
  {
   "cell_type": "markdown",
   "metadata": {},
   "source": [
    "TEST AVEC UN RANDOM AGENT"
   ]
  },
  {
   "cell_type": "code",
   "execution_count": 49,
   "metadata": {},
   "outputs": [],
   "source": [
    "# meme randomAgent que dans les notebooks\n",
    "class RandomAgent(Agent):\n",
    "    def __init__(self, action_dim):\n",
    "        super().__init__()\n",
    "        self.action_dim = action_dim\n",
    "        self.all_observations = []\n",
    "\n",
    "    def forward(self, t: int, choose_action=True, **kwargs):\n",
    "        \"\"\"An Agent can use self.workspace\"\"\"\n",
    "        obs = self.get((\"env/env_obs\", t))\n",
    "        action = torch.randint(0, self.action_dim, (len(obs), ))\n",
    "        self.set((\"action\", t), action)\n",
    "        self.all_observations.append(obs)\n"
   ]
  },
  {
   "cell_type": "code",
   "execution_count": 51,
   "metadata": {},
   "outputs": [],
   "source": [
    "# on extend le parallelGymAgent pour pouvoir obtenir l'environment des agents\n",
    "# finalement y pas eu besoin apres donc on peut changer ca mais on fera apres \n",
    "# A CHANGER A PRIORI C'EST PLUS UTILE ICI\n",
    "class CustomParallelGymAgent(ParallelGymAgent):\n",
    "    def __init__(self, *args, **kwargs):\n",
    "        super().__init__(*args, **kwargs)\n",
    "    \n",
    "    def get_my_attribute(self):\n",
    "        return self.envs"
   ]
  },
  {
   "cell_type": "code",
   "execution_count": 58,
   "metadata": {},
   "outputs": [],
   "source": [
    "#un des agents les plus importants:\n",
    "#on utilise le CustomParallelGymAgent pour obtenir l'environment d'un agent puis on extrait les informations\n",
    "#notamment l'image du cartpole a chaque temps t\n",
    "#avec cette image, on la preprocess et on la passe dans un cnn (defini plus bas)\n",
    "class AttributeAccessAgent(Agent):\n",
    "    def __init__(self, env_agent, list_images, pre_processing_agent, cnn_agent):\n",
    "        super().__init__()\n",
    "        #les agents\n",
    "        self.env_agent = env_agent  # CustomParallelGymAgent ou ParallelGymAgent\n",
    "        self.pre_processing_agent = pre_processing_agent\n",
    "        self.cnn_agent = cnn_agent\n",
    "        #init de la liste de listes pour store les images\n",
    "        self.list_images = [[] for _ in range(self.env_agent.num_envs)]\n",
    "        self.list_features = [[] for _ in range(self.env_agent.num_envs)]\n",
    "    \n",
    "    def forward(self, t: int, **kwargs):\n",
    "        #ici on fait le forward pour chaque agent (donc en fonction du nombre d'environments)\n",
    "        for env_index in range(self.env_agent.num_envs):\n",
    "            image = self.env_agent.envs[env_index].render() #on recupere l'image\n",
    "            display = False #pour afficher en temps reel mais pas utile pour +1 env\n",
    "            if display: #print a chaque temps l'image originale\n",
    "                clear_output(wait=True)   \n",
    "                plt.imshow(image)  \n",
    "                plt.axis('off')\n",
    "                plt.show()\n",
    "                print(\"Displayed image at time\", t, \" of agent \", env_index)\n",
    "            #print(image.shape)\n",
    "            \n",
    "            image_pre_processed = self.pre_processing_agent.preprocess(image) #image renvoyee pas le preprocesseur\n",
    "\n",
    "            self.list_images[env_index].append(image_pre_processed) #on ajoute au bon endroit dans la liste\n",
    "\n",
    "            # attention a bien mettre l'image preprocessed ici sinon y a des pb avec le cnn\n",
    "            features = self.cnn_agent.process_image(image_pre_processed) \n",
    "            #print(features.shape)\n",
    "            self.list_features[env_index].append(features) #on ajoute pareil pour les features"
   ]
  },
  {
   "cell_type": "code",
   "execution_count": 61,
   "metadata": {},
   "outputs": [],
   "source": [
    "# agent pour gerer le preprocessing, rien de trop particulier\n",
    "# on pourrait faire du preprocessing plus complexe si jamais on obtient des mauvais resultats\n",
    "class PreProcessingAgent(Agent):\n",
    "    def __init__(self):\n",
    "        super().__init__()\n",
    "\n",
    "    def preprocess(self, image):\n",
    "        processed_image = cv2.cvtColor(image, cv2.COLOR_RGB2GRAY)  #on mets en noir et blanc\n",
    "        processed_image = cv2.resize(processed_image, (224, 224))  #on rescale \n",
    "        return processed_image #image de taille (224, 224)"
   ]
  },
  {
   "cell_type": "code",
   "execution_count": 54,
   "metadata": {},
   "outputs": [],
   "source": [
    "#modele CNN: c'est une implementation plutot basqiue de cnn, truc classique qu'on trouve sur internet\n",
    "#on fait avec 5 layers pcq a priori ca devrait suffire\n",
    "class CNN(nn.Module):\n",
    "    def __init__(self):\n",
    "        super(CNN, self).__init__()\n",
    "        self.conv_layers = nn.Sequential(\n",
    "            #layer 1\n",
    "            nn.Conv2d(in_channels=1, out_channels=16, kernel_size=3, stride=1, padding=1),\n",
    "            nn.ReLU(),\n",
    "            nn.MaxPool2d(kernel_size=2, stride=2),  # Output: 16 x 112 x 112\n",
    "            \n",
    "            #layer 2\n",
    "            nn.Conv2d(in_channels=16, out_channels=32, kernel_size=3, stride=1, padding=1),\n",
    "            nn.ReLU(),\n",
    "            nn.MaxPool2d(kernel_size=2, stride=2),  # Output: 32 x 56 x 56\n",
    "            \n",
    "            #layer 3\n",
    "            nn.Conv2d(in_channels=32, out_channels=64, kernel_size=3, stride=1, padding=1),\n",
    "            nn.ReLU(),\n",
    "            nn.MaxPool2d(kernel_size=2, stride=2),  # Output: 64 x 28 x 28\n",
    "            \n",
    "            #layer 4\n",
    "            nn.Conv2d(in_channels=64, out_channels=128, kernel_size=3, stride=1, padding=1),\n",
    "            nn.ReLU(),\n",
    "            nn.MaxPool2d(kernel_size=2, stride=2),  # Output: 128 x 14 x 14\n",
    "            \n",
    "            #layer 5\n",
    "            nn.Conv2d(in_channels=128, out_channels=256, kernel_size=3, stride=1, padding=1),\n",
    "            nn.ReLU(),\n",
    "            nn.MaxPool2d(kernel_size=2, stride=2),  # Output: 256 x 7 x 7\n",
    "        )\n",
    "        \n",
    "        self.fc_layers = nn.Sequential( #on cherche a avoir un vecteur de taille 128 (une ligne)\n",
    "            nn.Flatten(),\n",
    "            nn.Linear(256 * 7 * 7, 512),\n",
    "            nn.ReLU(),\n",
    "            nn.Linear(512, 256),\n",
    "            nn.ReLU(),\n",
    "            nn.Linear(256, 128),  \n",
    "        )\n",
    "        \n",
    "    def forward(self, x): #ici c'est l'image qui a ete converti en tensor\n",
    "        x = self.conv_layers(x)\n",
    "        x = self.fc_layers(x)\n",
    "        return x\n"
   ]
  },
  {
   "cell_type": "code",
   "execution_count": 55,
   "metadata": {},
   "outputs": [],
   "source": [
    "# l'agent cnn qui implemente le modele cnn defini en haut\n",
    "class CNNAgent(Agent):\n",
    "    def __init__(self):\n",
    "        super().__init__()\n",
    "        self.cnn = CNN() #le cnn\n",
    "\n",
    "    def process_image(self, image):\n",
    "        #on converti l'image (preprocessed) en un tensor qu'on peut mettre dans le cnn\n",
    "        #taille [1, 1, 224, 224], batch_size, channels, height, width\n",
    "        image_tensor = torch.tensor(image, dtype=torch.float).unsqueeze(0).unsqueeze(0)  \n",
    "        image_tensor = image_tensor / 255.0   #petite normalisation\n",
    "\n",
    "        with torch.no_grad(): #on calcule pas le gradient (a voir si on le fait apres)\n",
    "            features = self.cnn(image_tensor)\n",
    "        return features.cpu().numpy() #on renvoie le vecteur\n"
   ]
  },
  {
   "cell_type": "code",
   "execution_count": 68,
   "metadata": {},
   "outputs": [],
   "source": [
    "#petite fonction pour afficher toutes les etapes d'une execution d'un agent dans un environement\n",
    "def displayImagesPerAgent(images_per_agent):\n",
    "    n_cols = 4  # nb de colonnes avec des images a afficher\n",
    "    \n",
    "    for env_index, images in enumerate(images_per_agent):\n",
    "        print(f\"Environment {env_index + 1}:\")\n",
    "        n_images = len(images)\n",
    "        n_rows = (n_images + n_cols - 1) // n_cols  #nb de lignes\n",
    "\n",
    "        #trucs a changer pour l'affichage mais pas beosin d'y toucher je pense\n",
    "        figsize_width = 10  \n",
    "        figsize_height = n_rows * (figsize_width / n_cols) * 0.5 \n",
    "        plt.figure(figsize=(figsize_width, figsize_height))\n",
    "\n",
    "        for i, image in enumerate(images):\n",
    "            plt.subplot(n_rows, n_cols, i+1)\n",
    "            plt.imshow(image)\n",
    "            plt.axis('off')  \n",
    "        \n",
    "        plt.tight_layout()\n",
    "        plt.show()"
   ]
  },
  {
   "cell_type": "code",
   "execution_count": 74,
   "metadata": {},
   "outputs": [
    {
     "name": "stdout",
     "output_type": "stream",
     "text": [
      "Donzo got all images\n",
      "Environment 1:\n"
     ]
    },
    {
     "data": {
      "image/png": "[encoded data removed]",
      "text/plain": [
       "<Figure size 720x1170 with 51 Axes>"
      ]
     },
     "metadata": {
      "needs_background": "light"
     },
     "output_type": "display_data"
    },
    {
     "name": "stdout",
     "output_type": "stream",
     "text": [
      "Environment 2:\n"
     ]
    },
    {
     "data": {
      "image/png": "[encoded data removed]",
      "text/plain": [
       "<Figure size 720x1170 with 51 Axes>"
      ]
     },
     "metadata": {
      "needs_background": "light"
     },
     "output_type": "display_data"
    }
   ],
   "source": [
    "nb_env = 2\n",
    "action_dim = 2 #vaudrait mieux prednre depuis le parallelgymagent mais ca va jamais changer ici\n",
    "#autoreset = False pour le moment pouor le simplifier la vie\n",
    "pre_processing_agent = PreProcessingAgent()\n",
    "cnn_agent = CNNAgent()\n",
    "\n",
    "im_env_agent = CustomParallelGymAgent(partial(make_env, config.gym_env.env_name, render_mode=\"rgb_array\", autoreset=False), nb_env).seed(SEED)\n",
    "attribute_access_agent = AttributeAccessAgent(im_env_agent, [], pre_processing_agent, cnn_agent)\n",
    "agents = Agents(im_env_agent, RandomAgent(action_dim), attribute_access_agent)\n",
    "t_agents = TemporalAgent(agents)\n",
    "\n",
    "workspace = Workspace()\n",
    "t_agents(workspace, t=0, stop_variable=\"env/done\", stochastic=True)\n",
    "images = attribute_access_agent.list_images \n",
    "print('Donzo got all images')\n",
    "displayImagesPerAgent(images)"
   ]
  },
  {
   "cell_type": "markdown",
   "metadata": {},
   "source": [
    "OK ON VA ESSAYER DE FAIRE UN AGENT DQN MAINTENANT"
   ]
  }
 ],
 "metadata": {
  "kernelspec": {
   "display_name": "Python 3",
   "language": "python",
   "name": "python3"
  },
  "language_info": {
   "codemirror_mode": {
    "name": "ipython",
    "version": 3
   },
   "file_extension": ".py",
   "mimetype": "text/x-python",
   "name": "python",
   "nbconvert_exporter": "python",
   "pygments_lexer": "ipython3",
   "version": "3.9.12"
  }
 },
 "nbformat": 4,
 "nbformat_minor": 2
}
