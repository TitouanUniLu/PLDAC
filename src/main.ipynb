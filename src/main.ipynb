{
 "cells": [
  {
   "cell_type": "code",
   "execution_count": 2,
   "metadata": {},
   "outputs": [
    {
     "name": "stderr",
     "output_type": "stream",
     "text": [
      "[easypip] Installing bbrl_gymnasium>=0.2.0\n",
      "[easypip] Installing bbrl_gymnasium[box2d]\n",
      "[easypip] Installing bbrl_gymnasium[classic_control]\n"
     ]
    }
   ],
   "source": [
    "from easypip import easyimport, easyinstall, is_notebook\n",
    "easyinstall(\"bbrl>=0.2.2\")\n",
    "easyinstall(\"swig\")\n",
    "easyinstall(\"bbrl_gymnasium>=0.2.0\")\n",
    "easyinstall(\"bbrl_gymnasium[box2d]\")\n",
    "easyinstall(\"bbrl_gymnasium[classic_control]\")\n",
    "easyinstall(\"tensorboard\")\n",
    "easyinstall(\"moviepy\")\n",
    "easyinstall(\"box2d-kengz\")"
   ]
  },
  {
   "cell_type": "code",
   "execution_count": 3,
   "metadata": {},
   "outputs": [],
   "source": [
    "import os\n",
    "import sys\n",
    "from pathlib import Path\n",
    "import math\n",
    "import numpy as np\n",
    "\n",
    "from moviepy.editor import ipython_display as video_display\n",
    "import time\n",
    "from tqdm.auto import tqdm\n",
    "from typing import Tuple, Optional\n",
    "from functools import partial\n",
    "\n",
    "from omegaconf import OmegaConf\n",
    "import torch\n",
    "import bbrl_gymnasium\n",
    "\n",
    "import copy\n",
    "from abc import abstractmethod, ABC\n",
    "import torch.nn as nn\n",
    "import torch.nn.functional as F\n",
    "from time import strftime\n",
    "\n",
    "from gymnasium import Env, Space, Wrapper, make\n",
    "\n",
    "# Imports all the necessary classes and functions from BBRL\n",
    "from bbrl.agents.agent import Agent\n",
    "from bbrl import get_arguments, get_class, instantiate_class\n",
    "# The workspace is the main class in BBRL, this is where all data is collected and stored\n",
    "from bbrl.workspace import Workspace\n",
    "\n",
    "# Agents(agent1,agent2,agent3,...) executes the different agents the one after the other\n",
    "# TemporalAgent(agent) executes an agent over multiple timesteps in the workspace, \n",
    "# or until a given condition is reached\n",
    "from bbrl.agents import Agents, TemporalAgent\n",
    "\n",
    "# ParallelGymAgent is an agent able to execute a batch of gymnasium environments\n",
    "# with auto-resetting. These agents produce multiple variables in the workspace:\n",
    "# ’env/env_obs’, ’env/reward’, ’env/timestep’, ’env/terminated’,\n",
    "# 'env/truncated', 'env/done', ’env/cumulated_reward’, ... \n",
    "# \n",
    "# When called at timestep t=0, the environments are automatically reset. At\n",
    "# timestep t>0, these agents will read the ’action’ variable in the workspace at\n",
    "# time t − 1\n",
    "from bbrl.agents.gymnasium import GymAgent, ParallelGymAgent, make_env, record_video\n",
    "\n",
    "# Replay buffers are useful to store past transitions when training\n",
    "from bbrl.utils.replay_buffer import ReplayBuffer\n",
    "\n",
    "import torch.nn as nn\n",
    "\n",
    "from typing import Tuple\n",
    "from bbrl.agents.gymnasium import make_env, GymAgent, ParallelGymAgent\n",
    "from functools import partial\n",
    "\n",
    "from bbrl import instantiate_class\n",
    "\n",
    "import matplotlib.pyplot as plt\n",
    "\n",
    "from torch.autograd import Variable\n",
    "from torch.nn import Linear, ReLU, CrossEntropyLoss, Sequential, Conv2d, MaxPool2d, Module, Softmax, BatchNorm2d, Dropout\n",
    "from torch.optim import Adam, SGD"
   ]
  },
  {
   "cell_type": "code",
   "execution_count": 4,
   "metadata": {},
   "outputs": [],
   "source": [
    "# Utility function for launching tensorboard\n",
    "# For Colab - otherwise, it is easier and better to launch tensorboard from\n",
    "# the terminal\n",
    "def setup_tensorboard(path):\n",
    "    path = Path(path)\n",
    "    answer = \"\"\n",
    "    if is_notebook():\n",
    "        if get_ipython().__class__.__module__ == \"google.colab._shell\":\n",
    "            answer = \"y\"\n",
    "        while answer not in [\"y\", \"n\"]:\n",
    "                answer = input(f\"Do you want to launch tensorboard in this notebook [y/n] \").lower()\n",
    "\n",
    "    if answer == \"y\":\n",
    "        get_ipython().run_line_magic(\"load_ext\", \"tensorboard\")\n",
    "        get_ipython().run_line_magic(\"tensorboard\", f\"--logdir {path.absolute()}\")\n",
    "    else:\n",
    "        import sys\n",
    "        import os\n",
    "        import os.path as osp\n",
    "        print(f\"Launch tensorboard from the shell:\\n{osp.dirname(sys.executable)}/tensorboard --logdir={path.absolute()}\")"
   ]
  },
  {
   "cell_type": "code",
   "execution_count": 5,
   "metadata": {},
   "outputs": [],
   "source": [
    "SEED = 42\n",
    "\n",
    "params={\n",
    "  \"save_best\": False,\n",
    "  \"logger\":{\n",
    "    \"classname\": \"bbrl.utils.logger.TFLogger\",\n",
    "    \"log_dir\": \"./tblogs/dqn-buffer-\" + str(time.time()),\n",
    "    \"cache_size\": 10000,\n",
    "    \"every_n_seconds\": 10,\n",
    "    \"verbose\": False,    \n",
    "    },\n",
    "\n",
    "  \"algorithm\":{\n",
    "    \"seed\": SEED,\n",
    "    \"max_grad_norm\": 0.5,\n",
    "    \"epsilon\": 0.02,\n",
    "    \"n_envs\": 8,\n",
    "    \"n_steps\": 32,\n",
    "    \"n_updates\": 32,\n",
    "    \"eval_interval\": 2000,\n",
    "    \"learning_starts\": 2000,\n",
    "    \"nb_evals\": 10,\n",
    "    \"buffer_size\": 1e6,\n",
    "    \"batch_size\": 256,\n",
    "    \"target_critic_update\": 5000,\n",
    "    \"max_epochs\": 100, #MAX ITER \n",
    "    \"discount_factor\": 0.99,\n",
    "    \"architecture\":{\"hidden_size\": [64, 64]},\n",
    "  },\n",
    "  \"gym_env\":{\n",
    "    \"env_name\": \"CartPole-v1\",\n",
    "  },\n",
    "  \"optimizer\":\n",
    "  {\n",
    "    \"classname\": \"torch.optim.Adam\",\n",
    "    \"lr\": 1e-3,\n",
    "  }\n",
    "}\n",
    "\n",
    "config=OmegaConf.create(params)"
   ]
  },
  {
   "cell_type": "code",
   "execution_count": 6,
   "metadata": {},
   "outputs": [],
   "source": [
    "from keras.models import Sequential\n",
    "from keras.layers import Conv2D, MaxPooling2D, Flatten, Dense\n",
    "from keras.optimizers import Adam\n",
    "\n",
    "from keras.models import Sequential\n",
    "from keras.layers import Conv2D, MaxPooling2D, Flatten\n",
    "import numpy as np\n",
    "import random as python_random\n",
    "import tensorflow as tf\n",
    "\n",
    "\n",
    "def set_seeds(seed):\n",
    "    np.random.seed(seed)\n",
    "    python_random.seed(seed)\n",
    "    tf.random.set_seed(seed)\n",
    "\n",
    "class cnnAgent:\n",
    "    def __init__(self):\n",
    "        set_seeds(SEED) \n",
    "\n",
    "    def build_feature_extractor_model(self, input_shape):\n",
    "        model = Sequential()\n",
    "        model.add(Conv2D(32, (7, 7), strides=(2, 2), activation='relu', padding=\"same\", input_shape=(151, 562, 1)))\n",
    "        model.add(MaxPooling2D(pool_size=(2, 2), padding=\"same\"))\n",
    "        model.add(Conv2D(64, (7, 7), strides=(2, 2), padding=\"same\", activation='relu'))\n",
    "        model.add(MaxPooling2D(pool_size=(2, 2), padding=\"same\"))\n",
    "        model.add(Conv2D(64, (7, 7), strides=(2, 2), padding=\"same\", activation='relu'))\n",
    "        model.add(MaxPooling2D(pool_size=(2, 2), padding=\"same\"))\n",
    "        model.add(Flatten())\n",
    "        model.add(Dense(100, activation='relu')) #a changer la valeur ici pour la taille du ouput\n",
    "        return model\n",
    "\n",
    "    def extract_features(self, image):\n",
    "        image_resized = np.expand_dims(np.expand_dims(image, axis=-1), axis=0)  \n",
    "        if not hasattr(self, 'model'):\n",
    "            self.model = self.build_feature_extractor_model(input_shape=image_resized.shape[1:])\n",
    "        features = self.model.predict(image_resized)\n",
    "        return features[0]\n"
   ]
  },
  {
   "cell_type": "code",
   "execution_count": 7,
   "metadata": {},
   "outputs": [],
   "source": [
    "from PIL import Image\n",
    "\n",
    "class preProcessingAgent():\n",
    "    def __init__(self, parallel_gym_agent):\n",
    "          self.parallel_gym_agent = parallel_gym_agent\n",
    "\n",
    "    def preProcess(self, im):\n",
    "        #plt.imshow(im) #CHANGE HERE TO SEE ORIGINAL FRAME\n",
    "        #plt.show()\n",
    "        img = Image.fromarray(im.astype(np.uint8))\n",
    "        img_gray = img.convert('L')\n",
    "        img_gray = img_gray.resize((564, 152)) #a modifier peut etre im.shape[1], im.shape[0])\n",
    "        img_array = np.array(img_gray)\n",
    "\n",
    "        return img_array\n",
    "\n",
    "    def crop(self, im):\n",
    "        im = Image.fromarray(im.astype(np.uint8))\n",
    "        width, height = im.size\n",
    "    \n",
    "        new_width, new_height = 300, 300  # New dimensions for the crop\n",
    "        left = (width - new_width)/8\n",
    "        top = (height - new_height)/0.6\n",
    "        right = (width + new_width)/1.5\n",
    "        bottom = (height + new_height)/2.2\n",
    "        \n",
    "        im1 = im.crop((left, top, right, bottom))\n",
    "        img_array = np.array(im1)\n",
    "        return img_array\n",
    "\n",
    "    def getFrame(self, env_agent):\n",
    "        env: Env = env_agent.envs[0]\n",
    "        env.reset()\n",
    "        im = env.render()\n",
    "        im = self.crop(im)\n",
    "        im = self.preProcess(im)\n",
    "        return im\n"
   ]
  },
  {
   "cell_type": "code",
   "execution_count": 8,
   "metadata": {},
   "outputs": [
    {
     "name": "stdout",
     "output_type": "stream",
     "text": [
      "Environment: observation space in R^4 and action space R^2\n"
     ]
    },
    {
     "data": {
      "text/plain": [
       "'\\npreProc = preProcessingAgent(env_agent) # agent qui fait le pre processing\\nim = preProc.getFrame(env_agent) #on recupere l\\'image\\nfeature_extractor = cnnAgent()\\nfeatures = feature_extractor.extract_features(im) #est ce qu\\'on filtre les 0 pour des raisons de simplicite??\\nprint(\"Extracted features shape:\", features.shape)\\nprint(\"Extracted features array:\", features)\\n'"
      ]
     },
     "execution_count": 8,
     "metadata": {},
     "output_type": "execute_result"
    }
   ],
   "source": [
    "nb_env = 1\n",
    "env_agent = ParallelGymAgent(partial(make_env, config.gym_env.env_name, render_mode=\"rgb_array\", autoreset=True), nb_env).seed(SEED) #le int a la fin indique le nombre d'environements\n",
    "obs_size, action_dim = env_agent.get_obs_and_actions_sizes()\n",
    "print(f\"Environment: observation space in R^{obs_size} and action space R^{action_dim}\")\n",
    "\n",
    "'''\n",
    "preProc = preProcessingAgent(env_agent) # agent qui fait le pre processing\n",
    "im = preProc.getFrame(env_agent) #on recupere l'image\n",
    "feature_extractor = cnnAgent()\n",
    "features = feature_extractor.extract_features(im) #est ce qu'on filtre les 0 pour des raisons de simplicite??\n",
    "print(\"Extracted features shape:\", features.shape)\n",
    "print(\"Extracted features array:\", features)\n",
    "'''"
   ]
  },
  {
   "cell_type": "markdown",
   "metadata": {},
   "source": [
    "ON TESTE AVEC UNE SEULE ACTION RANDOM ICI C'EST JUSTE UN TEST"
   ]
  },
  {
   "cell_type": "code",
   "execution_count": 9,
   "metadata": {},
   "outputs": [
    {
     "name": "stdout",
     "output_type": "stream",
     "text": [
      "Observation tensor([[-0.0456, -0.0028, -0.0037, -0.0022]])\n"
     ]
    }
   ],
   "source": [
    "workspace = Workspace() \n",
    "\n",
    "# Execute the first step\n",
    "env_agent(workspace, t=0)\n",
    "\n",
    "# Our first set of observations. The size of the observation space is 4, and we have 3 environments.\n",
    "obs = workspace.get(\"env/env_obs\", 0)\n",
    "print(\"Observation\", obs)"
   ]
  },
  {
   "cell_type": "code",
   "execution_count": 10,
   "metadata": {},
   "outputs": [
    {
     "data": {
      "image/png": "[encoded data removed]",
      "text/plain": [
       "<Figure size 640x480 with 1 Axes>"
      ]
     },
     "metadata": {},
     "output_type": "display_data"
    }
   ],
   "source": [
    "def render(env_agent):\n",
    "    env0 = env_agent.envs[0]\n",
    "    im0 = env0.render()\n",
    "    plt.imshow(im0)\n",
    "    return im0\n",
    "\n",
    "im = render(env_agent=env_agent)"
   ]
  },
  {
   "cell_type": "code",
   "execution_count": 11,
   "metadata": {},
   "outputs": [
    {
     "name": "stdout",
     "output_type": "stream",
     "text": [
      "tensor([0])\n"
     ]
    },
    {
     "data": {
      "image/png": "[encoded data removed]",
      "text/plain": [
       "<Figure size 640x480 with 1 Axes>"
      ]
     },
     "metadata": {},
     "output_type": "display_data"
    }
   ],
   "source": [
    "# Sets the next action\n",
    "action = torch.randint(0, action_dim, (nb_env, ))\n",
    "workspace.set(\"action\", 0, action)\n",
    "print(action)\n",
    "env_agent(workspace, t=1)\n",
    "\n",
    "# And perform one step\n",
    "workspace.get(\"env/env_obs\", 0)\n",
    "\n",
    "im = render(env_agent=env_agent)\n"
   ]
  },
  {
   "cell_type": "code",
   "execution_count": 12,
   "metadata": {},
   "outputs": [
    {
     "name": "stdout",
     "output_type": "stream",
     "text": [
      "env/env_obs tensor([[[-0.0456, -0.0028, -0.0037, -0.0022]],\n",
      "\n",
      "        [[-0.0456, -0.1979, -0.0038,  0.2893]]])\n",
      "env/terminated tensor([[False],\n",
      "        [False]])\n",
      "env/truncated tensor([[False],\n",
      "        [False]])\n",
      "env/done tensor([[False],\n",
      "        [False]])\n",
      "env/reward tensor([[0.],\n",
      "        [1.]])\n",
      "env/cumulated_reward tensor([[0.],\n",
      "        [1.]])\n",
      "env/timestep tensor([[0],\n",
      "        [1]])\n",
      "action tensor([[0]])\n"
     ]
    }
   ],
   "source": [
    "for key in workspace.variables.keys():\n",
    "    print(key, workspace[key])"
   ]
  },
  {
   "cell_type": "markdown",
   "metadata": {},
   "source": [
    "TEST AVEC UN RANDOM AGENT"
   ]
  },
  {
   "cell_type": "code",
   "execution_count": 13,
   "metadata": {},
   "outputs": [],
   "source": [
    "class RandomAgent(Agent):\n",
    "    def __init__(self, action_dim):\n",
    "        super().__init__()\n",
    "        self.action_dim = action_dim\n",
    "        self.all_observations = []\n",
    "\n",
    "    def forward(self, t: int, choose_action=True, **kwargs):\n",
    "        \"\"\"An Agent can use self.workspace\"\"\"\n",
    "        obs = self.get((\"env/env_obs\", t))\n",
    "        action = torch.randint(0, self.action_dim, (len(obs), ))\n",
    "        self.set((\"action\", t), action)\n",
    "        self.all_observations.append(obs)\n",
    "# Each agent is run in the order given when constructing Agents\n",
    "agents = Agents(env_agent, RandomAgent(action_dim))\n",
    "\n",
    "# And the TemporalAgent allows to run through time\n",
    "t_agents = TemporalAgent(agents)"
   ]
  },
  {
   "cell_type": "code",
   "execution_count": 14,
   "metadata": {},
   "outputs": [],
   "source": [
    "class StateCaptureAgent(Agent):\n",
    "    def __init__(self, storage_list):\n",
    "        super().__init__()\n",
    "        self.storage_list = storage_list  # This list will store the states\n",
    "\n",
    "    def forward(self, t: int, **kwargs):\n",
    "        # Retrieve the current state (observation) from the workspace\n",
    "        current_state = self.get((\"env/env_obs\", t))\n",
    "        # Append the current state to the storage list\n",
    "        self.storage_list.append(current_state)\n",
    "        "
   ]
  },
  {
   "cell_type": "code",
   "execution_count": 15,
   "metadata": {},
   "outputs": [],
   "source": [
    "class CustomParallelGymAgent(ParallelGymAgent):\n",
    "    def __init__(self, *args, **kwargs):\n",
    "        super().__init__(*args, **kwargs)\n",
    "    \n",
    "    def get_my_attribute(self):\n",
    "        # Replace 'my_attribute' with the actual attribute you're interested in\n",
    "        return self.envs"
   ]
  },
  {
   "cell_type": "code",
   "execution_count": 34,
   "metadata": {},
   "outputs": [],
   "source": [
    "class AttributeAccessAgent(Agent):\n",
    "    def __init__(self, env_agent, image_list):\n",
    "        super().__init__()\n",
    "        self.env_agent = env_agent  # This is your CustomParallelGymAgent\n",
    "        self.list_image = image_list\n",
    "    \n",
    "    def forward(self, t: int, **kwargs):\n",
    "        # Access the attribute using the method you defined in CustomParallelGymAgent\n",
    "        image = self.env_agent.get_my_attribute()[0]\n",
    "        im = image.render()\n",
    "        self.list_image.append(im)\n",
    "        #print(\"obtained image at time \", t)\n",
    "        "
   ]
  },
  {
   "cell_type": "code",
   "execution_count": 32,
   "metadata": {},
   "outputs": [
    {
     "data": {
      "text/plain": [
       "'\\nprint(all_states)\\nfor idx, state in enumerate(all_states):\\n    print(f\"State at timestep {idx}: {state}\")\\nworkspace[\"env/done\"].shape, workspace[\"env/done\"][-10:]\\n'"
      ]
     },
     "execution_count": 32,
     "metadata": {},
     "output_type": "execute_result"
    }
   ],
   "source": [
    "''' BASIC SYNTAX EXAMPLE'''\n",
    "workspace = Workspace()\n",
    "all_states = []\n",
    "nb_env = 1\n",
    "env_agent = ParallelGymAgent(partial(make_env, config.gym_env.env_name, render_mode=\"rgb_array\", autoreset=True), nb_env).seed(SEED) #le int a la fin indique le nombre d'environements\n",
    "\n",
    "state_capture_agent = StateCaptureAgent(all_states)\n",
    "agents = Agents(env_agent, RandomAgent(action_dim), state_capture_agent)\n",
    "t_agents = TemporalAgent(agents)\n",
    "\n",
    "t_agents(workspace, t=0, stop_variable=\"env/done\", stochastic=True)\n",
    "\n",
    "'''\n",
    "print(all_states)\n",
    "for idx, state in enumerate(all_states):\n",
    "    print(f\"State at timestep {idx}: {state}\")\n",
    "workspace[\"env/done\"].shape, workspace[\"env/done\"][-10:]\n",
    "'''"
   ]
  },
  {
   "cell_type": "code",
   "execution_count": 35,
   "metadata": {},
   "outputs": [
    {
     "data": {
      "image/png": "[encoded data removed]",
      "text/plain": [
       "<Figure size 800x1200 with 17 Axes>"
      ]
     },
     "metadata": {},
     "output_type": "display_data"
    }
   ],
   "source": [
    "im_env_agent = CustomParallelGymAgent(partial(make_env, config.gym_env.env_name, render_mode=\"rgb_array\", autoreset=True), nb_env).seed(SEED)\n",
    "attribute_access_agent = AttributeAccessAgent(im_env_agent, [])\n",
    "agents = Agents(im_env_agent, RandomAgent(action_dim), attribute_access_agent)\n",
    "t_agents = TemporalAgent(agents)\n",
    "workspace = Workspace()\n",
    "t_agents(workspace, t=0, stop_variable=\"env/done\", stochastic=True)\n",
    "images = attribute_access_agent.list_image\n",
    "\n",
    "def displayImages(images):\n",
    "    n_images = len(images)\n",
    "    n_cols = 3  # For example, adjust based on your preference\n",
    "    n_rows = (n_images + n_cols - 1) // n_cols\n",
    "\n",
    "    figsize_width = 8  # Adjust width as needed\n",
    "    figsize_height = n_rows * (figsize_width / n_cols) * 0.75  # Adjust height based on number of rows, keeping aspect ratio\n",
    "    plt.figure(figsize=(figsize_width, figsize_height))\n",
    "\n",
    "    for i, image in enumerate(images):\n",
    "        plt.subplot(n_rows, n_cols, i+1)\n",
    "        plt.imshow(image)\n",
    "        plt.axis('off')  # Optional: to hide axes\n",
    "\n",
    "    plt.show()\n",
    "\n",
    "displayImages(images)"
   ]
  }
 ],
 "metadata": {
  "kernelspec": {
   "display_name": "Python 3",
   "language": "python",
   "name": "python3"
  },
  "language_info": {
   "codemirror_mode": {
    "name": "ipython",
    "version": 3
   },
   "file_extension": ".py",
   "mimetype": "text/x-python",
   "name": "python",
   "nbconvert_exporter": "python",
   "pygments_lexer": "ipython3",
   "version": "3.12.0"
  }
 },
 "nbformat": 4,
 "nbformat_minor": 2
}
